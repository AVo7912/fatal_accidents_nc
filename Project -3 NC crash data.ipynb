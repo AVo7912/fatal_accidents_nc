{
 "cells": [
  {
   "cell_type": "markdown",
   "id": "f2a39d12",
   "metadata": {},
   "source": [
    "   # Project 3 - Data Visualization using plotly express- NC Accidents in 2021"
   ]
  },
  {
   "cell_type": "markdown",
   "id": "76e36e19",
   "metadata": {},
   "source": [
    "   ## Data Cleanup"
   ]
  },
  {
   "cell_type": "code",
   "execution_count": 49,
   "id": "11b87df3",
   "metadata": {},
   "outputs": [],
   "source": [
    "import pandas as pd\n",
    "import json\n",
    "from pathlib import Path\n",
    "import plotly.express as px\n",
    "import datetime as dt\n",
    "pd.options.mode.chained_assignment = None  # default='warn'"
   ]
  },
  {
   "cell_type": "code",
   "execution_count": 50,
   "id": "54024bd3",
   "metadata": {},
   "outputs": [],
   "source": [
    "# Set the Path for the Csv Files\n",
    "filepath = Path(\"Resources/accidents_nc_2021.csv\")"
   ]
  },
  {
   "cell_type": "code",
   "execution_count": 51,
   "id": "2cc1a53e",
   "metadata": {},
   "outputs": [
    {
     "data": {
      "text/html": [
       "<div>\n",
       "<style scoped>\n",
       "    .dataframe tbody tr th:only-of-type {\n",
       "        vertical-align: middle;\n",
       "    }\n",
       "\n",
       "    .dataframe tbody tr th {\n",
       "        vertical-align: top;\n",
       "    }\n",
       "\n",
       "    .dataframe thead th {\n",
       "        text-align: right;\n",
       "    }\n",
       "</style>\n",
       "<table border=\"1\" class=\"dataframe\">\n",
       "  <thead>\n",
       "    <tr style=\"text-align: right;\">\n",
       "      <th></th>\n",
       "      <th>STATE</th>\n",
       "      <th>STATENAME</th>\n",
       "      <th>ST_CASE</th>\n",
       "      <th>PEDS</th>\n",
       "      <th>PERNOTMVIT</th>\n",
       "      <th>VE_TOTAL</th>\n",
       "      <th>VE_FORMS</th>\n",
       "      <th>PVH_INVL</th>\n",
       "      <th>PERSONS</th>\n",
       "      <th>PERMVIT</th>\n",
       "      <th>...</th>\n",
       "      <th>NOT_MINNAME</th>\n",
       "      <th>ARR_HOUR</th>\n",
       "      <th>ARR_HOURNAME</th>\n",
       "      <th>ARR_MIN</th>\n",
       "      <th>ARR_MINNAME</th>\n",
       "      <th>HOSP_HR</th>\n",
       "      <th>HOSP_HRNAME</th>\n",
       "      <th>HOSP_MN</th>\n",
       "      <th>HOSP_MNNAME</th>\n",
       "      <th>FATALS</th>\n",
       "    </tr>\n",
       "  </thead>\n",
       "  <tbody>\n",
       "    <tr>\n",
       "      <th>0</th>\n",
       "      <td>1</td>\n",
       "      <td>Alabama</td>\n",
       "      <td>10001</td>\n",
       "      <td>0</td>\n",
       "      <td>0</td>\n",
       "      <td>2</td>\n",
       "      <td>2</td>\n",
       "      <td>0</td>\n",
       "      <td>3</td>\n",
       "      <td>3</td>\n",
       "      <td>...</td>\n",
       "      <td>13</td>\n",
       "      <td>22</td>\n",
       "      <td>10:00pm-10:59pm</td>\n",
       "      <td>25</td>\n",
       "      <td>25</td>\n",
       "      <td>23</td>\n",
       "      <td>11:00pm-11:59pm</td>\n",
       "      <td>2</td>\n",
       "      <td>2</td>\n",
       "      <td>2</td>\n",
       "    </tr>\n",
       "    <tr>\n",
       "      <th>1</th>\n",
       "      <td>1</td>\n",
       "      <td>Alabama</td>\n",
       "      <td>10002</td>\n",
       "      <td>0</td>\n",
       "      <td>0</td>\n",
       "      <td>1</td>\n",
       "      <td>1</td>\n",
       "      <td>0</td>\n",
       "      <td>2</td>\n",
       "      <td>2</td>\n",
       "      <td>...</td>\n",
       "      <td>Unknown</td>\n",
       "      <td>19</td>\n",
       "      <td>7:00pm-7:59pm</td>\n",
       "      <td>9</td>\n",
       "      <td>9</td>\n",
       "      <td>88</td>\n",
       "      <td>Not Applicable (Not Transported)</td>\n",
       "      <td>88</td>\n",
       "      <td>Not Applicable (Not Transported)</td>\n",
       "      <td>2</td>\n",
       "    </tr>\n",
       "    <tr>\n",
       "      <th>2</th>\n",
       "      <td>1</td>\n",
       "      <td>Alabama</td>\n",
       "      <td>10003</td>\n",
       "      <td>1</td>\n",
       "      <td>1</td>\n",
       "      <td>1</td>\n",
       "      <td>1</td>\n",
       "      <td>0</td>\n",
       "      <td>1</td>\n",
       "      <td>1</td>\n",
       "      <td>...</td>\n",
       "      <td>29</td>\n",
       "      <td>9</td>\n",
       "      <td>9:00am-9:59am</td>\n",
       "      <td>40</td>\n",
       "      <td>40</td>\n",
       "      <td>88</td>\n",
       "      <td>Not Applicable (Not Transported)</td>\n",
       "      <td>88</td>\n",
       "      <td>Not Applicable (Not Transported)</td>\n",
       "      <td>1</td>\n",
       "    </tr>\n",
       "    <tr>\n",
       "      <th>3</th>\n",
       "      <td>1</td>\n",
       "      <td>Alabama</td>\n",
       "      <td>10004</td>\n",
       "      <td>0</td>\n",
       "      <td>0</td>\n",
       "      <td>1</td>\n",
       "      <td>1</td>\n",
       "      <td>0</td>\n",
       "      <td>1</td>\n",
       "      <td>1</td>\n",
       "      <td>...</td>\n",
       "      <td>20</td>\n",
       "      <td>16</td>\n",
       "      <td>4:00pm-4:59pm</td>\n",
       "      <td>28</td>\n",
       "      <td>28</td>\n",
       "      <td>99</td>\n",
       "      <td>Unknown</td>\n",
       "      <td>99</td>\n",
       "      <td>Unknown EMS Hospital Arrival Time</td>\n",
       "      <td>1</td>\n",
       "    </tr>\n",
       "    <tr>\n",
       "      <th>4</th>\n",
       "      <td>1</td>\n",
       "      <td>Alabama</td>\n",
       "      <td>10005</td>\n",
       "      <td>0</td>\n",
       "      <td>0</td>\n",
       "      <td>2</td>\n",
       "      <td>2</td>\n",
       "      <td>0</td>\n",
       "      <td>4</td>\n",
       "      <td>4</td>\n",
       "      <td>...</td>\n",
       "      <td>20</td>\n",
       "      <td>22</td>\n",
       "      <td>10:00pm-10:59pm</td>\n",
       "      <td>30</td>\n",
       "      <td>30</td>\n",
       "      <td>88</td>\n",
       "      <td>Not Applicable (Not Transported)</td>\n",
       "      <td>88</td>\n",
       "      <td>Not Applicable (Not Transported)</td>\n",
       "      <td>1</td>\n",
       "    </tr>\n",
       "  </tbody>\n",
       "</table>\n",
       "<p>5 rows × 80 columns</p>\n",
       "</div>"
      ],
      "text/plain": [
       "   STATE STATENAME  ST_CASE  PEDS  PERNOTMVIT  VE_TOTAL  VE_FORMS  PVH_INVL  \\\n",
       "0      1   Alabama    10001     0           0         2         2         0   \n",
       "1      1   Alabama    10002     0           0         1         1         0   \n",
       "2      1   Alabama    10003     1           1         1         1         0   \n",
       "3      1   Alabama    10004     0           0         1         1         0   \n",
       "4      1   Alabama    10005     0           0         2         2         0   \n",
       "\n",
       "   PERSONS  PERMVIT  ...  NOT_MINNAME ARR_HOUR     ARR_HOURNAME ARR_MIN  \\\n",
       "0        3        3  ...           13       22  10:00pm-10:59pm      25   \n",
       "1        2        2  ...      Unknown       19    7:00pm-7:59pm       9   \n",
       "2        1        1  ...           29        9    9:00am-9:59am      40   \n",
       "3        1        1  ...           20       16    4:00pm-4:59pm      28   \n",
       "4        4        4  ...           20       22  10:00pm-10:59pm      30   \n",
       "\n",
       "   ARR_MINNAME HOSP_HR                       HOSP_HRNAME  HOSP_MN  \\\n",
       "0           25      23                   11:00pm-11:59pm        2   \n",
       "1            9      88  Not Applicable (Not Transported)       88   \n",
       "2           40      88  Not Applicable (Not Transported)       88   \n",
       "3           28      99                           Unknown       99   \n",
       "4           30      88  Not Applicable (Not Transported)       88   \n",
       "\n",
       "                         HOSP_MNNAME FATALS  \n",
       "0                                  2      2  \n",
       "1   Not Applicable (Not Transported)      2  \n",
       "2   Not Applicable (Not Transported)      1  \n",
       "3  Unknown EMS Hospital Arrival Time      1  \n",
       "4   Not Applicable (Not Transported)      1  \n",
       "\n",
       "[5 rows x 80 columns]"
      ]
     },
     "execution_count": 51,
     "metadata": {},
     "output_type": "execute_result"
    }
   ],
   "source": [
    "# Read the csv files using Pandas\n",
    "nc_original_df = pd.read_csv(filepath,encoding='latin-1')\n",
    "nc_original_df.head()"
   ]
  },
  {
   "cell_type": "code",
   "execution_count": 52,
   "id": "5b0534c3",
   "metadata": {},
   "outputs": [
    {
     "data": {
      "text/html": [
       "<div>\n",
       "<style scoped>\n",
       "    .dataframe tbody tr th:only-of-type {\n",
       "        vertical-align: middle;\n",
       "    }\n",
       "\n",
       "    .dataframe tbody tr th {\n",
       "        vertical-align: top;\n",
       "    }\n",
       "\n",
       "    .dataframe thead th {\n",
       "        text-align: right;\n",
       "    }\n",
       "</style>\n",
       "<table border=\"1\" class=\"dataframe\">\n",
       "  <thead>\n",
       "    <tr style=\"text-align: right;\">\n",
       "      <th></th>\n",
       "      <th>STATE</th>\n",
       "      <th>STATENAME</th>\n",
       "      <th>ST_CASE</th>\n",
       "      <th>PEDS</th>\n",
       "      <th>PERNOTMVIT</th>\n",
       "      <th>VE_TOTAL</th>\n",
       "      <th>VE_FORMS</th>\n",
       "      <th>PVH_INVL</th>\n",
       "      <th>PERSONS</th>\n",
       "      <th>PERMVIT</th>\n",
       "      <th>...</th>\n",
       "      <th>NOT_MINNAME</th>\n",
       "      <th>ARR_HOUR</th>\n",
       "      <th>ARR_HOURNAME</th>\n",
       "      <th>ARR_MIN</th>\n",
       "      <th>ARR_MINNAME</th>\n",
       "      <th>HOSP_HR</th>\n",
       "      <th>HOSP_HRNAME</th>\n",
       "      <th>HOSP_MN</th>\n",
       "      <th>HOSP_MNNAME</th>\n",
       "      <th>FATALS</th>\n",
       "    </tr>\n",
       "  </thead>\n",
       "  <tbody>\n",
       "    <tr>\n",
       "      <th>24857</th>\n",
       "      <td>37</td>\n",
       "      <td>North Carolina</td>\n",
       "      <td>370001</td>\n",
       "      <td>0</td>\n",
       "      <td>0</td>\n",
       "      <td>1</td>\n",
       "      <td>1</td>\n",
       "      <td>0</td>\n",
       "      <td>1</td>\n",
       "      <td>1</td>\n",
       "      <td>...</td>\n",
       "      <td>27</td>\n",
       "      <td>15</td>\n",
       "      <td>3:00pm-3:59pm</td>\n",
       "      <td>35</td>\n",
       "      <td>35</td>\n",
       "      <td>88</td>\n",
       "      <td>Not Applicable (Not Transported)</td>\n",
       "      <td>88</td>\n",
       "      <td>Not Applicable (Not Transported)</td>\n",
       "      <td>1</td>\n",
       "    </tr>\n",
       "    <tr>\n",
       "      <th>24858</th>\n",
       "      <td>37</td>\n",
       "      <td>North Carolina</td>\n",
       "      <td>370002</td>\n",
       "      <td>0</td>\n",
       "      <td>0</td>\n",
       "      <td>2</td>\n",
       "      <td>1</td>\n",
       "      <td>1</td>\n",
       "      <td>2</td>\n",
       "      <td>2</td>\n",
       "      <td>...</td>\n",
       "      <td>40</td>\n",
       "      <td>15</td>\n",
       "      <td>3:00pm-3:59pm</td>\n",
       "      <td>44</td>\n",
       "      <td>44</td>\n",
       "      <td>99</td>\n",
       "      <td>Unknown</td>\n",
       "      <td>99</td>\n",
       "      <td>Unknown EMS Hospital Arrival Time</td>\n",
       "      <td>2</td>\n",
       "    </tr>\n",
       "    <tr>\n",
       "      <th>24859</th>\n",
       "      <td>37</td>\n",
       "      <td>North Carolina</td>\n",
       "      <td>370003</td>\n",
       "      <td>0</td>\n",
       "      <td>0</td>\n",
       "      <td>2</td>\n",
       "      <td>2</td>\n",
       "      <td>0</td>\n",
       "      <td>4</td>\n",
       "      <td>4</td>\n",
       "      <td>...</td>\n",
       "      <td>Unknown</td>\n",
       "      <td>99</td>\n",
       "      <td>Unknown EMS Scene Arrival Hour</td>\n",
       "      <td>99</td>\n",
       "      <td>Unknown EMS Scene Arrival Minutes</td>\n",
       "      <td>99</td>\n",
       "      <td>Unknown</td>\n",
       "      <td>99</td>\n",
       "      <td>Unknown EMS Hospital Arrival Time</td>\n",
       "      <td>1</td>\n",
       "    </tr>\n",
       "    <tr>\n",
       "      <th>24860</th>\n",
       "      <td>37</td>\n",
       "      <td>North Carolina</td>\n",
       "      <td>370004</td>\n",
       "      <td>0</td>\n",
       "      <td>0</td>\n",
       "      <td>1</td>\n",
       "      <td>1</td>\n",
       "      <td>0</td>\n",
       "      <td>2</td>\n",
       "      <td>2</td>\n",
       "      <td>...</td>\n",
       "      <td>Unknown</td>\n",
       "      <td>99</td>\n",
       "      <td>Unknown EMS Scene Arrival Hour</td>\n",
       "      <td>99</td>\n",
       "      <td>Unknown EMS Scene Arrival Minutes</td>\n",
       "      <td>88</td>\n",
       "      <td>Not Applicable (Not Transported)</td>\n",
       "      <td>88</td>\n",
       "      <td>Not Applicable (Not Transported)</td>\n",
       "      <td>1</td>\n",
       "    </tr>\n",
       "    <tr>\n",
       "      <th>24861</th>\n",
       "      <td>37</td>\n",
       "      <td>North Carolina</td>\n",
       "      <td>370005</td>\n",
       "      <td>0</td>\n",
       "      <td>0</td>\n",
       "      <td>1</td>\n",
       "      <td>1</td>\n",
       "      <td>0</td>\n",
       "      <td>1</td>\n",
       "      <td>1</td>\n",
       "      <td>...</td>\n",
       "      <td>Unknown</td>\n",
       "      <td>99</td>\n",
       "      <td>Unknown EMS Scene Arrival Hour</td>\n",
       "      <td>99</td>\n",
       "      <td>Unknown EMS Scene Arrival Minutes</td>\n",
       "      <td>99</td>\n",
       "      <td>Unknown</td>\n",
       "      <td>99</td>\n",
       "      <td>Unknown EMS Hospital Arrival Time</td>\n",
       "      <td>1</td>\n",
       "    </tr>\n",
       "    <tr>\n",
       "      <th>...</th>\n",
       "      <td>...</td>\n",
       "      <td>...</td>\n",
       "      <td>...</td>\n",
       "      <td>...</td>\n",
       "      <td>...</td>\n",
       "      <td>...</td>\n",
       "      <td>...</td>\n",
       "      <td>...</td>\n",
       "      <td>...</td>\n",
       "      <td>...</td>\n",
       "      <td>...</td>\n",
       "      <td>...</td>\n",
       "      <td>...</td>\n",
       "      <td>...</td>\n",
       "      <td>...</td>\n",
       "      <td>...</td>\n",
       "      <td>...</td>\n",
       "      <td>...</td>\n",
       "      <td>...</td>\n",
       "      <td>...</td>\n",
       "      <td>...</td>\n",
       "    </tr>\n",
       "    <tr>\n",
       "      <th>26387</th>\n",
       "      <td>37</td>\n",
       "      <td>North Carolina</td>\n",
       "      <td>371554</td>\n",
       "      <td>2</td>\n",
       "      <td>2</td>\n",
       "      <td>3</td>\n",
       "      <td>3</td>\n",
       "      <td>0</td>\n",
       "      <td>1</td>\n",
       "      <td>1</td>\n",
       "      <td>...</td>\n",
       "      <td>Unknown</td>\n",
       "      <td>99</td>\n",
       "      <td>Unknown EMS Scene Arrival Hour</td>\n",
       "      <td>99</td>\n",
       "      <td>Unknown EMS Scene Arrival Minutes</td>\n",
       "      <td>99</td>\n",
       "      <td>Unknown</td>\n",
       "      <td>99</td>\n",
       "      <td>Unknown EMS Hospital Arrival Time</td>\n",
       "      <td>1</td>\n",
       "    </tr>\n",
       "    <tr>\n",
       "      <th>26388</th>\n",
       "      <td>37</td>\n",
       "      <td>North Carolina</td>\n",
       "      <td>371555</td>\n",
       "      <td>0</td>\n",
       "      <td>0</td>\n",
       "      <td>1</td>\n",
       "      <td>1</td>\n",
       "      <td>0</td>\n",
       "      <td>1</td>\n",
       "      <td>1</td>\n",
       "      <td>...</td>\n",
       "      <td>Unknown</td>\n",
       "      <td>99</td>\n",
       "      <td>Unknown EMS Scene Arrival Hour</td>\n",
       "      <td>99</td>\n",
       "      <td>Unknown EMS Scene Arrival Minutes</td>\n",
       "      <td>99</td>\n",
       "      <td>Unknown</td>\n",
       "      <td>99</td>\n",
       "      <td>Unknown EMS Hospital Arrival Time</td>\n",
       "      <td>1</td>\n",
       "    </tr>\n",
       "    <tr>\n",
       "      <th>26389</th>\n",
       "      <td>37</td>\n",
       "      <td>North Carolina</td>\n",
       "      <td>371556</td>\n",
       "      <td>0</td>\n",
       "      <td>0</td>\n",
       "      <td>3</td>\n",
       "      <td>3</td>\n",
       "      <td>0</td>\n",
       "      <td>4</td>\n",
       "      <td>4</td>\n",
       "      <td>...</td>\n",
       "      <td>Unknown</td>\n",
       "      <td>99</td>\n",
       "      <td>Unknown EMS Scene Arrival Hour</td>\n",
       "      <td>99</td>\n",
       "      <td>Unknown EMS Scene Arrival Minutes</td>\n",
       "      <td>99</td>\n",
       "      <td>Unknown</td>\n",
       "      <td>99</td>\n",
       "      <td>Unknown EMS Hospital Arrival Time</td>\n",
       "      <td>1</td>\n",
       "    </tr>\n",
       "    <tr>\n",
       "      <th>26390</th>\n",
       "      <td>37</td>\n",
       "      <td>North Carolina</td>\n",
       "      <td>371557</td>\n",
       "      <td>1</td>\n",
       "      <td>1</td>\n",
       "      <td>1</td>\n",
       "      <td>1</td>\n",
       "      <td>0</td>\n",
       "      <td>1</td>\n",
       "      <td>1</td>\n",
       "      <td>...</td>\n",
       "      <td>Unknown</td>\n",
       "      <td>99</td>\n",
       "      <td>Unknown EMS Scene Arrival Hour</td>\n",
       "      <td>99</td>\n",
       "      <td>Unknown EMS Scene Arrival Minutes</td>\n",
       "      <td>88</td>\n",
       "      <td>Not Applicable (Not Transported)</td>\n",
       "      <td>88</td>\n",
       "      <td>Not Applicable (Not Transported)</td>\n",
       "      <td>1</td>\n",
       "    </tr>\n",
       "    <tr>\n",
       "      <th>26391</th>\n",
       "      <td>37</td>\n",
       "      <td>North Carolina</td>\n",
       "      <td>371558</td>\n",
       "      <td>1</td>\n",
       "      <td>1</td>\n",
       "      <td>2</td>\n",
       "      <td>2</td>\n",
       "      <td>0</td>\n",
       "      <td>1</td>\n",
       "      <td>1</td>\n",
       "      <td>...</td>\n",
       "      <td>Unknown</td>\n",
       "      <td>99</td>\n",
       "      <td>Unknown EMS Scene Arrival Hour</td>\n",
       "      <td>99</td>\n",
       "      <td>Unknown EMS Scene Arrival Minutes</td>\n",
       "      <td>99</td>\n",
       "      <td>Unknown</td>\n",
       "      <td>99</td>\n",
       "      <td>Unknown EMS Hospital Arrival Time</td>\n",
       "      <td>1</td>\n",
       "    </tr>\n",
       "  </tbody>\n",
       "</table>\n",
       "<p>1535 rows × 80 columns</p>\n",
       "</div>"
      ],
      "text/plain": [
       "       STATE       STATENAME  ST_CASE  PEDS  PERNOTMVIT  VE_TOTAL  VE_FORMS  \\\n",
       "24857     37  North Carolina   370001     0           0         1         1   \n",
       "24858     37  North Carolina   370002     0           0         2         1   \n",
       "24859     37  North Carolina   370003     0           0         2         2   \n",
       "24860     37  North Carolina   370004     0           0         1         1   \n",
       "24861     37  North Carolina   370005     0           0         1         1   \n",
       "...      ...             ...      ...   ...         ...       ...       ...   \n",
       "26387     37  North Carolina   371554     2           2         3         3   \n",
       "26388     37  North Carolina   371555     0           0         1         1   \n",
       "26389     37  North Carolina   371556     0           0         3         3   \n",
       "26390     37  North Carolina   371557     1           1         1         1   \n",
       "26391     37  North Carolina   371558     1           1         2         2   \n",
       "\n",
       "       PVH_INVL  PERSONS  PERMVIT  ...  NOT_MINNAME ARR_HOUR  \\\n",
       "24857         0        1        1  ...           27       15   \n",
       "24858         1        2        2  ...           40       15   \n",
       "24859         0        4        4  ...      Unknown       99   \n",
       "24860         0        2        2  ...      Unknown       99   \n",
       "24861         0        1        1  ...      Unknown       99   \n",
       "...         ...      ...      ...  ...          ...      ...   \n",
       "26387         0        1        1  ...      Unknown       99   \n",
       "26388         0        1        1  ...      Unknown       99   \n",
       "26389         0        4        4  ...      Unknown       99   \n",
       "26390         0        1        1  ...      Unknown       99   \n",
       "26391         0        1        1  ...      Unknown       99   \n",
       "\n",
       "                         ARR_HOURNAME ARR_MIN  \\\n",
       "24857                   3:00pm-3:59pm      35   \n",
       "24858                   3:00pm-3:59pm      44   \n",
       "24859  Unknown EMS Scene Arrival Hour      99   \n",
       "24860  Unknown EMS Scene Arrival Hour      99   \n",
       "24861  Unknown EMS Scene Arrival Hour      99   \n",
       "...                               ...     ...   \n",
       "26387  Unknown EMS Scene Arrival Hour      99   \n",
       "26388  Unknown EMS Scene Arrival Hour      99   \n",
       "26389  Unknown EMS Scene Arrival Hour      99   \n",
       "26390  Unknown EMS Scene Arrival Hour      99   \n",
       "26391  Unknown EMS Scene Arrival Hour      99   \n",
       "\n",
       "                             ARR_MINNAME HOSP_HR  \\\n",
       "24857                                 35      88   \n",
       "24858                                 44      99   \n",
       "24859  Unknown EMS Scene Arrival Minutes      99   \n",
       "24860  Unknown EMS Scene Arrival Minutes      88   \n",
       "24861  Unknown EMS Scene Arrival Minutes      99   \n",
       "...                                  ...     ...   \n",
       "26387  Unknown EMS Scene Arrival Minutes      99   \n",
       "26388  Unknown EMS Scene Arrival Minutes      99   \n",
       "26389  Unknown EMS Scene Arrival Minutes      99   \n",
       "26390  Unknown EMS Scene Arrival Minutes      88   \n",
       "26391  Unknown EMS Scene Arrival Minutes      99   \n",
       "\n",
       "                            HOSP_HRNAME  HOSP_MN  \\\n",
       "24857  Not Applicable (Not Transported)       88   \n",
       "24858                           Unknown       99   \n",
       "24859                           Unknown       99   \n",
       "24860  Not Applicable (Not Transported)       88   \n",
       "24861                           Unknown       99   \n",
       "...                                 ...      ...   \n",
       "26387                           Unknown       99   \n",
       "26388                           Unknown       99   \n",
       "26389                           Unknown       99   \n",
       "26390  Not Applicable (Not Transported)       88   \n",
       "26391                           Unknown       99   \n",
       "\n",
       "                             HOSP_MNNAME FATALS  \n",
       "24857   Not Applicable (Not Transported)      1  \n",
       "24858  Unknown EMS Hospital Arrival Time      2  \n",
       "24859  Unknown EMS Hospital Arrival Time      1  \n",
       "24860   Not Applicable (Not Transported)      1  \n",
       "24861  Unknown EMS Hospital Arrival Time      1  \n",
       "...                                  ...    ...  \n",
       "26387  Unknown EMS Hospital Arrival Time      1  \n",
       "26388  Unknown EMS Hospital Arrival Time      1  \n",
       "26389  Unknown EMS Hospital Arrival Time      1  \n",
       "26390   Not Applicable (Not Transported)      1  \n",
       "26391  Unknown EMS Hospital Arrival Time      1  \n",
       "\n",
       "[1535 rows x 80 columns]"
      ]
     },
     "execution_count": 52,
     "metadata": {},
     "output_type": "execute_result"
    }
   ],
   "source": [
    "# //Filtering only North Carolina Data\n",
    "filtered_df = nc_original_df[nc_original_df[\"STATENAME\"].isin([\"North Carolina\"])]\n",
    "filtered_df"
   ]
  },
  {
   "cell_type": "code",
   "execution_count": 53,
   "id": "758da307",
   "metadata": {},
   "outputs": [
    {
     "data": {
      "text/html": [
       "<div>\n",
       "<style scoped>\n",
       "    .dataframe tbody tr th:only-of-type {\n",
       "        vertical-align: middle;\n",
       "    }\n",
       "\n",
       "    .dataframe tbody tr th {\n",
       "        vertical-align: top;\n",
       "    }\n",
       "\n",
       "    .dataframe thead th {\n",
       "        text-align: right;\n",
       "    }\n",
       "</style>\n",
       "<table border=\"1\" class=\"dataframe\">\n",
       "  <thead>\n",
       "    <tr style=\"text-align: right;\">\n",
       "      <th></th>\n",
       "      <th>ST_CASE</th>\n",
       "      <th>STATENAME</th>\n",
       "      <th>COUNTYNAME</th>\n",
       "      <th>CITYNAME</th>\n",
       "      <th>DAY</th>\n",
       "      <th>MONTH</th>\n",
       "      <th>YEAR</th>\n",
       "      <th>PEDS</th>\n",
       "      <th>FATALS</th>\n",
       "      <th>LATITUDE</th>\n",
       "      <th>LONGITUD</th>\n",
       "    </tr>\n",
       "  </thead>\n",
       "  <tbody>\n",
       "    <tr>\n",
       "      <th>24857</th>\n",
       "      <td>370001</td>\n",
       "      <td>North Carolina</td>\n",
       "      <td>ALAMANCE (1)</td>\n",
       "      <td>BURLINGTON</td>\n",
       "      <td>6</td>\n",
       "      <td>1</td>\n",
       "      <td>2021</td>\n",
       "      <td>0</td>\n",
       "      <td>1</td>\n",
       "      <td>36.064589</td>\n",
       "      <td>-79.523144</td>\n",
       "    </tr>\n",
       "    <tr>\n",
       "      <th>24858</th>\n",
       "      <td>370002</td>\n",
       "      <td>North Carolina</td>\n",
       "      <td>ALAMANCE (1)</td>\n",
       "      <td>MEBANE</td>\n",
       "      <td>17</td>\n",
       "      <td>1</td>\n",
       "      <td>2021</td>\n",
       "      <td>0</td>\n",
       "      <td>2</td>\n",
       "      <td>36.097139</td>\n",
       "      <td>-79.272444</td>\n",
       "    </tr>\n",
       "    <tr>\n",
       "      <th>24859</th>\n",
       "      <td>370003</td>\n",
       "      <td>North Carolina</td>\n",
       "      <td>ALEXANDER (3)</td>\n",
       "      <td>NOT APPLICABLE</td>\n",
       "      <td>2</td>\n",
       "      <td>1</td>\n",
       "      <td>2021</td>\n",
       "      <td>0</td>\n",
       "      <td>1</td>\n",
       "      <td>36.026417</td>\n",
       "      <td>-81.189797</td>\n",
       "    </tr>\n",
       "    <tr>\n",
       "      <th>24860</th>\n",
       "      <td>370004</td>\n",
       "      <td>North Carolina</td>\n",
       "      <td>ALEXANDER (3)</td>\n",
       "      <td>NOT APPLICABLE</td>\n",
       "      <td>9</td>\n",
       "      <td>1</td>\n",
       "      <td>2021</td>\n",
       "      <td>0</td>\n",
       "      <td>1</td>\n",
       "      <td>35.902472</td>\n",
       "      <td>-81.243419</td>\n",
       "    </tr>\n",
       "    <tr>\n",
       "      <th>24861</th>\n",
       "      <td>370005</td>\n",
       "      <td>North Carolina</td>\n",
       "      <td>ANSON (7)</td>\n",
       "      <td>NOT APPLICABLE</td>\n",
       "      <td>3</td>\n",
       "      <td>1</td>\n",
       "      <td>2021</td>\n",
       "      <td>0</td>\n",
       "      <td>1</td>\n",
       "      <td>35.087317</td>\n",
       "      <td>-80.223214</td>\n",
       "    </tr>\n",
       "    <tr>\n",
       "      <th>...</th>\n",
       "      <td>...</td>\n",
       "      <td>...</td>\n",
       "      <td>...</td>\n",
       "      <td>...</td>\n",
       "      <td>...</td>\n",
       "      <td>...</td>\n",
       "      <td>...</td>\n",
       "      <td>...</td>\n",
       "      <td>...</td>\n",
       "      <td>...</td>\n",
       "      <td>...</td>\n",
       "    </tr>\n",
       "    <tr>\n",
       "      <th>26387</th>\n",
       "      <td>371554</td>\n",
       "      <td>North Carolina</td>\n",
       "      <td>RUTHERFORD (161)</td>\n",
       "      <td>NOT APPLICABLE</td>\n",
       "      <td>2</td>\n",
       "      <td>9</td>\n",
       "      <td>2021</td>\n",
       "      <td>2</td>\n",
       "      <td>1</td>\n",
       "      <td>35.312558</td>\n",
       "      <td>-81.798714</td>\n",
       "    </tr>\n",
       "    <tr>\n",
       "      <th>26388</th>\n",
       "      <td>371555</td>\n",
       "      <td>North Carolina</td>\n",
       "      <td>WAKE (183)</td>\n",
       "      <td>NOT APPLICABLE</td>\n",
       "      <td>29</td>\n",
       "      <td>7</td>\n",
       "      <td>2021</td>\n",
       "      <td>0</td>\n",
       "      <td>1</td>\n",
       "      <td>35.677208</td>\n",
       "      <td>-78.687242</td>\n",
       "    </tr>\n",
       "    <tr>\n",
       "      <th>26389</th>\n",
       "      <td>371556</td>\n",
       "      <td>North Carolina</td>\n",
       "      <td>HARNETT (85)</td>\n",
       "      <td>ERWIN</td>\n",
       "      <td>13</td>\n",
       "      <td>8</td>\n",
       "      <td>2021</td>\n",
       "      <td>0</td>\n",
       "      <td>1</td>\n",
       "      <td>35.328497</td>\n",
       "      <td>-78.660500</td>\n",
       "    </tr>\n",
       "    <tr>\n",
       "      <th>26390</th>\n",
       "      <td>371557</td>\n",
       "      <td>North Carolina</td>\n",
       "      <td>BUNCOMBE (21)</td>\n",
       "      <td>ASHEVILLE</td>\n",
       "      <td>14</td>\n",
       "      <td>12</td>\n",
       "      <td>2021</td>\n",
       "      <td>1</td>\n",
       "      <td>1</td>\n",
       "      <td>35.480247</td>\n",
       "      <td>-82.548406</td>\n",
       "    </tr>\n",
       "    <tr>\n",
       "      <th>26391</th>\n",
       "      <td>371558</td>\n",
       "      <td>North Carolina</td>\n",
       "      <td>COLUMBUS (47)</td>\n",
       "      <td>NOT APPLICABLE</td>\n",
       "      <td>23</td>\n",
       "      <td>11</td>\n",
       "      <td>2021</td>\n",
       "      <td>1</td>\n",
       "      <td>1</td>\n",
       "      <td>34.320525</td>\n",
       "      <td>-78.392950</td>\n",
       "    </tr>\n",
       "  </tbody>\n",
       "</table>\n",
       "<p>1535 rows × 11 columns</p>\n",
       "</div>"
      ],
      "text/plain": [
       "       ST_CASE       STATENAME        COUNTYNAME        CITYNAME  DAY  MONTH  \\\n",
       "24857   370001  North Carolina      ALAMANCE (1)      BURLINGTON    6      1   \n",
       "24858   370002  North Carolina      ALAMANCE (1)          MEBANE   17      1   \n",
       "24859   370003  North Carolina     ALEXANDER (3)  NOT APPLICABLE    2      1   \n",
       "24860   370004  North Carolina     ALEXANDER (3)  NOT APPLICABLE    9      1   \n",
       "24861   370005  North Carolina         ANSON (7)  NOT APPLICABLE    3      1   \n",
       "...        ...             ...               ...             ...  ...    ...   \n",
       "26387   371554  North Carolina  RUTHERFORD (161)  NOT APPLICABLE    2      9   \n",
       "26388   371555  North Carolina        WAKE (183)  NOT APPLICABLE   29      7   \n",
       "26389   371556  North Carolina      HARNETT (85)           ERWIN   13      8   \n",
       "26390   371557  North Carolina     BUNCOMBE (21)       ASHEVILLE   14     12   \n",
       "26391   371558  North Carolina     COLUMBUS (47)  NOT APPLICABLE   23     11   \n",
       "\n",
       "       YEAR  PEDS  FATALS   LATITUDE   LONGITUD  \n",
       "24857  2021     0       1  36.064589 -79.523144  \n",
       "24858  2021     0       2  36.097139 -79.272444  \n",
       "24859  2021     0       1  36.026417 -81.189797  \n",
       "24860  2021     0       1  35.902472 -81.243419  \n",
       "24861  2021     0       1  35.087317 -80.223214  \n",
       "...     ...   ...     ...        ...        ...  \n",
       "26387  2021     2       1  35.312558 -81.798714  \n",
       "26388  2021     0       1  35.677208 -78.687242  \n",
       "26389  2021     0       1  35.328497 -78.660500  \n",
       "26390  2021     1       1  35.480247 -82.548406  \n",
       "26391  2021     1       1  34.320525 -78.392950  \n",
       "\n",
       "[1535 rows x 11 columns]"
      ]
     },
     "execution_count": 53,
     "metadata": {},
     "output_type": "execute_result"
    }
   ],
   "source": [
    "# New DataFrame with selected columns\n",
    "nc_new_df= filtered_df[['ST_CASE','STATENAME', 'COUNTYNAME', 'CITYNAME','DAY','MONTH','YEAR','PEDS','FATALS','LATITUDE','LONGITUD']].copy()\n",
    "nc_new_df"
   ]
  },
  {
   "cell_type": "code",
   "execution_count": 54,
   "id": "d7ce1a30",
   "metadata": {},
   "outputs": [
    {
     "data": {
      "text/html": [
       "<div>\n",
       "<style scoped>\n",
       "    .dataframe tbody tr th:only-of-type {\n",
       "        vertical-align: middle;\n",
       "    }\n",
       "\n",
       "    .dataframe tbody tr th {\n",
       "        vertical-align: top;\n",
       "    }\n",
       "\n",
       "    .dataframe thead th {\n",
       "        text-align: right;\n",
       "    }\n",
       "</style>\n",
       "<table border=\"1\" class=\"dataframe\">\n",
       "  <thead>\n",
       "    <tr style=\"text-align: right;\">\n",
       "      <th></th>\n",
       "      <th>ST_CASE</th>\n",
       "      <th>STATENAME</th>\n",
       "      <th>COUNTYNAME</th>\n",
       "      <th>CITYNAME</th>\n",
       "      <th>DAY</th>\n",
       "      <th>MONTH</th>\n",
       "      <th>YEAR</th>\n",
       "      <th>PEDS</th>\n",
       "      <th>FATALS</th>\n",
       "      <th>LATITUDE</th>\n",
       "      <th>LONGITUD</th>\n",
       "      <th>Date</th>\n",
       "    </tr>\n",
       "  </thead>\n",
       "  <tbody>\n",
       "    <tr>\n",
       "      <th>24857</th>\n",
       "      <td>370001</td>\n",
       "      <td>North Carolina</td>\n",
       "      <td>ALAMANCE (1)</td>\n",
       "      <td>BURLINGTON</td>\n",
       "      <td>6</td>\n",
       "      <td>1</td>\n",
       "      <td>2021</td>\n",
       "      <td>0</td>\n",
       "      <td>1</td>\n",
       "      <td>36.064589</td>\n",
       "      <td>-79.523144</td>\n",
       "      <td>1-6-2021</td>\n",
       "    </tr>\n",
       "    <tr>\n",
       "      <th>24858</th>\n",
       "      <td>370002</td>\n",
       "      <td>North Carolina</td>\n",
       "      <td>ALAMANCE (1)</td>\n",
       "      <td>MEBANE</td>\n",
       "      <td>17</td>\n",
       "      <td>1</td>\n",
       "      <td>2021</td>\n",
       "      <td>0</td>\n",
       "      <td>2</td>\n",
       "      <td>36.097139</td>\n",
       "      <td>-79.272444</td>\n",
       "      <td>1-17-2021</td>\n",
       "    </tr>\n",
       "    <tr>\n",
       "      <th>24859</th>\n",
       "      <td>370003</td>\n",
       "      <td>North Carolina</td>\n",
       "      <td>ALEXANDER (3)</td>\n",
       "      <td>NOT APPLICABLE</td>\n",
       "      <td>2</td>\n",
       "      <td>1</td>\n",
       "      <td>2021</td>\n",
       "      <td>0</td>\n",
       "      <td>1</td>\n",
       "      <td>36.026417</td>\n",
       "      <td>-81.189797</td>\n",
       "      <td>1-2-2021</td>\n",
       "    </tr>\n",
       "    <tr>\n",
       "      <th>24860</th>\n",
       "      <td>370004</td>\n",
       "      <td>North Carolina</td>\n",
       "      <td>ALEXANDER (3)</td>\n",
       "      <td>NOT APPLICABLE</td>\n",
       "      <td>9</td>\n",
       "      <td>1</td>\n",
       "      <td>2021</td>\n",
       "      <td>0</td>\n",
       "      <td>1</td>\n",
       "      <td>35.902472</td>\n",
       "      <td>-81.243419</td>\n",
       "      <td>1-9-2021</td>\n",
       "    </tr>\n",
       "    <tr>\n",
       "      <th>24861</th>\n",
       "      <td>370005</td>\n",
       "      <td>North Carolina</td>\n",
       "      <td>ANSON (7)</td>\n",
       "      <td>NOT APPLICABLE</td>\n",
       "      <td>3</td>\n",
       "      <td>1</td>\n",
       "      <td>2021</td>\n",
       "      <td>0</td>\n",
       "      <td>1</td>\n",
       "      <td>35.087317</td>\n",
       "      <td>-80.223214</td>\n",
       "      <td>1-3-2021</td>\n",
       "    </tr>\n",
       "    <tr>\n",
       "      <th>...</th>\n",
       "      <td>...</td>\n",
       "      <td>...</td>\n",
       "      <td>...</td>\n",
       "      <td>...</td>\n",
       "      <td>...</td>\n",
       "      <td>...</td>\n",
       "      <td>...</td>\n",
       "      <td>...</td>\n",
       "      <td>...</td>\n",
       "      <td>...</td>\n",
       "      <td>...</td>\n",
       "      <td>...</td>\n",
       "    </tr>\n",
       "    <tr>\n",
       "      <th>26387</th>\n",
       "      <td>371554</td>\n",
       "      <td>North Carolina</td>\n",
       "      <td>RUTHERFORD (161)</td>\n",
       "      <td>NOT APPLICABLE</td>\n",
       "      <td>2</td>\n",
       "      <td>9</td>\n",
       "      <td>2021</td>\n",
       "      <td>2</td>\n",
       "      <td>1</td>\n",
       "      <td>35.312558</td>\n",
       "      <td>-81.798714</td>\n",
       "      <td>9-2-2021</td>\n",
       "    </tr>\n",
       "    <tr>\n",
       "      <th>26388</th>\n",
       "      <td>371555</td>\n",
       "      <td>North Carolina</td>\n",
       "      <td>WAKE (183)</td>\n",
       "      <td>NOT APPLICABLE</td>\n",
       "      <td>29</td>\n",
       "      <td>7</td>\n",
       "      <td>2021</td>\n",
       "      <td>0</td>\n",
       "      <td>1</td>\n",
       "      <td>35.677208</td>\n",
       "      <td>-78.687242</td>\n",
       "      <td>7-29-2021</td>\n",
       "    </tr>\n",
       "    <tr>\n",
       "      <th>26389</th>\n",
       "      <td>371556</td>\n",
       "      <td>North Carolina</td>\n",
       "      <td>HARNETT (85)</td>\n",
       "      <td>ERWIN</td>\n",
       "      <td>13</td>\n",
       "      <td>8</td>\n",
       "      <td>2021</td>\n",
       "      <td>0</td>\n",
       "      <td>1</td>\n",
       "      <td>35.328497</td>\n",
       "      <td>-78.660500</td>\n",
       "      <td>8-13-2021</td>\n",
       "    </tr>\n",
       "    <tr>\n",
       "      <th>26390</th>\n",
       "      <td>371557</td>\n",
       "      <td>North Carolina</td>\n",
       "      <td>BUNCOMBE (21)</td>\n",
       "      <td>ASHEVILLE</td>\n",
       "      <td>14</td>\n",
       "      <td>12</td>\n",
       "      <td>2021</td>\n",
       "      <td>1</td>\n",
       "      <td>1</td>\n",
       "      <td>35.480247</td>\n",
       "      <td>-82.548406</td>\n",
       "      <td>12-14-2021</td>\n",
       "    </tr>\n",
       "    <tr>\n",
       "      <th>26391</th>\n",
       "      <td>371558</td>\n",
       "      <td>North Carolina</td>\n",
       "      <td>COLUMBUS (47)</td>\n",
       "      <td>NOT APPLICABLE</td>\n",
       "      <td>23</td>\n",
       "      <td>11</td>\n",
       "      <td>2021</td>\n",
       "      <td>1</td>\n",
       "      <td>1</td>\n",
       "      <td>34.320525</td>\n",
       "      <td>-78.392950</td>\n",
       "      <td>11-23-2021</td>\n",
       "    </tr>\n",
       "  </tbody>\n",
       "</table>\n",
       "<p>1535 rows × 12 columns</p>\n",
       "</div>"
      ],
      "text/plain": [
       "       ST_CASE       STATENAME        COUNTYNAME        CITYNAME  DAY  MONTH  \\\n",
       "24857   370001  North Carolina      ALAMANCE (1)      BURLINGTON    6      1   \n",
       "24858   370002  North Carolina      ALAMANCE (1)          MEBANE   17      1   \n",
       "24859   370003  North Carolina     ALEXANDER (3)  NOT APPLICABLE    2      1   \n",
       "24860   370004  North Carolina     ALEXANDER (3)  NOT APPLICABLE    9      1   \n",
       "24861   370005  North Carolina         ANSON (7)  NOT APPLICABLE    3      1   \n",
       "...        ...             ...               ...             ...  ...    ...   \n",
       "26387   371554  North Carolina  RUTHERFORD (161)  NOT APPLICABLE    2      9   \n",
       "26388   371555  North Carolina        WAKE (183)  NOT APPLICABLE   29      7   \n",
       "26389   371556  North Carolina      HARNETT (85)           ERWIN   13      8   \n",
       "26390   371557  North Carolina     BUNCOMBE (21)       ASHEVILLE   14     12   \n",
       "26391   371558  North Carolina     COLUMBUS (47)  NOT APPLICABLE   23     11   \n",
       "\n",
       "       YEAR  PEDS  FATALS   LATITUDE   LONGITUD        Date  \n",
       "24857  2021     0       1  36.064589 -79.523144    1-6-2021  \n",
       "24858  2021     0       2  36.097139 -79.272444   1-17-2021  \n",
       "24859  2021     0       1  36.026417 -81.189797    1-2-2021  \n",
       "24860  2021     0       1  35.902472 -81.243419    1-9-2021  \n",
       "24861  2021     0       1  35.087317 -80.223214    1-3-2021  \n",
       "...     ...   ...     ...        ...        ...         ...  \n",
       "26387  2021     2       1  35.312558 -81.798714    9-2-2021  \n",
       "26388  2021     0       1  35.677208 -78.687242   7-29-2021  \n",
       "26389  2021     0       1  35.328497 -78.660500   8-13-2021  \n",
       "26390  2021     1       1  35.480247 -82.548406  12-14-2021  \n",
       "26391  2021     1       1  34.320525 -78.392950  11-23-2021  \n",
       "\n",
       "[1535 rows x 12 columns]"
      ]
     },
     "execution_count": 54,
     "metadata": {},
     "output_type": "execute_result"
    }
   ],
   "source": [
    "# Create a new Date column with existing columns MONTH,DAY,YEAR\n",
    "nc_new_df['Date']=nc_new_df[['MONTH','DAY','YEAR']].astype(str).apply('-'.join,1)\n",
    "nc_new_df"
   ]
  },
  {
   "cell_type": "code",
   "execution_count": 55,
   "id": "7f430469",
   "metadata": {},
   "outputs": [
    {
     "data": {
      "text/html": [
       "<div>\n",
       "<style scoped>\n",
       "    .dataframe tbody tr th:only-of-type {\n",
       "        vertical-align: middle;\n",
       "    }\n",
       "\n",
       "    .dataframe tbody tr th {\n",
       "        vertical-align: top;\n",
       "    }\n",
       "\n",
       "    .dataframe thead th {\n",
       "        text-align: right;\n",
       "    }\n",
       "</style>\n",
       "<table border=\"1\" class=\"dataframe\">\n",
       "  <thead>\n",
       "    <tr style=\"text-align: right;\">\n",
       "      <th></th>\n",
       "      <th>ST_CASE</th>\n",
       "      <th>STATENAME</th>\n",
       "      <th>COUNTYNAME</th>\n",
       "      <th>CITYNAME</th>\n",
       "      <th>DAY</th>\n",
       "      <th>MONTH</th>\n",
       "      <th>YEAR</th>\n",
       "      <th>PEDS</th>\n",
       "      <th>FATALS</th>\n",
       "      <th>LATITUDE</th>\n",
       "      <th>LONGITUD</th>\n",
       "      <th>Date</th>\n",
       "    </tr>\n",
       "  </thead>\n",
       "  <tbody>\n",
       "    <tr>\n",
       "      <th>24857</th>\n",
       "      <td>370001</td>\n",
       "      <td>North Carolina</td>\n",
       "      <td>ALAMANCE</td>\n",
       "      <td>BURLINGTON</td>\n",
       "      <td>6</td>\n",
       "      <td>1</td>\n",
       "      <td>2021</td>\n",
       "      <td>0</td>\n",
       "      <td>1</td>\n",
       "      <td>36.064589</td>\n",
       "      <td>-79.523144</td>\n",
       "      <td>1-6-2021</td>\n",
       "    </tr>\n",
       "    <tr>\n",
       "      <th>24858</th>\n",
       "      <td>370002</td>\n",
       "      <td>North Carolina</td>\n",
       "      <td>ALAMANCE</td>\n",
       "      <td>MEBANE</td>\n",
       "      <td>17</td>\n",
       "      <td>1</td>\n",
       "      <td>2021</td>\n",
       "      <td>0</td>\n",
       "      <td>2</td>\n",
       "      <td>36.097139</td>\n",
       "      <td>-79.272444</td>\n",
       "      <td>1-17-2021</td>\n",
       "    </tr>\n",
       "    <tr>\n",
       "      <th>24859</th>\n",
       "      <td>370003</td>\n",
       "      <td>North Carolina</td>\n",
       "      <td>ALEXANDER</td>\n",
       "      <td>NOT APPLICABLE</td>\n",
       "      <td>2</td>\n",
       "      <td>1</td>\n",
       "      <td>2021</td>\n",
       "      <td>0</td>\n",
       "      <td>1</td>\n",
       "      <td>36.026417</td>\n",
       "      <td>-81.189797</td>\n",
       "      <td>1-2-2021</td>\n",
       "    </tr>\n",
       "    <tr>\n",
       "      <th>24860</th>\n",
       "      <td>370004</td>\n",
       "      <td>North Carolina</td>\n",
       "      <td>ALEXANDER</td>\n",
       "      <td>NOT APPLICABLE</td>\n",
       "      <td>9</td>\n",
       "      <td>1</td>\n",
       "      <td>2021</td>\n",
       "      <td>0</td>\n",
       "      <td>1</td>\n",
       "      <td>35.902472</td>\n",
       "      <td>-81.243419</td>\n",
       "      <td>1-9-2021</td>\n",
       "    </tr>\n",
       "    <tr>\n",
       "      <th>24861</th>\n",
       "      <td>370005</td>\n",
       "      <td>North Carolina</td>\n",
       "      <td>ANSON</td>\n",
       "      <td>NOT APPLICABLE</td>\n",
       "      <td>3</td>\n",
       "      <td>1</td>\n",
       "      <td>2021</td>\n",
       "      <td>0</td>\n",
       "      <td>1</td>\n",
       "      <td>35.087317</td>\n",
       "      <td>-80.223214</td>\n",
       "      <td>1-3-2021</td>\n",
       "    </tr>\n",
       "  </tbody>\n",
       "</table>\n",
       "</div>"
      ],
      "text/plain": [
       "       ST_CASE       STATENAME  COUNTYNAME        CITYNAME  DAY  MONTH  YEAR  \\\n",
       "24857   370001  North Carolina   ALAMANCE       BURLINGTON    6      1  2021   \n",
       "24858   370002  North Carolina   ALAMANCE           MEBANE   17      1  2021   \n",
       "24859   370003  North Carolina  ALEXANDER   NOT APPLICABLE    2      1  2021   \n",
       "24860   370004  North Carolina  ALEXANDER   NOT APPLICABLE    9      1  2021   \n",
       "24861   370005  North Carolina      ANSON   NOT APPLICABLE    3      1  2021   \n",
       "\n",
       "       PEDS  FATALS   LATITUDE   LONGITUD       Date  \n",
       "24857     0       1  36.064589 -79.523144   1-6-2021  \n",
       "24858     0       2  36.097139 -79.272444  1-17-2021  \n",
       "24859     0       1  36.026417 -81.189797   1-2-2021  \n",
       "24860     0       1  35.902472 -81.243419   1-9-2021  \n",
       "24861     0       1  35.087317 -80.223214   1-3-2021  "
      ]
     },
     "execution_count": 55,
     "metadata": {},
     "output_type": "execute_result"
    }
   ],
   "source": [
    "#Replacing county code align with the COUNTYNAME\n",
    "nc_new_df.loc[:, 'COUNTYNAME'] = (nc_new_df['COUNTYNAME'].replace('[()]', '',regex=True).replace('\\d+', '',regex=True).replace('[)]','',regex=True).replace(' ',''))\n",
    "nc_new_df.head()"
   ]
  },
  {
   "cell_type": "code",
   "execution_count": 56,
   "id": "711b8a34",
   "metadata": {},
   "outputs": [
    {
     "name": "stdout",
     "output_type": "stream",
     "text": [
      "<class 'pandas.core.frame.DataFrame'>\n",
      "Index: 1535 entries, 24857 to 26391\n",
      "Data columns (total 12 columns):\n",
      " #   Column      Non-Null Count  Dtype  \n",
      "---  ------      --------------  -----  \n",
      " 0   ST_CASE     1535 non-null   int64  \n",
      " 1   STATENAME   1535 non-null   object \n",
      " 2   COUNTYNAME  1535 non-null   object \n",
      " 3   CITYNAME    1535 non-null   object \n",
      " 4   DAY         1535 non-null   int64  \n",
      " 5   MONTH       1535 non-null   int64  \n",
      " 6   YEAR        1535 non-null   int64  \n",
      " 7   PEDS        1535 non-null   int64  \n",
      " 8   FATALS      1535 non-null   int64  \n",
      " 9   LATITUDE    1535 non-null   float64\n",
      " 10  LONGITUD    1535 non-null   float64\n",
      " 11  Date        1535 non-null   object \n",
      "dtypes: float64(2), int64(6), object(4)\n",
      "memory usage: 155.9+ KB\n"
     ]
    }
   ],
   "source": [
    "nc_new_df.info()"
   ]
  },
  {
   "cell_type": "code",
   "execution_count": 57,
   "id": "c61b46e2",
   "metadata": {},
   "outputs": [
    {
     "data": {
      "text/html": [
       "<div>\n",
       "<style scoped>\n",
       "    .dataframe tbody tr th:only-of-type {\n",
       "        vertical-align: middle;\n",
       "    }\n",
       "\n",
       "    .dataframe tbody tr th {\n",
       "        vertical-align: top;\n",
       "    }\n",
       "\n",
       "    .dataframe thead th {\n",
       "        text-align: right;\n",
       "    }\n",
       "</style>\n",
       "<table border=\"1\" class=\"dataframe\">\n",
       "  <thead>\n",
       "    <tr style=\"text-align: right;\">\n",
       "      <th></th>\n",
       "      <th>ST_CASE</th>\n",
       "      <th>STATENAME</th>\n",
       "      <th>COUNTYNAME</th>\n",
       "      <th>CITYNAME</th>\n",
       "      <th>DAY</th>\n",
       "      <th>MONTH</th>\n",
       "      <th>YEAR</th>\n",
       "      <th>PEDS</th>\n",
       "      <th>FATALS</th>\n",
       "      <th>LATITUDE</th>\n",
       "      <th>LONGITUD</th>\n",
       "      <th>Date</th>\n",
       "    </tr>\n",
       "  </thead>\n",
       "  <tbody>\n",
       "    <tr>\n",
       "      <th>24857</th>\n",
       "      <td>370001</td>\n",
       "      <td>North Carolina</td>\n",
       "      <td>ALAMANCE</td>\n",
       "      <td>BURLINGTON</td>\n",
       "      <td>6</td>\n",
       "      <td>1</td>\n",
       "      <td>2021</td>\n",
       "      <td>0</td>\n",
       "      <td>1</td>\n",
       "      <td>36.064589</td>\n",
       "      <td>-79.523144</td>\n",
       "      <td>2021-01-06</td>\n",
       "    </tr>\n",
       "    <tr>\n",
       "      <th>24858</th>\n",
       "      <td>370002</td>\n",
       "      <td>North Carolina</td>\n",
       "      <td>ALAMANCE</td>\n",
       "      <td>MEBANE</td>\n",
       "      <td>17</td>\n",
       "      <td>1</td>\n",
       "      <td>2021</td>\n",
       "      <td>0</td>\n",
       "      <td>2</td>\n",
       "      <td>36.097139</td>\n",
       "      <td>-79.272444</td>\n",
       "      <td>2021-01-17</td>\n",
       "    </tr>\n",
       "    <tr>\n",
       "      <th>24859</th>\n",
       "      <td>370003</td>\n",
       "      <td>North Carolina</td>\n",
       "      <td>ALEXANDER</td>\n",
       "      <td>NOT APPLICABLE</td>\n",
       "      <td>2</td>\n",
       "      <td>1</td>\n",
       "      <td>2021</td>\n",
       "      <td>0</td>\n",
       "      <td>1</td>\n",
       "      <td>36.026417</td>\n",
       "      <td>-81.189797</td>\n",
       "      <td>2021-01-02</td>\n",
       "    </tr>\n",
       "    <tr>\n",
       "      <th>24860</th>\n",
       "      <td>370004</td>\n",
       "      <td>North Carolina</td>\n",
       "      <td>ALEXANDER</td>\n",
       "      <td>NOT APPLICABLE</td>\n",
       "      <td>9</td>\n",
       "      <td>1</td>\n",
       "      <td>2021</td>\n",
       "      <td>0</td>\n",
       "      <td>1</td>\n",
       "      <td>35.902472</td>\n",
       "      <td>-81.243419</td>\n",
       "      <td>2021-01-09</td>\n",
       "    </tr>\n",
       "    <tr>\n",
       "      <th>24861</th>\n",
       "      <td>370005</td>\n",
       "      <td>North Carolina</td>\n",
       "      <td>ANSON</td>\n",
       "      <td>NOT APPLICABLE</td>\n",
       "      <td>3</td>\n",
       "      <td>1</td>\n",
       "      <td>2021</td>\n",
       "      <td>0</td>\n",
       "      <td>1</td>\n",
       "      <td>35.087317</td>\n",
       "      <td>-80.223214</td>\n",
       "      <td>2021-01-03</td>\n",
       "    </tr>\n",
       "  </tbody>\n",
       "</table>\n",
       "</div>"
      ],
      "text/plain": [
       "       ST_CASE       STATENAME  COUNTYNAME        CITYNAME  DAY  MONTH  YEAR  \\\n",
       "24857   370001  North Carolina   ALAMANCE       BURLINGTON    6      1  2021   \n",
       "24858   370002  North Carolina   ALAMANCE           MEBANE   17      1  2021   \n",
       "24859   370003  North Carolina  ALEXANDER   NOT APPLICABLE    2      1  2021   \n",
       "24860   370004  North Carolina  ALEXANDER   NOT APPLICABLE    9      1  2021   \n",
       "24861   370005  North Carolina      ANSON   NOT APPLICABLE    3      1  2021   \n",
       "\n",
       "       PEDS  FATALS   LATITUDE   LONGITUD       Date  \n",
       "24857     0       1  36.064589 -79.523144 2021-01-06  \n",
       "24858     0       2  36.097139 -79.272444 2021-01-17  \n",
       "24859     0       1  36.026417 -81.189797 2021-01-02  \n",
       "24860     0       1  35.902472 -81.243419 2021-01-09  \n",
       "24861     0       1  35.087317 -80.223214 2021-01-03  "
      ]
     },
     "execution_count": 57,
     "metadata": {},
     "output_type": "execute_result"
    }
   ],
   "source": [
    "# convert the 'Date' column to date format\n",
    "\n",
    "nc_new_df['Date']= pd.to_datetime(nc_new_df['Date'])\n",
    "nc_new_df.head()\n"
   ]
  },
  {
   "cell_type": "code",
   "execution_count": 58,
   "id": "690a739e",
   "metadata": {},
   "outputs": [
    {
     "name": "stdout",
     "output_type": "stream",
     "text": [
      "<class 'pandas.core.frame.DataFrame'>\n",
      "Index: 1535 entries, 24857 to 26391\n",
      "Data columns (total 12 columns):\n",
      " #   Column      Non-Null Count  Dtype         \n",
      "---  ------      --------------  -----         \n",
      " 0   ST_CASE     1535 non-null   int64         \n",
      " 1   STATENAME   1535 non-null   object        \n",
      " 2   COUNTYNAME  1535 non-null   object        \n",
      " 3   CITYNAME    1535 non-null   object        \n",
      " 4   DAY         1535 non-null   int64         \n",
      " 5   MONTH       1535 non-null   int64         \n",
      " 6   YEAR        1535 non-null   int64         \n",
      " 7   PEDS        1535 non-null   int64         \n",
      " 8   FATALS      1535 non-null   int64         \n",
      " 9   LATITUDE    1535 non-null   float64       \n",
      " 10  LONGITUD    1535 non-null   float64       \n",
      " 11  Date        1535 non-null   datetime64[ns]\n",
      "dtypes: datetime64[ns](1), float64(2), int64(6), object(3)\n",
      "memory usage: 155.9+ KB\n"
     ]
    }
   ],
   "source": [
    "nc_new_df.info()"
   ]
  },
  {
   "cell_type": "code",
   "execution_count": 59,
   "id": "280ef41a",
   "metadata": {},
   "outputs": [
    {
     "data": {
      "text/html": [
       "<div>\n",
       "<style scoped>\n",
       "    .dataframe tbody tr th:only-of-type {\n",
       "        vertical-align: middle;\n",
       "    }\n",
       "\n",
       "    .dataframe tbody tr th {\n",
       "        vertical-align: top;\n",
       "    }\n",
       "\n",
       "    .dataframe thead th {\n",
       "        text-align: right;\n",
       "    }\n",
       "</style>\n",
       "<table border=\"1\" class=\"dataframe\">\n",
       "  <thead>\n",
       "    <tr style=\"text-align: right;\">\n",
       "      <th></th>\n",
       "      <th>ST_CASE</th>\n",
       "      <th>STATENAME</th>\n",
       "      <th>COUNTYNAME</th>\n",
       "      <th>CITYNAME</th>\n",
       "      <th>PEDS</th>\n",
       "      <th>FATALS</th>\n",
       "      <th>LATITUDE</th>\n",
       "      <th>LONGITUD</th>\n",
       "      <th>Date</th>\n",
       "    </tr>\n",
       "  </thead>\n",
       "  <tbody>\n",
       "    <tr>\n",
       "      <th>24857</th>\n",
       "      <td>370001</td>\n",
       "      <td>North Carolina</td>\n",
       "      <td>ALAMANCE</td>\n",
       "      <td>BURLINGTON</td>\n",
       "      <td>0</td>\n",
       "      <td>1</td>\n",
       "      <td>36.064589</td>\n",
       "      <td>-79.523144</td>\n",
       "      <td>2021-01-06</td>\n",
       "    </tr>\n",
       "    <tr>\n",
       "      <th>24858</th>\n",
       "      <td>370002</td>\n",
       "      <td>North Carolina</td>\n",
       "      <td>ALAMANCE</td>\n",
       "      <td>MEBANE</td>\n",
       "      <td>0</td>\n",
       "      <td>2</td>\n",
       "      <td>36.097139</td>\n",
       "      <td>-79.272444</td>\n",
       "      <td>2021-01-17</td>\n",
       "    </tr>\n",
       "    <tr>\n",
       "      <th>24859</th>\n",
       "      <td>370003</td>\n",
       "      <td>North Carolina</td>\n",
       "      <td>ALEXANDER</td>\n",
       "      <td>NOT APPLICABLE</td>\n",
       "      <td>0</td>\n",
       "      <td>1</td>\n",
       "      <td>36.026417</td>\n",
       "      <td>-81.189797</td>\n",
       "      <td>2021-01-02</td>\n",
       "    </tr>\n",
       "    <tr>\n",
       "      <th>24860</th>\n",
       "      <td>370004</td>\n",
       "      <td>North Carolina</td>\n",
       "      <td>ALEXANDER</td>\n",
       "      <td>NOT APPLICABLE</td>\n",
       "      <td>0</td>\n",
       "      <td>1</td>\n",
       "      <td>35.902472</td>\n",
       "      <td>-81.243419</td>\n",
       "      <td>2021-01-09</td>\n",
       "    </tr>\n",
       "    <tr>\n",
       "      <th>24861</th>\n",
       "      <td>370005</td>\n",
       "      <td>North Carolina</td>\n",
       "      <td>ANSON</td>\n",
       "      <td>NOT APPLICABLE</td>\n",
       "      <td>0</td>\n",
       "      <td>1</td>\n",
       "      <td>35.087317</td>\n",
       "      <td>-80.223214</td>\n",
       "      <td>2021-01-03</td>\n",
       "    </tr>\n",
       "    <tr>\n",
       "      <th>...</th>\n",
       "      <td>...</td>\n",
       "      <td>...</td>\n",
       "      <td>...</td>\n",
       "      <td>...</td>\n",
       "      <td>...</td>\n",
       "      <td>...</td>\n",
       "      <td>...</td>\n",
       "      <td>...</td>\n",
       "      <td>...</td>\n",
       "    </tr>\n",
       "    <tr>\n",
       "      <th>26387</th>\n",
       "      <td>371554</td>\n",
       "      <td>North Carolina</td>\n",
       "      <td>RUTHERFORD</td>\n",
       "      <td>NOT APPLICABLE</td>\n",
       "      <td>2</td>\n",
       "      <td>1</td>\n",
       "      <td>35.312558</td>\n",
       "      <td>-81.798714</td>\n",
       "      <td>2021-09-02</td>\n",
       "    </tr>\n",
       "    <tr>\n",
       "      <th>26388</th>\n",
       "      <td>371555</td>\n",
       "      <td>North Carolina</td>\n",
       "      <td>WAKE</td>\n",
       "      <td>NOT APPLICABLE</td>\n",
       "      <td>0</td>\n",
       "      <td>1</td>\n",
       "      <td>35.677208</td>\n",
       "      <td>-78.687242</td>\n",
       "      <td>2021-07-29</td>\n",
       "    </tr>\n",
       "    <tr>\n",
       "      <th>26389</th>\n",
       "      <td>371556</td>\n",
       "      <td>North Carolina</td>\n",
       "      <td>HARNETT</td>\n",
       "      <td>ERWIN</td>\n",
       "      <td>0</td>\n",
       "      <td>1</td>\n",
       "      <td>35.328497</td>\n",
       "      <td>-78.660500</td>\n",
       "      <td>2021-08-13</td>\n",
       "    </tr>\n",
       "    <tr>\n",
       "      <th>26390</th>\n",
       "      <td>371557</td>\n",
       "      <td>North Carolina</td>\n",
       "      <td>BUNCOMBE</td>\n",
       "      <td>ASHEVILLE</td>\n",
       "      <td>1</td>\n",
       "      <td>1</td>\n",
       "      <td>35.480247</td>\n",
       "      <td>-82.548406</td>\n",
       "      <td>2021-12-14</td>\n",
       "    </tr>\n",
       "    <tr>\n",
       "      <th>26391</th>\n",
       "      <td>371558</td>\n",
       "      <td>North Carolina</td>\n",
       "      <td>COLUMBUS</td>\n",
       "      <td>NOT APPLICABLE</td>\n",
       "      <td>1</td>\n",
       "      <td>1</td>\n",
       "      <td>34.320525</td>\n",
       "      <td>-78.392950</td>\n",
       "      <td>2021-11-23</td>\n",
       "    </tr>\n",
       "  </tbody>\n",
       "</table>\n",
       "<p>1535 rows × 9 columns</p>\n",
       "</div>"
      ],
      "text/plain": [
       "       ST_CASE       STATENAME   COUNTYNAME        CITYNAME  PEDS  FATALS  \\\n",
       "24857   370001  North Carolina    ALAMANCE       BURLINGTON     0       1   \n",
       "24858   370002  North Carolina    ALAMANCE           MEBANE     0       2   \n",
       "24859   370003  North Carolina   ALEXANDER   NOT APPLICABLE     0       1   \n",
       "24860   370004  North Carolina   ALEXANDER   NOT APPLICABLE     0       1   \n",
       "24861   370005  North Carolina       ANSON   NOT APPLICABLE     0       1   \n",
       "...        ...             ...          ...             ...   ...     ...   \n",
       "26387   371554  North Carolina  RUTHERFORD   NOT APPLICABLE     2       1   \n",
       "26388   371555  North Carolina        WAKE   NOT APPLICABLE     0       1   \n",
       "26389   371556  North Carolina     HARNETT            ERWIN     0       1   \n",
       "26390   371557  North Carolina    BUNCOMBE        ASHEVILLE     1       1   \n",
       "26391   371558  North Carolina    COLUMBUS   NOT APPLICABLE     1       1   \n",
       "\n",
       "        LATITUDE   LONGITUD       Date  \n",
       "24857  36.064589 -79.523144 2021-01-06  \n",
       "24858  36.097139 -79.272444 2021-01-17  \n",
       "24859  36.026417 -81.189797 2021-01-02  \n",
       "24860  35.902472 -81.243419 2021-01-09  \n",
       "24861  35.087317 -80.223214 2021-01-03  \n",
       "...          ...        ...        ...  \n",
       "26387  35.312558 -81.798714 2021-09-02  \n",
       "26388  35.677208 -78.687242 2021-07-29  \n",
       "26389  35.328497 -78.660500 2021-08-13  \n",
       "26390  35.480247 -82.548406 2021-12-14  \n",
       "26391  34.320525 -78.392950 2021-11-23  \n",
       "\n",
       "[1535 rows x 9 columns]"
      ]
     },
     "execution_count": 59,
     "metadata": {},
     "output_type": "execute_result"
    }
   ],
   "source": [
    "# Dropping Day , Month,year column\n",
    "nc_new_df = nc_new_df.drop(columns=['DAY', 'MONTH','YEAR'])\n",
    "nc_new_df"
   ]
  },
  {
   "cell_type": "code",
   "execution_count": 60,
   "id": "af7c5a7d",
   "metadata": {},
   "outputs": [
    {
     "data": {
      "text/html": [
       "<div>\n",
       "<style scoped>\n",
       "    .dataframe tbody tr th:only-of-type {\n",
       "        vertical-align: middle;\n",
       "    }\n",
       "\n",
       "    .dataframe tbody tr th {\n",
       "        vertical-align: top;\n",
       "    }\n",
       "\n",
       "    .dataframe thead th {\n",
       "        text-align: right;\n",
       "    }\n",
       "</style>\n",
       "<table border=\"1\" class=\"dataframe\">\n",
       "  <thead>\n",
       "    <tr style=\"text-align: right;\">\n",
       "      <th></th>\n",
       "      <th>ST_CASE</th>\n",
       "      <th>STATENAME</th>\n",
       "      <th>COUNTYNAME</th>\n",
       "      <th>CITYNAME</th>\n",
       "      <th>PEDS</th>\n",
       "      <th>FATALS</th>\n",
       "      <th>Date</th>\n",
       "      <th>LATITUDE</th>\n",
       "      <th>LONGITUD</th>\n",
       "    </tr>\n",
       "  </thead>\n",
       "  <tbody>\n",
       "    <tr>\n",
       "      <th>24857</th>\n",
       "      <td>370001</td>\n",
       "      <td>North Carolina</td>\n",
       "      <td>ALAMANCE</td>\n",
       "      <td>BURLINGTON</td>\n",
       "      <td>0</td>\n",
       "      <td>1</td>\n",
       "      <td>2021-01-06</td>\n",
       "      <td>36.064589</td>\n",
       "      <td>-79.523144</td>\n",
       "    </tr>\n",
       "    <tr>\n",
       "      <th>24858</th>\n",
       "      <td>370002</td>\n",
       "      <td>North Carolina</td>\n",
       "      <td>ALAMANCE</td>\n",
       "      <td>MEBANE</td>\n",
       "      <td>0</td>\n",
       "      <td>2</td>\n",
       "      <td>2021-01-17</td>\n",
       "      <td>36.097139</td>\n",
       "      <td>-79.272444</td>\n",
       "    </tr>\n",
       "    <tr>\n",
       "      <th>24859</th>\n",
       "      <td>370003</td>\n",
       "      <td>North Carolina</td>\n",
       "      <td>ALEXANDER</td>\n",
       "      <td>NOT APPLICABLE</td>\n",
       "      <td>0</td>\n",
       "      <td>1</td>\n",
       "      <td>2021-01-02</td>\n",
       "      <td>36.026417</td>\n",
       "      <td>-81.189797</td>\n",
       "    </tr>\n",
       "    <tr>\n",
       "      <th>24860</th>\n",
       "      <td>370004</td>\n",
       "      <td>North Carolina</td>\n",
       "      <td>ALEXANDER</td>\n",
       "      <td>NOT APPLICABLE</td>\n",
       "      <td>0</td>\n",
       "      <td>1</td>\n",
       "      <td>2021-01-09</td>\n",
       "      <td>35.902472</td>\n",
       "      <td>-81.243419</td>\n",
       "    </tr>\n",
       "    <tr>\n",
       "      <th>24861</th>\n",
       "      <td>370005</td>\n",
       "      <td>North Carolina</td>\n",
       "      <td>ANSON</td>\n",
       "      <td>NOT APPLICABLE</td>\n",
       "      <td>0</td>\n",
       "      <td>1</td>\n",
       "      <td>2021-01-03</td>\n",
       "      <td>35.087317</td>\n",
       "      <td>-80.223214</td>\n",
       "    </tr>\n",
       "    <tr>\n",
       "      <th>...</th>\n",
       "      <td>...</td>\n",
       "      <td>...</td>\n",
       "      <td>...</td>\n",
       "      <td>...</td>\n",
       "      <td>...</td>\n",
       "      <td>...</td>\n",
       "      <td>...</td>\n",
       "      <td>...</td>\n",
       "      <td>...</td>\n",
       "    </tr>\n",
       "    <tr>\n",
       "      <th>26387</th>\n",
       "      <td>371554</td>\n",
       "      <td>North Carolina</td>\n",
       "      <td>RUTHERFORD</td>\n",
       "      <td>NOT APPLICABLE</td>\n",
       "      <td>2</td>\n",
       "      <td>1</td>\n",
       "      <td>2021-09-02</td>\n",
       "      <td>35.312558</td>\n",
       "      <td>-81.798714</td>\n",
       "    </tr>\n",
       "    <tr>\n",
       "      <th>26388</th>\n",
       "      <td>371555</td>\n",
       "      <td>North Carolina</td>\n",
       "      <td>WAKE</td>\n",
       "      <td>NOT APPLICABLE</td>\n",
       "      <td>0</td>\n",
       "      <td>1</td>\n",
       "      <td>2021-07-29</td>\n",
       "      <td>35.677208</td>\n",
       "      <td>-78.687242</td>\n",
       "    </tr>\n",
       "    <tr>\n",
       "      <th>26389</th>\n",
       "      <td>371556</td>\n",
       "      <td>North Carolina</td>\n",
       "      <td>HARNETT</td>\n",
       "      <td>ERWIN</td>\n",
       "      <td>0</td>\n",
       "      <td>1</td>\n",
       "      <td>2021-08-13</td>\n",
       "      <td>35.328497</td>\n",
       "      <td>-78.660500</td>\n",
       "    </tr>\n",
       "    <tr>\n",
       "      <th>26390</th>\n",
       "      <td>371557</td>\n",
       "      <td>North Carolina</td>\n",
       "      <td>BUNCOMBE</td>\n",
       "      <td>ASHEVILLE</td>\n",
       "      <td>1</td>\n",
       "      <td>1</td>\n",
       "      <td>2021-12-14</td>\n",
       "      <td>35.480247</td>\n",
       "      <td>-82.548406</td>\n",
       "    </tr>\n",
       "    <tr>\n",
       "      <th>26391</th>\n",
       "      <td>371558</td>\n",
       "      <td>North Carolina</td>\n",
       "      <td>COLUMBUS</td>\n",
       "      <td>NOT APPLICABLE</td>\n",
       "      <td>1</td>\n",
       "      <td>1</td>\n",
       "      <td>2021-11-23</td>\n",
       "      <td>34.320525</td>\n",
       "      <td>-78.392950</td>\n",
       "    </tr>\n",
       "  </tbody>\n",
       "</table>\n",
       "<p>1535 rows × 9 columns</p>\n",
       "</div>"
      ],
      "text/plain": [
       "       ST_CASE       STATENAME   COUNTYNAME        CITYNAME  PEDS  FATALS  \\\n",
       "24857   370001  North Carolina    ALAMANCE       BURLINGTON     0       1   \n",
       "24858   370002  North Carolina    ALAMANCE           MEBANE     0       2   \n",
       "24859   370003  North Carolina   ALEXANDER   NOT APPLICABLE     0       1   \n",
       "24860   370004  North Carolina   ALEXANDER   NOT APPLICABLE     0       1   \n",
       "24861   370005  North Carolina       ANSON   NOT APPLICABLE     0       1   \n",
       "...        ...             ...          ...             ...   ...     ...   \n",
       "26387   371554  North Carolina  RUTHERFORD   NOT APPLICABLE     2       1   \n",
       "26388   371555  North Carolina        WAKE   NOT APPLICABLE     0       1   \n",
       "26389   371556  North Carolina     HARNETT            ERWIN     0       1   \n",
       "26390   371557  North Carolina    BUNCOMBE        ASHEVILLE     1       1   \n",
       "26391   371558  North Carolina    COLUMBUS   NOT APPLICABLE     1       1   \n",
       "\n",
       "            Date   LATITUDE   LONGITUD  \n",
       "24857 2021-01-06  36.064589 -79.523144  \n",
       "24858 2021-01-17  36.097139 -79.272444  \n",
       "24859 2021-01-02  36.026417 -81.189797  \n",
       "24860 2021-01-09  35.902472 -81.243419  \n",
       "24861 2021-01-03  35.087317 -80.223214  \n",
       "...          ...        ...        ...  \n",
       "26387 2021-09-02  35.312558 -81.798714  \n",
       "26388 2021-07-29  35.677208 -78.687242  \n",
       "26389 2021-08-13  35.328497 -78.660500  \n",
       "26390 2021-12-14  35.480247 -82.548406  \n",
       "26391 2021-11-23  34.320525 -78.392950  \n",
       "\n",
       "[1535 rows x 9 columns]"
      ]
     },
     "execution_count": 60,
     "metadata": {},
     "output_type": "execute_result"
    }
   ],
   "source": [
    "# Rearranging the column using iloc\n",
    "nc_new_df = nc_new_df.iloc[:,[0,1,2,3,4,5,8,6,7]]\n",
    "nc_new_df"
   ]
  },
  {
   "cell_type": "code",
   "execution_count": 61,
   "id": "410b610e",
   "metadata": {},
   "outputs": [],
   "source": [
    "# Exporting new Df onto CSV file\n",
    "nc_new_df.to_csv('Resources/nc_accidents_data.csv', index=False)"
   ]
  },
  {
   "cell_type": "code",
   "execution_count": 62,
   "id": "d501c454",
   "metadata": {},
   "outputs": [
    {
     "data": {
      "text/html": [
       "<div>\n",
       "<style scoped>\n",
       "    .dataframe tbody tr th:only-of-type {\n",
       "        vertical-align: middle;\n",
       "    }\n",
       "\n",
       "    .dataframe tbody tr th {\n",
       "        vertical-align: top;\n",
       "    }\n",
       "\n",
       "    .dataframe thead th {\n",
       "        text-align: right;\n",
       "    }\n",
       "</style>\n",
       "<table border=\"1\" class=\"dataframe\">\n",
       "  <thead>\n",
       "    <tr style=\"text-align: right;\">\n",
       "      <th></th>\n",
       "      <th>COUNTYNAME</th>\n",
       "      <th>FATALS</th>\n",
       "      <th>PEDS</th>\n",
       "    </tr>\n",
       "  </thead>\n",
       "  <tbody>\n",
       "    <tr>\n",
       "      <th>0</th>\n",
       "      <td>MECKLENBURG</td>\n",
       "      <td>116</td>\n",
       "      <td>33</td>\n",
       "    </tr>\n",
       "    <tr>\n",
       "      <th>1</th>\n",
       "      <td>GUILFORD</td>\n",
       "      <td>88</td>\n",
       "      <td>21</td>\n",
       "    </tr>\n",
       "    <tr>\n",
       "      <th>2</th>\n",
       "      <td>WAKE</td>\n",
       "      <td>85</td>\n",
       "      <td>14</td>\n",
       "    </tr>\n",
       "    <tr>\n",
       "      <th>3</th>\n",
       "      <td>ROBESON</td>\n",
       "      <td>61</td>\n",
       "      <td>5</td>\n",
       "    </tr>\n",
       "    <tr>\n",
       "      <th>4</th>\n",
       "      <td>CUMBERLAND</td>\n",
       "      <td>53</td>\n",
       "      <td>10</td>\n",
       "    </tr>\n",
       "    <tr>\n",
       "      <th>...</th>\n",
       "      <td>...</td>\n",
       "      <td>...</td>\n",
       "      <td>...</td>\n",
       "    </tr>\n",
       "    <tr>\n",
       "      <th>92</th>\n",
       "      <td>PAMLICO</td>\n",
       "      <td>2</td>\n",
       "      <td>0</td>\n",
       "    </tr>\n",
       "    <tr>\n",
       "      <th>93</th>\n",
       "      <td>WASHINGTON</td>\n",
       "      <td>2</td>\n",
       "      <td>0</td>\n",
       "    </tr>\n",
       "    <tr>\n",
       "      <th>94</th>\n",
       "      <td>AVERY</td>\n",
       "      <td>1</td>\n",
       "      <td>0</td>\n",
       "    </tr>\n",
       "    <tr>\n",
       "      <th>95</th>\n",
       "      <td>CAMDEN</td>\n",
       "      <td>1</td>\n",
       "      <td>0</td>\n",
       "    </tr>\n",
       "    <tr>\n",
       "      <th>96</th>\n",
       "      <td>TYRRELL</td>\n",
       "      <td>1</td>\n",
       "      <td>0</td>\n",
       "    </tr>\n",
       "  </tbody>\n",
       "</table>\n",
       "<p>97 rows × 3 columns</p>\n",
       "</div>"
      ],
      "text/plain": [
       "      COUNTYNAME  FATALS  PEDS\n",
       "0   MECKLENBURG      116    33\n",
       "1      GUILFORD       88    21\n",
       "2          WAKE       85    14\n",
       "3       ROBESON       61     5\n",
       "4    CUMBERLAND       53    10\n",
       "..           ...     ...   ...\n",
       "92      PAMLICO        2     0\n",
       "93   WASHINGTON        2     0\n",
       "94        AVERY        1     0\n",
       "95       CAMDEN        1     0\n",
       "96      TYRRELL        1     0\n",
       "\n",
       "[97 rows x 3 columns]"
      ]
     },
     "execution_count": 62,
     "metadata": {},
     "output_type": "execute_result"
    }
   ],
   "source": [
    "# New Dataframe df1 grouped by COUNTYNAME and find the numer of  FATALS & PEDS\n",
    "\n",
    "df1 = nc_new_df.groupby(['COUNTYNAME']).agg({'FATALS':'sum','PEDS':'sum'}).sort_values(by = ['FATALS', 'PEDS'], ascending = [False, False]).reset_index()\n",
    "df1\n"
   ]
  },
  {
   "cell_type": "code",
   "execution_count": 63,
   "id": "b15d721e",
   "metadata": {},
   "outputs": [
    {
     "data": {
      "text/html": [
       "<div>\n",
       "<style scoped>\n",
       "    .dataframe tbody tr th:only-of-type {\n",
       "        vertical-align: middle;\n",
       "    }\n",
       "\n",
       "    .dataframe tbody tr th {\n",
       "        vertical-align: top;\n",
       "    }\n",
       "\n",
       "    .dataframe thead th {\n",
       "        text-align: right;\n",
       "    }\n",
       "</style>\n",
       "<table border=\"1\" class=\"dataframe\">\n",
       "  <thead>\n",
       "    <tr style=\"text-align: right;\">\n",
       "      <th></th>\n",
       "      <th>COUNTYNAME</th>\n",
       "      <th>FATALS</th>\n",
       "      <th>PEDS</th>\n",
       "      <th>PEDSPERCENTAGE</th>\n",
       "    </tr>\n",
       "  </thead>\n",
       "  <tbody>\n",
       "    <tr>\n",
       "      <th>0</th>\n",
       "      <td>MECKLENBURG</td>\n",
       "      <td>116</td>\n",
       "      <td>33</td>\n",
       "      <td>28.0</td>\n",
       "    </tr>\n",
       "    <tr>\n",
       "      <th>1</th>\n",
       "      <td>GUILFORD</td>\n",
       "      <td>88</td>\n",
       "      <td>21</td>\n",
       "      <td>24.0</td>\n",
       "    </tr>\n",
       "    <tr>\n",
       "      <th>2</th>\n",
       "      <td>WAKE</td>\n",
       "      <td>85</td>\n",
       "      <td>14</td>\n",
       "      <td>16.0</td>\n",
       "    </tr>\n",
       "    <tr>\n",
       "      <th>3</th>\n",
       "      <td>ROBESON</td>\n",
       "      <td>61</td>\n",
       "      <td>5</td>\n",
       "      <td>8.0</td>\n",
       "    </tr>\n",
       "    <tr>\n",
       "      <th>4</th>\n",
       "      <td>CUMBERLAND</td>\n",
       "      <td>53</td>\n",
       "      <td>10</td>\n",
       "      <td>19.0</td>\n",
       "    </tr>\n",
       "    <tr>\n",
       "      <th>5</th>\n",
       "      <td>FORSYTH</td>\n",
       "      <td>47</td>\n",
       "      <td>11</td>\n",
       "      <td>23.0</td>\n",
       "    </tr>\n",
       "    <tr>\n",
       "      <th>6</th>\n",
       "      <td>DAVIDSON</td>\n",
       "      <td>39</td>\n",
       "      <td>7</td>\n",
       "      <td>18.0</td>\n",
       "    </tr>\n",
       "    <tr>\n",
       "      <th>7</th>\n",
       "      <td>JOHNSTON</td>\n",
       "      <td>39</td>\n",
       "      <td>7</td>\n",
       "      <td>18.0</td>\n",
       "    </tr>\n",
       "    <tr>\n",
       "      <th>8</th>\n",
       "      <td>CATAWBA</td>\n",
       "      <td>37</td>\n",
       "      <td>5</td>\n",
       "      <td>14.0</td>\n",
       "    </tr>\n",
       "    <tr>\n",
       "      <th>9</th>\n",
       "      <td>HARNETT</td>\n",
       "      <td>36</td>\n",
       "      <td>8</td>\n",
       "      <td>22.0</td>\n",
       "    </tr>\n",
       "  </tbody>\n",
       "</table>\n",
       "</div>"
      ],
      "text/plain": [
       "     COUNTYNAME  FATALS  PEDS  PEDSPERCENTAGE\n",
       "0  MECKLENBURG      116    33            28.0\n",
       "1     GUILFORD       88    21            24.0\n",
       "2         WAKE       85    14            16.0\n",
       "3      ROBESON       61     5             8.0\n",
       "4   CUMBERLAND       53    10            19.0\n",
       "5      FORSYTH       47    11            23.0\n",
       "6     DAVIDSON       39     7            18.0\n",
       "7     JOHNSTON       39     7            18.0\n",
       "8      CATAWBA       37     5            14.0\n",
       "9      HARNETT       36     8            22.0"
      ]
     },
     "execution_count": 63,
     "metadata": {},
     "output_type": "execute_result"
    }
   ],
   "source": [
    "# #Find the top 10 counties with more number of FATALS\n",
    "# top_10_counties = df1.head(10)\n",
    "# top_10_counties\n",
    "#Find the top 10 counties with more number of FATALS and percentage of pedestrian involed\n",
    "top_10_counties = df1.head(10)\n",
    "top_10_counties.loc[:,'PEDSPERCENTAGE'] = (round((top_10_counties['PEDS'] / top_10_counties['FATALS']*100)))\n",
    "top_10_counties"
   ]
  },
  {
   "cell_type": "markdown",
   "id": "f553d0e9",
   "metadata": {},
   "source": [
    " ## Data Visualization using plotly express"
   ]
  },
  {
   "cell_type": "markdown",
   "id": "8bf629dc",
   "metadata": {},
   "source": [
    "### Top 10 fatality in NC counties in 2021 - Bar Graph"
   ]
  },
  {
   "cell_type": "code",
   "execution_count": 64,
   "id": "bb1a8610",
   "metadata": {},
   "outputs": [
    {
     "data": {
      "application/vnd.plotly.v1+json": {
       "config": {
        "plotlyServerURL": "https://plot.ly"
       },
       "data": [
        {
         "alignmentgroup": "True",
         "hovertemplate": "COUNTYNAME=%{x}<br>FATALS=%{y}<extra></extra>",
         "legendgroup": "",
         "marker": {
          "color": [
           "red",
           "orange",
           "goldenrod",
           "purple",
           "blue",
           "orange",
           "goldenrod",
           "green",
           "blue",
           "green"
          ],
          "pattern": {
           "shape": ""
          }
         },
         "name": "",
         "offsetgroup": "",
         "orientation": "v",
         "showlegend": false,
         "textposition": "auto",
         "type": "bar",
         "x": [
          "MECKLENBURG ",
          "GUILFORD ",
          "WAKE ",
          "ROBESON ",
          "CUMBERLAND ",
          "FORSYTH ",
          "DAVIDSON ",
          "JOHNSTON ",
          "CATAWBA ",
          "HARNETT "
         ],
         "xaxis": "x",
         "y": [
          116,
          88,
          85,
          61,
          53,
          47,
          39,
          39,
          37,
          36
         ],
         "yaxis": "y"
        }
       ],
       "layout": {
        "bargap": 0.0075,
        "barmode": "relative",
        "height": 500,
        "hoverlabel": {
         "bgcolor": "green",
         "font": {
          "family": "Arial",
          "size": 12
         }
        },
        "legend": {
         "tracegroupgap": 0
        },
        "margin": {
         "t": 60
        },
        "template": {
         "data": {
          "bar": [
           {
            "error_x": {
             "color": "rgb(36,36,36)"
            },
            "error_y": {
             "color": "rgb(36,36,36)"
            },
            "marker": {
             "line": {
              "color": "white",
              "width": 0.5
             },
             "pattern": {
              "fillmode": "overlay",
              "size": 10,
              "solidity": 0.2
             }
            },
            "type": "bar"
           }
          ],
          "barpolar": [
           {
            "marker": {
             "line": {
              "color": "white",
              "width": 0.5
             },
             "pattern": {
              "fillmode": "overlay",
              "size": 10,
              "solidity": 0.2
             }
            },
            "type": "barpolar"
           }
          ],
          "carpet": [
           {
            "aaxis": {
             "endlinecolor": "rgb(36,36,36)",
             "gridcolor": "white",
             "linecolor": "white",
             "minorgridcolor": "white",
             "startlinecolor": "rgb(36,36,36)"
            },
            "baxis": {
             "endlinecolor": "rgb(36,36,36)",
             "gridcolor": "white",
             "linecolor": "white",
             "minorgridcolor": "white",
             "startlinecolor": "rgb(36,36,36)"
            },
            "type": "carpet"
           }
          ],
          "choropleth": [
           {
            "colorbar": {
             "outlinewidth": 1,
             "tickcolor": "rgb(36,36,36)",
             "ticks": "outside"
            },
            "type": "choropleth"
           }
          ],
          "contour": [
           {
            "colorbar": {
             "outlinewidth": 1,
             "tickcolor": "rgb(36,36,36)",
             "ticks": "outside"
            },
            "colorscale": [
             [
              0,
              "#440154"
             ],
             [
              0.1111111111111111,
              "#482878"
             ],
             [
              0.2222222222222222,
              "#3e4989"
             ],
             [
              0.3333333333333333,
              "#31688e"
             ],
             [
              0.4444444444444444,
              "#26828e"
             ],
             [
              0.5555555555555556,
              "#1f9e89"
             ],
             [
              0.6666666666666666,
              "#35b779"
             ],
             [
              0.7777777777777778,
              "#6ece58"
             ],
             [
              0.8888888888888888,
              "#b5de2b"
             ],
             [
              1,
              "#fde725"
             ]
            ],
            "type": "contour"
           }
          ],
          "contourcarpet": [
           {
            "colorbar": {
             "outlinewidth": 1,
             "tickcolor": "rgb(36,36,36)",
             "ticks": "outside"
            },
            "type": "contourcarpet"
           }
          ],
          "heatmap": [
           {
            "colorbar": {
             "outlinewidth": 1,
             "tickcolor": "rgb(36,36,36)",
             "ticks": "outside"
            },
            "colorscale": [
             [
              0,
              "#440154"
             ],
             [
              0.1111111111111111,
              "#482878"
             ],
             [
              0.2222222222222222,
              "#3e4989"
             ],
             [
              0.3333333333333333,
              "#31688e"
             ],
             [
              0.4444444444444444,
              "#26828e"
             ],
             [
              0.5555555555555556,
              "#1f9e89"
             ],
             [
              0.6666666666666666,
              "#35b779"
             ],
             [
              0.7777777777777778,
              "#6ece58"
             ],
             [
              0.8888888888888888,
              "#b5de2b"
             ],
             [
              1,
              "#fde725"
             ]
            ],
            "type": "heatmap"
           }
          ],
          "heatmapgl": [
           {
            "colorbar": {
             "outlinewidth": 1,
             "tickcolor": "rgb(36,36,36)",
             "ticks": "outside"
            },
            "colorscale": [
             [
              0,
              "#440154"
             ],
             [
              0.1111111111111111,
              "#482878"
             ],
             [
              0.2222222222222222,
              "#3e4989"
             ],
             [
              0.3333333333333333,
              "#31688e"
             ],
             [
              0.4444444444444444,
              "#26828e"
             ],
             [
              0.5555555555555556,
              "#1f9e89"
             ],
             [
              0.6666666666666666,
              "#35b779"
             ],
             [
              0.7777777777777778,
              "#6ece58"
             ],
             [
              0.8888888888888888,
              "#b5de2b"
             ],
             [
              1,
              "#fde725"
             ]
            ],
            "type": "heatmapgl"
           }
          ],
          "histogram": [
           {
            "marker": {
             "line": {
              "color": "white",
              "width": 0.6
             }
            },
            "type": "histogram"
           }
          ],
          "histogram2d": [
           {
            "colorbar": {
             "outlinewidth": 1,
             "tickcolor": "rgb(36,36,36)",
             "ticks": "outside"
            },
            "colorscale": [
             [
              0,
              "#440154"
             ],
             [
              0.1111111111111111,
              "#482878"
             ],
             [
              0.2222222222222222,
              "#3e4989"
             ],
             [
              0.3333333333333333,
              "#31688e"
             ],
             [
              0.4444444444444444,
              "#26828e"
             ],
             [
              0.5555555555555556,
              "#1f9e89"
             ],
             [
              0.6666666666666666,
              "#35b779"
             ],
             [
              0.7777777777777778,
              "#6ece58"
             ],
             [
              0.8888888888888888,
              "#b5de2b"
             ],
             [
              1,
              "#fde725"
             ]
            ],
            "type": "histogram2d"
           }
          ],
          "histogram2dcontour": [
           {
            "colorbar": {
             "outlinewidth": 1,
             "tickcolor": "rgb(36,36,36)",
             "ticks": "outside"
            },
            "colorscale": [
             [
              0,
              "#440154"
             ],
             [
              0.1111111111111111,
              "#482878"
             ],
             [
              0.2222222222222222,
              "#3e4989"
             ],
             [
              0.3333333333333333,
              "#31688e"
             ],
             [
              0.4444444444444444,
              "#26828e"
             ],
             [
              0.5555555555555556,
              "#1f9e89"
             ],
             [
              0.6666666666666666,
              "#35b779"
             ],
             [
              0.7777777777777778,
              "#6ece58"
             ],
             [
              0.8888888888888888,
              "#b5de2b"
             ],
             [
              1,
              "#fde725"
             ]
            ],
            "type": "histogram2dcontour"
           }
          ],
          "mesh3d": [
           {
            "colorbar": {
             "outlinewidth": 1,
             "tickcolor": "rgb(36,36,36)",
             "ticks": "outside"
            },
            "type": "mesh3d"
           }
          ],
          "parcoords": [
           {
            "line": {
             "colorbar": {
              "outlinewidth": 1,
              "tickcolor": "rgb(36,36,36)",
              "ticks": "outside"
             }
            },
            "type": "parcoords"
           }
          ],
          "pie": [
           {
            "automargin": true,
            "type": "pie"
           }
          ],
          "scatter": [
           {
            "fillpattern": {
             "fillmode": "overlay",
             "size": 10,
             "solidity": 0.2
            },
            "type": "scatter"
           }
          ],
          "scatter3d": [
           {
            "line": {
             "colorbar": {
              "outlinewidth": 1,
              "tickcolor": "rgb(36,36,36)",
              "ticks": "outside"
             }
            },
            "marker": {
             "colorbar": {
              "outlinewidth": 1,
              "tickcolor": "rgb(36,36,36)",
              "ticks": "outside"
             }
            },
            "type": "scatter3d"
           }
          ],
          "scattercarpet": [
           {
            "marker": {
             "colorbar": {
              "outlinewidth": 1,
              "tickcolor": "rgb(36,36,36)",
              "ticks": "outside"
             }
            },
            "type": "scattercarpet"
           }
          ],
          "scattergeo": [
           {
            "marker": {
             "colorbar": {
              "outlinewidth": 1,
              "tickcolor": "rgb(36,36,36)",
              "ticks": "outside"
             }
            },
            "type": "scattergeo"
           }
          ],
          "scattergl": [
           {
            "marker": {
             "colorbar": {
              "outlinewidth": 1,
              "tickcolor": "rgb(36,36,36)",
              "ticks": "outside"
             }
            },
            "type": "scattergl"
           }
          ],
          "scattermapbox": [
           {
            "marker": {
             "colorbar": {
              "outlinewidth": 1,
              "tickcolor": "rgb(36,36,36)",
              "ticks": "outside"
             }
            },
            "type": "scattermapbox"
           }
          ],
          "scatterpolar": [
           {
            "marker": {
             "colorbar": {
              "outlinewidth": 1,
              "tickcolor": "rgb(36,36,36)",
              "ticks": "outside"
             }
            },
            "type": "scatterpolar"
           }
          ],
          "scatterpolargl": [
           {
            "marker": {
             "colorbar": {
              "outlinewidth": 1,
              "tickcolor": "rgb(36,36,36)",
              "ticks": "outside"
             }
            },
            "type": "scatterpolargl"
           }
          ],
          "scatterternary": [
           {
            "marker": {
             "colorbar": {
              "outlinewidth": 1,
              "tickcolor": "rgb(36,36,36)",
              "ticks": "outside"
             }
            },
            "type": "scatterternary"
           }
          ],
          "surface": [
           {
            "colorbar": {
             "outlinewidth": 1,
             "tickcolor": "rgb(36,36,36)",
             "ticks": "outside"
            },
            "colorscale": [
             [
              0,
              "#440154"
             ],
             [
              0.1111111111111111,
              "#482878"
             ],
             [
              0.2222222222222222,
              "#3e4989"
             ],
             [
              0.3333333333333333,
              "#31688e"
             ],
             [
              0.4444444444444444,
              "#26828e"
             ],
             [
              0.5555555555555556,
              "#1f9e89"
             ],
             [
              0.6666666666666666,
              "#35b779"
             ],
             [
              0.7777777777777778,
              "#6ece58"
             ],
             [
              0.8888888888888888,
              "#b5de2b"
             ],
             [
              1,
              "#fde725"
             ]
            ],
            "type": "surface"
           }
          ],
          "table": [
           {
            "cells": {
             "fill": {
              "color": "rgb(237,237,237)"
             },
             "line": {
              "color": "white"
             }
            },
            "header": {
             "fill": {
              "color": "rgb(217,217,217)"
             },
             "line": {
              "color": "white"
             }
            },
            "type": "table"
           }
          ]
         },
         "layout": {
          "annotationdefaults": {
           "arrowhead": 0,
           "arrowwidth": 1
          },
          "autotypenumbers": "strict",
          "coloraxis": {
           "colorbar": {
            "outlinewidth": 1,
            "tickcolor": "rgb(36,36,36)",
            "ticks": "outside"
           }
          },
          "colorscale": {
           "diverging": [
            [
             0,
             "rgb(103,0,31)"
            ],
            [
             0.1,
             "rgb(178,24,43)"
            ],
            [
             0.2,
             "rgb(214,96,77)"
            ],
            [
             0.3,
             "rgb(244,165,130)"
            ],
            [
             0.4,
             "rgb(253,219,199)"
            ],
            [
             0.5,
             "rgb(247,247,247)"
            ],
            [
             0.6,
             "rgb(209,229,240)"
            ],
            [
             0.7,
             "rgb(146,197,222)"
            ],
            [
             0.8,
             "rgb(67,147,195)"
            ],
            [
             0.9,
             "rgb(33,102,172)"
            ],
            [
             1,
             "rgb(5,48,97)"
            ]
           ],
           "sequential": [
            [
             0,
             "#440154"
            ],
            [
             0.1111111111111111,
             "#482878"
            ],
            [
             0.2222222222222222,
             "#3e4989"
            ],
            [
             0.3333333333333333,
             "#31688e"
            ],
            [
             0.4444444444444444,
             "#26828e"
            ],
            [
             0.5555555555555556,
             "#1f9e89"
            ],
            [
             0.6666666666666666,
             "#35b779"
            ],
            [
             0.7777777777777778,
             "#6ece58"
            ],
            [
             0.8888888888888888,
             "#b5de2b"
            ],
            [
             1,
             "#fde725"
            ]
           ],
           "sequentialminus": [
            [
             0,
             "#440154"
            ],
            [
             0.1111111111111111,
             "#482878"
            ],
            [
             0.2222222222222222,
             "#3e4989"
            ],
            [
             0.3333333333333333,
             "#31688e"
            ],
            [
             0.4444444444444444,
             "#26828e"
            ],
            [
             0.5555555555555556,
             "#1f9e89"
            ],
            [
             0.6666666666666666,
             "#35b779"
            ],
            [
             0.7777777777777778,
             "#6ece58"
            ],
            [
             0.8888888888888888,
             "#b5de2b"
            ],
            [
             1,
             "#fde725"
            ]
           ]
          },
          "colorway": [
           "#1F77B4",
           "#FF7F0E",
           "#2CA02C",
           "#D62728",
           "#9467BD",
           "#8C564B",
           "#E377C2",
           "#7F7F7F",
           "#BCBD22",
           "#17BECF"
          ],
          "font": {
           "color": "rgb(36,36,36)"
          },
          "geo": {
           "bgcolor": "white",
           "lakecolor": "white",
           "landcolor": "white",
           "showlakes": true,
           "showland": true,
           "subunitcolor": "white"
          },
          "hoverlabel": {
           "align": "left"
          },
          "hovermode": "closest",
          "mapbox": {
           "style": "light"
          },
          "paper_bgcolor": "white",
          "plot_bgcolor": "white",
          "polar": {
           "angularaxis": {
            "gridcolor": "rgb(232,232,232)",
            "linecolor": "rgb(36,36,36)",
            "showgrid": false,
            "showline": true,
            "ticks": "outside"
           },
           "bgcolor": "white",
           "radialaxis": {
            "gridcolor": "rgb(232,232,232)",
            "linecolor": "rgb(36,36,36)",
            "showgrid": false,
            "showline": true,
            "ticks": "outside"
           }
          },
          "scene": {
           "xaxis": {
            "backgroundcolor": "white",
            "gridcolor": "rgb(232,232,232)",
            "gridwidth": 2,
            "linecolor": "rgb(36,36,36)",
            "showbackground": true,
            "showgrid": false,
            "showline": true,
            "ticks": "outside",
            "zeroline": false,
            "zerolinecolor": "rgb(36,36,36)"
           },
           "yaxis": {
            "backgroundcolor": "white",
            "gridcolor": "rgb(232,232,232)",
            "gridwidth": 2,
            "linecolor": "rgb(36,36,36)",
            "showbackground": true,
            "showgrid": false,
            "showline": true,
            "ticks": "outside",
            "zeroline": false,
            "zerolinecolor": "rgb(36,36,36)"
           },
           "zaxis": {
            "backgroundcolor": "white",
            "gridcolor": "rgb(232,232,232)",
            "gridwidth": 2,
            "linecolor": "rgb(36,36,36)",
            "showbackground": true,
            "showgrid": false,
            "showline": true,
            "ticks": "outside",
            "zeroline": false,
            "zerolinecolor": "rgb(36,36,36)"
           }
          },
          "shapedefaults": {
           "fillcolor": "black",
           "line": {
            "width": 0
           },
           "opacity": 0.3
          },
          "ternary": {
           "aaxis": {
            "gridcolor": "rgb(232,232,232)",
            "linecolor": "rgb(36,36,36)",
            "showgrid": false,
            "showline": true,
            "ticks": "outside"
           },
           "baxis": {
            "gridcolor": "rgb(232,232,232)",
            "linecolor": "rgb(36,36,36)",
            "showgrid": false,
            "showline": true,
            "ticks": "outside"
           },
           "bgcolor": "white",
           "caxis": {
            "gridcolor": "rgb(232,232,232)",
            "linecolor": "rgb(36,36,36)",
            "showgrid": false,
            "showline": true,
            "ticks": "outside"
           }
          },
          "title": {
           "x": 0.05
          },
          "xaxis": {
           "automargin": true,
           "gridcolor": "rgb(232,232,232)",
           "linecolor": "rgb(36,36,36)",
           "showgrid": false,
           "showline": true,
           "ticks": "outside",
           "title": {
            "standoff": 15
           },
           "zeroline": false,
           "zerolinecolor": "rgb(36,36,36)"
          },
          "yaxis": {
           "automargin": true,
           "gridcolor": "rgb(232,232,232)",
           "linecolor": "rgb(36,36,36)",
           "showgrid": false,
           "showline": true,
           "ticks": "outside",
           "title": {
            "standoff": 15
           },
           "zeroline": false,
           "zerolinecolor": "rgb(36,36,36)"
          }
         }
        },
        "title": {
         "text": "Top 10 Fatality Counts in NC countities in 2021-2022"
        },
        "width": 800,
        "xaxis": {
         "anchor": "y",
         "domain": [
          0,
          1
         ],
         "title": {
          "text": "County Names"
         }
        },
        "yaxis": {
         "anchor": "x",
         "domain": [
          0,
          1
         ],
         "title": {
          "text": "No Of Fatalities"
         }
        }
       }
      },
      "text/html": [
       "<div>                            <div id=\"cc13b6b0-7807-4d4b-8b50-3a55acc4ca0d\" class=\"plotly-graph-div\" style=\"height:500px; width:800px;\"></div>            <script type=\"text/javascript\">                require([\"plotly\"], function(Plotly) {                    window.PLOTLYENV=window.PLOTLYENV || {};                                    if (document.getElementById(\"cc13b6b0-7807-4d4b-8b50-3a55acc4ca0d\")) {                    Plotly.newPlot(                        \"cc13b6b0-7807-4d4b-8b50-3a55acc4ca0d\",                        [{\"alignmentgroup\":\"True\",\"hovertemplate\":\"COUNTYNAME=%{x}<br>FATALS=%{y}<extra></extra>\",\"legendgroup\":\"\",\"marker\":{\"color\":[\"red\",\"orange\",\"goldenrod\",\"purple\",\"blue\",\"orange\",\"goldenrod\",\"green\",\"blue\",\"green\"],\"pattern\":{\"shape\":\"\"}},\"name\":\"\",\"offsetgroup\":\"\",\"orientation\":\"v\",\"showlegend\":false,\"textposition\":\"auto\",\"x\":[\"MECKLENBURG \",\"GUILFORD \",\"WAKE \",\"ROBESON \",\"CUMBERLAND \",\"FORSYTH \",\"DAVIDSON \",\"JOHNSTON \",\"CATAWBA \",\"HARNETT \"],\"xaxis\":\"x\",\"y\":[116,88,85,61,53,47,39,39,37,36],\"yaxis\":\"y\",\"type\":\"bar\"}],                        {\"template\":{\"data\":{\"barpolar\":[{\"marker\":{\"line\":{\"color\":\"white\",\"width\":0.5},\"pattern\":{\"fillmode\":\"overlay\",\"size\":10,\"solidity\":0.2}},\"type\":\"barpolar\"}],\"bar\":[{\"error_x\":{\"color\":\"rgb(36,36,36)\"},\"error_y\":{\"color\":\"rgb(36,36,36)\"},\"marker\":{\"line\":{\"color\":\"white\",\"width\":0.5},\"pattern\":{\"fillmode\":\"overlay\",\"size\":10,\"solidity\":0.2}},\"type\":\"bar\"}],\"carpet\":[{\"aaxis\":{\"endlinecolor\":\"rgb(36,36,36)\",\"gridcolor\":\"white\",\"linecolor\":\"white\",\"minorgridcolor\":\"white\",\"startlinecolor\":\"rgb(36,36,36)\"},\"baxis\":{\"endlinecolor\":\"rgb(36,36,36)\",\"gridcolor\":\"white\",\"linecolor\":\"white\",\"minorgridcolor\":\"white\",\"startlinecolor\":\"rgb(36,36,36)\"},\"type\":\"carpet\"}],\"choropleth\":[{\"colorbar\":{\"outlinewidth\":1,\"tickcolor\":\"rgb(36,36,36)\",\"ticks\":\"outside\"},\"type\":\"choropleth\"}],\"contourcarpet\":[{\"colorbar\":{\"outlinewidth\":1,\"tickcolor\":\"rgb(36,36,36)\",\"ticks\":\"outside\"},\"type\":\"contourcarpet\"}],\"contour\":[{\"colorbar\":{\"outlinewidth\":1,\"tickcolor\":\"rgb(36,36,36)\",\"ticks\":\"outside\"},\"colorscale\":[[0.0,\"#440154\"],[0.1111111111111111,\"#482878\"],[0.2222222222222222,\"#3e4989\"],[0.3333333333333333,\"#31688e\"],[0.4444444444444444,\"#26828e\"],[0.5555555555555556,\"#1f9e89\"],[0.6666666666666666,\"#35b779\"],[0.7777777777777778,\"#6ece58\"],[0.8888888888888888,\"#b5de2b\"],[1.0,\"#fde725\"]],\"type\":\"contour\"}],\"heatmapgl\":[{\"colorbar\":{\"outlinewidth\":1,\"tickcolor\":\"rgb(36,36,36)\",\"ticks\":\"outside\"},\"colorscale\":[[0.0,\"#440154\"],[0.1111111111111111,\"#482878\"],[0.2222222222222222,\"#3e4989\"],[0.3333333333333333,\"#31688e\"],[0.4444444444444444,\"#26828e\"],[0.5555555555555556,\"#1f9e89\"],[0.6666666666666666,\"#35b779\"],[0.7777777777777778,\"#6ece58\"],[0.8888888888888888,\"#b5de2b\"],[1.0,\"#fde725\"]],\"type\":\"heatmapgl\"}],\"heatmap\":[{\"colorbar\":{\"outlinewidth\":1,\"tickcolor\":\"rgb(36,36,36)\",\"ticks\":\"outside\"},\"colorscale\":[[0.0,\"#440154\"],[0.1111111111111111,\"#482878\"],[0.2222222222222222,\"#3e4989\"],[0.3333333333333333,\"#31688e\"],[0.4444444444444444,\"#26828e\"],[0.5555555555555556,\"#1f9e89\"],[0.6666666666666666,\"#35b779\"],[0.7777777777777778,\"#6ece58\"],[0.8888888888888888,\"#b5de2b\"],[1.0,\"#fde725\"]],\"type\":\"heatmap\"}],\"histogram2dcontour\":[{\"colorbar\":{\"outlinewidth\":1,\"tickcolor\":\"rgb(36,36,36)\",\"ticks\":\"outside\"},\"colorscale\":[[0.0,\"#440154\"],[0.1111111111111111,\"#482878\"],[0.2222222222222222,\"#3e4989\"],[0.3333333333333333,\"#31688e\"],[0.4444444444444444,\"#26828e\"],[0.5555555555555556,\"#1f9e89\"],[0.6666666666666666,\"#35b779\"],[0.7777777777777778,\"#6ece58\"],[0.8888888888888888,\"#b5de2b\"],[1.0,\"#fde725\"]],\"type\":\"histogram2dcontour\"}],\"histogram2d\":[{\"colorbar\":{\"outlinewidth\":1,\"tickcolor\":\"rgb(36,36,36)\",\"ticks\":\"outside\"},\"colorscale\":[[0.0,\"#440154\"],[0.1111111111111111,\"#482878\"],[0.2222222222222222,\"#3e4989\"],[0.3333333333333333,\"#31688e\"],[0.4444444444444444,\"#26828e\"],[0.5555555555555556,\"#1f9e89\"],[0.6666666666666666,\"#35b779\"],[0.7777777777777778,\"#6ece58\"],[0.8888888888888888,\"#b5de2b\"],[1.0,\"#fde725\"]],\"type\":\"histogram2d\"}],\"histogram\":[{\"marker\":{\"line\":{\"color\":\"white\",\"width\":0.6}},\"type\":\"histogram\"}],\"mesh3d\":[{\"colorbar\":{\"outlinewidth\":1,\"tickcolor\":\"rgb(36,36,36)\",\"ticks\":\"outside\"},\"type\":\"mesh3d\"}],\"parcoords\":[{\"line\":{\"colorbar\":{\"outlinewidth\":1,\"tickcolor\":\"rgb(36,36,36)\",\"ticks\":\"outside\"}},\"type\":\"parcoords\"}],\"pie\":[{\"automargin\":true,\"type\":\"pie\"}],\"scatter3d\":[{\"line\":{\"colorbar\":{\"outlinewidth\":1,\"tickcolor\":\"rgb(36,36,36)\",\"ticks\":\"outside\"}},\"marker\":{\"colorbar\":{\"outlinewidth\":1,\"tickcolor\":\"rgb(36,36,36)\",\"ticks\":\"outside\"}},\"type\":\"scatter3d\"}],\"scattercarpet\":[{\"marker\":{\"colorbar\":{\"outlinewidth\":1,\"tickcolor\":\"rgb(36,36,36)\",\"ticks\":\"outside\"}},\"type\":\"scattercarpet\"}],\"scattergeo\":[{\"marker\":{\"colorbar\":{\"outlinewidth\":1,\"tickcolor\":\"rgb(36,36,36)\",\"ticks\":\"outside\"}},\"type\":\"scattergeo\"}],\"scattergl\":[{\"marker\":{\"colorbar\":{\"outlinewidth\":1,\"tickcolor\":\"rgb(36,36,36)\",\"ticks\":\"outside\"}},\"type\":\"scattergl\"}],\"scattermapbox\":[{\"marker\":{\"colorbar\":{\"outlinewidth\":1,\"tickcolor\":\"rgb(36,36,36)\",\"ticks\":\"outside\"}},\"type\":\"scattermapbox\"}],\"scatterpolargl\":[{\"marker\":{\"colorbar\":{\"outlinewidth\":1,\"tickcolor\":\"rgb(36,36,36)\",\"ticks\":\"outside\"}},\"type\":\"scatterpolargl\"}],\"scatterpolar\":[{\"marker\":{\"colorbar\":{\"outlinewidth\":1,\"tickcolor\":\"rgb(36,36,36)\",\"ticks\":\"outside\"}},\"type\":\"scatterpolar\"}],\"scatter\":[{\"fillpattern\":{\"fillmode\":\"overlay\",\"size\":10,\"solidity\":0.2},\"type\":\"scatter\"}],\"scatterternary\":[{\"marker\":{\"colorbar\":{\"outlinewidth\":1,\"tickcolor\":\"rgb(36,36,36)\",\"ticks\":\"outside\"}},\"type\":\"scatterternary\"}],\"surface\":[{\"colorbar\":{\"outlinewidth\":1,\"tickcolor\":\"rgb(36,36,36)\",\"ticks\":\"outside\"},\"colorscale\":[[0.0,\"#440154\"],[0.1111111111111111,\"#482878\"],[0.2222222222222222,\"#3e4989\"],[0.3333333333333333,\"#31688e\"],[0.4444444444444444,\"#26828e\"],[0.5555555555555556,\"#1f9e89\"],[0.6666666666666666,\"#35b779\"],[0.7777777777777778,\"#6ece58\"],[0.8888888888888888,\"#b5de2b\"],[1.0,\"#fde725\"]],\"type\":\"surface\"}],\"table\":[{\"cells\":{\"fill\":{\"color\":\"rgb(237,237,237)\"},\"line\":{\"color\":\"white\"}},\"header\":{\"fill\":{\"color\":\"rgb(217,217,217)\"},\"line\":{\"color\":\"white\"}},\"type\":\"table\"}]},\"layout\":{\"annotationdefaults\":{\"arrowhead\":0,\"arrowwidth\":1},\"autotypenumbers\":\"strict\",\"coloraxis\":{\"colorbar\":{\"outlinewidth\":1,\"tickcolor\":\"rgb(36,36,36)\",\"ticks\":\"outside\"}},\"colorscale\":{\"diverging\":[[0.0,\"rgb(103,0,31)\"],[0.1,\"rgb(178,24,43)\"],[0.2,\"rgb(214,96,77)\"],[0.3,\"rgb(244,165,130)\"],[0.4,\"rgb(253,219,199)\"],[0.5,\"rgb(247,247,247)\"],[0.6,\"rgb(209,229,240)\"],[0.7,\"rgb(146,197,222)\"],[0.8,\"rgb(67,147,195)\"],[0.9,\"rgb(33,102,172)\"],[1.0,\"rgb(5,48,97)\"]],\"sequential\":[[0.0,\"#440154\"],[0.1111111111111111,\"#482878\"],[0.2222222222222222,\"#3e4989\"],[0.3333333333333333,\"#31688e\"],[0.4444444444444444,\"#26828e\"],[0.5555555555555556,\"#1f9e89\"],[0.6666666666666666,\"#35b779\"],[0.7777777777777778,\"#6ece58\"],[0.8888888888888888,\"#b5de2b\"],[1.0,\"#fde725\"]],\"sequentialminus\":[[0.0,\"#440154\"],[0.1111111111111111,\"#482878\"],[0.2222222222222222,\"#3e4989\"],[0.3333333333333333,\"#31688e\"],[0.4444444444444444,\"#26828e\"],[0.5555555555555556,\"#1f9e89\"],[0.6666666666666666,\"#35b779\"],[0.7777777777777778,\"#6ece58\"],[0.8888888888888888,\"#b5de2b\"],[1.0,\"#fde725\"]]},\"colorway\":[\"#1F77B4\",\"#FF7F0E\",\"#2CA02C\",\"#D62728\",\"#9467BD\",\"#8C564B\",\"#E377C2\",\"#7F7F7F\",\"#BCBD22\",\"#17BECF\"],\"font\":{\"color\":\"rgb(36,36,36)\"},\"geo\":{\"bgcolor\":\"white\",\"lakecolor\":\"white\",\"landcolor\":\"white\",\"showlakes\":true,\"showland\":true,\"subunitcolor\":\"white\"},\"hoverlabel\":{\"align\":\"left\"},\"hovermode\":\"closest\",\"mapbox\":{\"style\":\"light\"},\"paper_bgcolor\":\"white\",\"plot_bgcolor\":\"white\",\"polar\":{\"angularaxis\":{\"gridcolor\":\"rgb(232,232,232)\",\"linecolor\":\"rgb(36,36,36)\",\"showgrid\":false,\"showline\":true,\"ticks\":\"outside\"},\"bgcolor\":\"white\",\"radialaxis\":{\"gridcolor\":\"rgb(232,232,232)\",\"linecolor\":\"rgb(36,36,36)\",\"showgrid\":false,\"showline\":true,\"ticks\":\"outside\"}},\"scene\":{\"xaxis\":{\"backgroundcolor\":\"white\",\"gridcolor\":\"rgb(232,232,232)\",\"gridwidth\":2,\"linecolor\":\"rgb(36,36,36)\",\"showbackground\":true,\"showgrid\":false,\"showline\":true,\"ticks\":\"outside\",\"zeroline\":false,\"zerolinecolor\":\"rgb(36,36,36)\"},\"yaxis\":{\"backgroundcolor\":\"white\",\"gridcolor\":\"rgb(232,232,232)\",\"gridwidth\":2,\"linecolor\":\"rgb(36,36,36)\",\"showbackground\":true,\"showgrid\":false,\"showline\":true,\"ticks\":\"outside\",\"zeroline\":false,\"zerolinecolor\":\"rgb(36,36,36)\"},\"zaxis\":{\"backgroundcolor\":\"white\",\"gridcolor\":\"rgb(232,232,232)\",\"gridwidth\":2,\"linecolor\":\"rgb(36,36,36)\",\"showbackground\":true,\"showgrid\":false,\"showline\":true,\"ticks\":\"outside\",\"zeroline\":false,\"zerolinecolor\":\"rgb(36,36,36)\"}},\"shapedefaults\":{\"fillcolor\":\"black\",\"line\":{\"width\":0},\"opacity\":0.3},\"ternary\":{\"aaxis\":{\"gridcolor\":\"rgb(232,232,232)\",\"linecolor\":\"rgb(36,36,36)\",\"showgrid\":false,\"showline\":true,\"ticks\":\"outside\"},\"baxis\":{\"gridcolor\":\"rgb(232,232,232)\",\"linecolor\":\"rgb(36,36,36)\",\"showgrid\":false,\"showline\":true,\"ticks\":\"outside\"},\"bgcolor\":\"white\",\"caxis\":{\"gridcolor\":\"rgb(232,232,232)\",\"linecolor\":\"rgb(36,36,36)\",\"showgrid\":false,\"showline\":true,\"ticks\":\"outside\"}},\"title\":{\"x\":0.05},\"xaxis\":{\"automargin\":true,\"gridcolor\":\"rgb(232,232,232)\",\"linecolor\":\"rgb(36,36,36)\",\"showgrid\":false,\"showline\":true,\"ticks\":\"outside\",\"title\":{\"standoff\":15},\"zeroline\":false,\"zerolinecolor\":\"rgb(36,36,36)\"},\"yaxis\":{\"automargin\":true,\"gridcolor\":\"rgb(232,232,232)\",\"linecolor\":\"rgb(36,36,36)\",\"showgrid\":false,\"showline\":true,\"ticks\":\"outside\",\"title\":{\"standoff\":15},\"zeroline\":false,\"zerolinecolor\":\"rgb(36,36,36)\"}}},\"xaxis\":{\"anchor\":\"y\",\"domain\":[0.0,1.0],\"title\":{\"text\":\"County Names\"}},\"yaxis\":{\"anchor\":\"x\",\"domain\":[0.0,1.0],\"title\":{\"text\":\"No Of Fatalities\"}},\"legend\":{\"tracegroupgap\":0},\"margin\":{\"t\":60},\"barmode\":\"relative\",\"hoverlabel\":{\"font\":{\"size\":12,\"family\":\"Arial\"},\"bgcolor\":\"green\"},\"bargap\":0.0075,\"title\":{\"text\":\"Top 10 Fatality Counts in NC countities in 2021-2022\"},\"width\":800,\"height\":500},                        {\"responsive\": true}                    ).then(function(){\n",
       "                            \n",
       "var gd = document.getElementById('cc13b6b0-7807-4d4b-8b50-3a55acc4ca0d');\n",
       "var x = new MutationObserver(function (mutations, observer) {{\n",
       "        var display = window.getComputedStyle(gd).display;\n",
       "        if (!display || display === 'none') {{\n",
       "            console.log([gd, 'removed!']);\n",
       "            Plotly.purge(gd);\n",
       "            observer.disconnect();\n",
       "        }}\n",
       "}});\n",
       "\n",
       "// Listen for the removal of the full notebook cells\n",
       "var notebookContainer = gd.closest('#notebook-container');\n",
       "if (notebookContainer) {{\n",
       "    x.observe(notebookContainer, {childList: true});\n",
       "}}\n",
       "\n",
       "// Listen for the clearing of the current output cell\n",
       "var outputEl = gd.closest('.output');\n",
       "if (outputEl) {{\n",
       "    x.observe(outputEl, {childList: true});\n",
       "}}\n",
       "\n",
       "                        })                };                });            </script>        </div>"
      ]
     },
     "metadata": {},
     "output_type": "display_data"
    }
   ],
   "source": [
    "# show a bar graph to show the top 10 counties in NC have the most fatalities in year 2021\n",
    "fig = px.bar(top_10_counties, x='COUNTYNAME', y='FATALS')\n",
    "fig.update_layout(\n",
    "    bargap = 0.0075, \n",
    "    title = 'Top 10 Fatality Counts in NC countities in 2021-2022',\n",
    "    width = 800,\n",
    "    height = 500,\n",
    "    xaxis_title = 'County Names',\n",
    "    yaxis_title = 'No Of Fatalities',\n",
    "    template=\"simple_white\",\n",
    "    hoverlabel=dict(\n",
    "        bgcolor=\"green\",\n",
    "        font_size=12,\n",
    "        font_family=\"Arial\"\n",
    "    )\n",
    ")\n",
    "fig.update_traces(marker_color=[\"red\", \"orange\", \"goldenrod\", \"purple\", \"blue\",\"orange\", \"goldenrod\", \"green\", \"blue\", \"green\"])\n",
    "fig.show()\n",
    "fig.write_html(\"Resources/bar_top10county.html\")"
   ]
  },
  {
   "cell_type": "code",
   "execution_count": 65,
   "id": "f6605282",
   "metadata": {},
   "outputs": [
    {
     "data": {
      "text/html": [
       "<div>\n",
       "<style scoped>\n",
       "    .dataframe tbody tr th:only-of-type {\n",
       "        vertical-align: middle;\n",
       "    }\n",
       "\n",
       "    .dataframe tbody tr th {\n",
       "        vertical-align: top;\n",
       "    }\n",
       "\n",
       "    .dataframe thead th {\n",
       "        text-align: right;\n",
       "    }\n",
       "</style>\n",
       "<table border=\"1\" class=\"dataframe\">\n",
       "  <thead>\n",
       "    <tr style=\"text-align: right;\">\n",
       "      <th></th>\n",
       "      <th>Date</th>\n",
       "      <th>FATALS</th>\n",
       "    </tr>\n",
       "  </thead>\n",
       "  <tbody>\n",
       "    <tr>\n",
       "      <th>0</th>\n",
       "      <td>2021-01-09</td>\n",
       "      <td>11</td>\n",
       "    </tr>\n",
       "    <tr>\n",
       "      <th>1</th>\n",
       "      <td>2021-07-11</td>\n",
       "      <td>11</td>\n",
       "    </tr>\n",
       "    <tr>\n",
       "      <th>2</th>\n",
       "      <td>2021-05-24</td>\n",
       "      <td>11</td>\n",
       "    </tr>\n",
       "    <tr>\n",
       "      <th>3</th>\n",
       "      <td>2021-04-15</td>\n",
       "      <td>10</td>\n",
       "    </tr>\n",
       "    <tr>\n",
       "      <th>4</th>\n",
       "      <td>2021-09-05</td>\n",
       "      <td>10</td>\n",
       "    </tr>\n",
       "  </tbody>\n",
       "</table>\n",
       "</div>"
      ],
      "text/plain": [
       "        Date  FATALS\n",
       "0 2021-01-09      11\n",
       "1 2021-07-11      11\n",
       "2 2021-05-24      11\n",
       "3 2021-04-15      10\n",
       "4 2021-09-05      10"
      ]
     },
     "execution_count": 65,
     "metadata": {},
     "output_type": "execute_result"
    }
   ],
   "source": [
    "# # Grouping the dataframe with Date Column \n",
    "df2 = nc_new_df.groupby('Date')['FATALS'].count().sort_values(ascending=False).reset_index()\n",
    "df2.head()\n"
   ]
  },
  {
   "cell_type": "code",
   "execution_count": 66,
   "id": "7ad66f80",
   "metadata": {},
   "outputs": [
    {
     "data": {
      "text/html": [
       "<div>\n",
       "<style scoped>\n",
       "    .dataframe tbody tr th:only-of-type {\n",
       "        vertical-align: middle;\n",
       "    }\n",
       "\n",
       "    .dataframe tbody tr th {\n",
       "        vertical-align: top;\n",
       "    }\n",
       "\n",
       "    .dataframe thead th {\n",
       "        text-align: right;\n",
       "    }\n",
       "</style>\n",
       "<table border=\"1\" class=\"dataframe\">\n",
       "  <thead>\n",
       "    <tr style=\"text-align: right;\">\n",
       "      <th></th>\n",
       "      <th>ST_CASE</th>\n",
       "      <th>STATENAME</th>\n",
       "      <th>COUNTYNAME</th>\n",
       "      <th>CITYNAME</th>\n",
       "      <th>PEDS</th>\n",
       "      <th>FATALS</th>\n",
       "      <th>Date</th>\n",
       "      <th>LATITUDE</th>\n",
       "      <th>LONGITUD</th>\n",
       "      <th>Month</th>\n",
       "    </tr>\n",
       "  </thead>\n",
       "  <tbody>\n",
       "    <tr>\n",
       "      <th>26387</th>\n",
       "      <td>371554</td>\n",
       "      <td>North Carolina</td>\n",
       "      <td>RUTHERFORD</td>\n",
       "      <td>NOT APPLICABLE</td>\n",
       "      <td>2</td>\n",
       "      <td>1</td>\n",
       "      <td>2021-09-02</td>\n",
       "      <td>35.312558</td>\n",
       "      <td>-81.798714</td>\n",
       "      <td>September</td>\n",
       "    </tr>\n",
       "    <tr>\n",
       "      <th>26388</th>\n",
       "      <td>371555</td>\n",
       "      <td>North Carolina</td>\n",
       "      <td>WAKE</td>\n",
       "      <td>NOT APPLICABLE</td>\n",
       "      <td>0</td>\n",
       "      <td>1</td>\n",
       "      <td>2021-07-29</td>\n",
       "      <td>35.677208</td>\n",
       "      <td>-78.687242</td>\n",
       "      <td>July</td>\n",
       "    </tr>\n",
       "    <tr>\n",
       "      <th>26389</th>\n",
       "      <td>371556</td>\n",
       "      <td>North Carolina</td>\n",
       "      <td>HARNETT</td>\n",
       "      <td>ERWIN</td>\n",
       "      <td>0</td>\n",
       "      <td>1</td>\n",
       "      <td>2021-08-13</td>\n",
       "      <td>35.328497</td>\n",
       "      <td>-78.660500</td>\n",
       "      <td>August</td>\n",
       "    </tr>\n",
       "    <tr>\n",
       "      <th>26390</th>\n",
       "      <td>371557</td>\n",
       "      <td>North Carolina</td>\n",
       "      <td>BUNCOMBE</td>\n",
       "      <td>ASHEVILLE</td>\n",
       "      <td>1</td>\n",
       "      <td>1</td>\n",
       "      <td>2021-12-14</td>\n",
       "      <td>35.480247</td>\n",
       "      <td>-82.548406</td>\n",
       "      <td>December</td>\n",
       "    </tr>\n",
       "    <tr>\n",
       "      <th>26391</th>\n",
       "      <td>371558</td>\n",
       "      <td>North Carolina</td>\n",
       "      <td>COLUMBUS</td>\n",
       "      <td>NOT APPLICABLE</td>\n",
       "      <td>1</td>\n",
       "      <td>1</td>\n",
       "      <td>2021-11-23</td>\n",
       "      <td>34.320525</td>\n",
       "      <td>-78.392950</td>\n",
       "      <td>November</td>\n",
       "    </tr>\n",
       "  </tbody>\n",
       "</table>\n",
       "</div>"
      ],
      "text/plain": [
       "       ST_CASE       STATENAME   COUNTYNAME        CITYNAME  PEDS  FATALS  \\\n",
       "26387   371554  North Carolina  RUTHERFORD   NOT APPLICABLE     2       1   \n",
       "26388   371555  North Carolina        WAKE   NOT APPLICABLE     0       1   \n",
       "26389   371556  North Carolina     HARNETT            ERWIN     0       1   \n",
       "26390   371557  North Carolina    BUNCOMBE        ASHEVILLE     1       1   \n",
       "26391   371558  North Carolina    COLUMBUS   NOT APPLICABLE     1       1   \n",
       "\n",
       "            Date   LATITUDE   LONGITUD      Month  \n",
       "26387 2021-09-02  35.312558 -81.798714  September  \n",
       "26388 2021-07-29  35.677208 -78.687242       July  \n",
       "26389 2021-08-13  35.328497 -78.660500     August  \n",
       "26390 2021-12-14  35.480247 -82.548406   December  \n",
       "26391 2021-11-23  34.320525 -78.392950   November  "
      ]
     },
     "execution_count": 66,
     "metadata": {},
     "output_type": "execute_result"
    }
   ],
   "source": [
    "#Extracting the month name from the Date column\n",
    "nc_new_df.loc[:,'Month'] = nc_new_df['Date'].dt.month_name()\n",
    "nc_new_df.tail()\n"
   ]
  },
  {
   "cell_type": "code",
   "execution_count": 67,
   "id": "055d5b9d",
   "metadata": {},
   "outputs": [
    {
     "data": {
      "text/html": [
       "<div>\n",
       "<style scoped>\n",
       "    .dataframe tbody tr th:only-of-type {\n",
       "        vertical-align: middle;\n",
       "    }\n",
       "\n",
       "    .dataframe tbody tr th {\n",
       "        vertical-align: top;\n",
       "    }\n",
       "\n",
       "    .dataframe thead th {\n",
       "        text-align: right;\n",
       "    }\n",
       "</style>\n",
       "<table border=\"1\" class=\"dataframe\">\n",
       "  <thead>\n",
       "    <tr style=\"text-align: right;\">\n",
       "      <th></th>\n",
       "      <th>Month</th>\n",
       "      <th>FATALS</th>\n",
       "    </tr>\n",
       "  </thead>\n",
       "  <tbody>\n",
       "    <tr>\n",
       "      <th>0</th>\n",
       "      <td>April</td>\n",
       "      <td>162</td>\n",
       "    </tr>\n",
       "    <tr>\n",
       "      <th>1</th>\n",
       "      <td>October</td>\n",
       "      <td>158</td>\n",
       "    </tr>\n",
       "    <tr>\n",
       "      <th>2</th>\n",
       "      <td>July</td>\n",
       "      <td>142</td>\n",
       "    </tr>\n",
       "    <tr>\n",
       "      <th>3</th>\n",
       "      <td>June</td>\n",
       "      <td>140</td>\n",
       "    </tr>\n",
       "    <tr>\n",
       "      <th>4</th>\n",
       "      <td>May</td>\n",
       "      <td>135</td>\n",
       "    </tr>\n",
       "    <tr>\n",
       "      <th>5</th>\n",
       "      <td>December</td>\n",
       "      <td>132</td>\n",
       "    </tr>\n",
       "    <tr>\n",
       "      <th>6</th>\n",
       "      <td>September</td>\n",
       "      <td>130</td>\n",
       "    </tr>\n",
       "    <tr>\n",
       "      <th>7</th>\n",
       "      <td>August</td>\n",
       "      <td>124</td>\n",
       "    </tr>\n",
       "    <tr>\n",
       "      <th>8</th>\n",
       "      <td>January</td>\n",
       "      <td>123</td>\n",
       "    </tr>\n",
       "    <tr>\n",
       "      <th>9</th>\n",
       "      <td>March</td>\n",
       "      <td>106</td>\n",
       "    </tr>\n",
       "    <tr>\n",
       "      <th>10</th>\n",
       "      <td>November</td>\n",
       "      <td>106</td>\n",
       "    </tr>\n",
       "    <tr>\n",
       "      <th>11</th>\n",
       "      <td>February</td>\n",
       "      <td>77</td>\n",
       "    </tr>\n",
       "  </tbody>\n",
       "</table>\n",
       "</div>"
      ],
      "text/plain": [
       "        Month  FATALS\n",
       "0       April     162\n",
       "1     October     158\n",
       "2        July     142\n",
       "3        June     140\n",
       "4         May     135\n",
       "5    December     132\n",
       "6   September     130\n",
       "7      August     124\n",
       "8     January     123\n",
       "9       March     106\n",
       "10   November     106\n",
       "11   February      77"
      ]
     },
     "execution_count": 67,
     "metadata": {},
     "output_type": "execute_result"
    }
   ],
   "source": [
    "# Creating a new Data Frame df3 by grouping by Month and Fatals from nc_new_df\n",
    "df3 = nc_new_df.groupby(['Month'])['FATALS'].count().sort_values(ascending = [False]).reset_index()\n",
    "df3\n"
   ]
  },
  {
   "cell_type": "markdown",
   "id": "91224e9a",
   "metadata": {},
   "source": [
    "### Histogram represents fatalities in each month in 2021"
   ]
  },
  {
   "cell_type": "code",
   "execution_count": 68,
   "id": "bf9c1c38",
   "metadata": {},
   "outputs": [
    {
     "data": {
      "text/html": [
       "<div>\n",
       "<style scoped>\n",
       "    .dataframe tbody tr th:only-of-type {\n",
       "        vertical-align: middle;\n",
       "    }\n",
       "\n",
       "    .dataframe tbody tr th {\n",
       "        vertical-align: top;\n",
       "    }\n",
       "\n",
       "    .dataframe thead th {\n",
       "        text-align: right;\n",
       "    }\n",
       "</style>\n",
       "<table border=\"1\" class=\"dataframe\">\n",
       "  <thead>\n",
       "    <tr style=\"text-align: right;\">\n",
       "      <th></th>\n",
       "      <th>Month</th>\n",
       "      <th>Fatals</th>\n",
       "    </tr>\n",
       "  </thead>\n",
       "  <tbody>\n",
       "    <tr>\n",
       "      <th>0</th>\n",
       "      <td>January</td>\n",
       "      <td>123</td>\n",
       "    </tr>\n",
       "    <tr>\n",
       "      <th>1</th>\n",
       "      <td>February</td>\n",
       "      <td>77</td>\n",
       "    </tr>\n",
       "    <tr>\n",
       "      <th>2</th>\n",
       "      <td>March</td>\n",
       "      <td>106</td>\n",
       "    </tr>\n",
       "    <tr>\n",
       "      <th>3</th>\n",
       "      <td>April</td>\n",
       "      <td>162</td>\n",
       "    </tr>\n",
       "    <tr>\n",
       "      <th>4</th>\n",
       "      <td>May</td>\n",
       "      <td>135</td>\n",
       "    </tr>\n",
       "    <tr>\n",
       "      <th>5</th>\n",
       "      <td>June</td>\n",
       "      <td>140</td>\n",
       "    </tr>\n",
       "    <tr>\n",
       "      <th>6</th>\n",
       "      <td>July</td>\n",
       "      <td>142</td>\n",
       "    </tr>\n",
       "    <tr>\n",
       "      <th>7</th>\n",
       "      <td>August</td>\n",
       "      <td>124</td>\n",
       "    </tr>\n",
       "    <tr>\n",
       "      <th>8</th>\n",
       "      <td>September</td>\n",
       "      <td>130</td>\n",
       "    </tr>\n",
       "    <tr>\n",
       "      <th>9</th>\n",
       "      <td>October</td>\n",
       "      <td>158</td>\n",
       "    </tr>\n",
       "    <tr>\n",
       "      <th>10</th>\n",
       "      <td>November</td>\n",
       "      <td>106</td>\n",
       "    </tr>\n",
       "    <tr>\n",
       "      <th>11</th>\n",
       "      <td>December</td>\n",
       "      <td>132</td>\n",
       "    </tr>\n",
       "  </tbody>\n",
       "</table>\n",
       "</div>"
      ],
      "text/plain": [
       "        Month  Fatals\n",
       "0     January     123\n",
       "1    February      77\n",
       "2       March     106\n",
       "3       April     162\n",
       "4         May     135\n",
       "5        June     140\n",
       "6        July     142\n",
       "7      August     124\n",
       "8   September     130\n",
       "9     October     158\n",
       "10   November     106\n",
       "11   December     132"
      ]
     },
     "execution_count": 68,
     "metadata": {},
     "output_type": "execute_result"
    }
   ],
   "source": [
    "# Rearrange the dataFrame by Month names\n",
    "df4= pd.DataFrame([['January',123],['February',77],['March',106],['April',162],['May',135],['June',140],['July',142],['August',124],['September',130],['October',158],['November',106],['December',132]], columns=['Month','Fatals'])\n",
    "df4\n"
   ]
  },
  {
   "cell_type": "code",
   "execution_count": 69,
   "id": "6bc345f8",
   "metadata": {},
   "outputs": [
    {
     "data": {
      "application/vnd.plotly.v1+json": {
       "config": {
        "plotlyServerURL": "https://plot.ly"
       },
       "data": [
        {
         "alignmentgroup": "True",
         "bingroup": "y",
         "histfunc": "sum",
         "hovertemplate": "Fatals=123<br>sum of Fatals=%{x}<br>Month=%{y}<extra></extra>",
         "legendgroup": "123",
         "marker": {
          "color": "#636efa",
          "opacity": 0.5,
          "pattern": {
           "shape": ""
          }
         },
         "name": "123",
         "offsetgroup": "123",
         "orientation": "h",
         "showlegend": true,
         "type": "histogram",
         "x": [
          123
         ],
         "xaxis": "x",
         "y": [
          "January"
         ],
         "yaxis": "y"
        },
        {
         "alignmentgroup": "True",
         "bingroup": "y",
         "histfunc": "sum",
         "hovertemplate": "Fatals=77<br>sum of Fatals=%{x}<br>Month=%{y}<extra></extra>",
         "legendgroup": "77",
         "marker": {
          "color": "#EF553B",
          "opacity": 0.5,
          "pattern": {
           "shape": ""
          }
         },
         "name": "77",
         "offsetgroup": "77",
         "orientation": "h",
         "showlegend": true,
         "type": "histogram",
         "x": [
          77
         ],
         "xaxis": "x",
         "y": [
          "February"
         ],
         "yaxis": "y"
        },
        {
         "alignmentgroup": "True",
         "bingroup": "y",
         "histfunc": "sum",
         "hovertemplate": "Fatals=106<br>sum of Fatals=%{x}<br>Month=%{y}<extra></extra>",
         "legendgroup": "106",
         "marker": {
          "color": "#00cc96",
          "opacity": 0.5,
          "pattern": {
           "shape": ""
          }
         },
         "name": "106",
         "offsetgroup": "106",
         "orientation": "h",
         "showlegend": true,
         "type": "histogram",
         "x": [
          106,
          106
         ],
         "xaxis": "x",
         "y": [
          "March",
          "November"
         ],
         "yaxis": "y"
        },
        {
         "alignmentgroup": "True",
         "bingroup": "y",
         "histfunc": "sum",
         "hovertemplate": "Fatals=162<br>sum of Fatals=%{x}<br>Month=%{y}<extra></extra>",
         "legendgroup": "162",
         "marker": {
          "color": "#ab63fa",
          "opacity": 0.5,
          "pattern": {
           "shape": ""
          }
         },
         "name": "162",
         "offsetgroup": "162",
         "orientation": "h",
         "showlegend": true,
         "type": "histogram",
         "x": [
          162
         ],
         "xaxis": "x",
         "y": [
          "April"
         ],
         "yaxis": "y"
        },
        {
         "alignmentgroup": "True",
         "bingroup": "y",
         "histfunc": "sum",
         "hovertemplate": "Fatals=135<br>sum of Fatals=%{x}<br>Month=%{y}<extra></extra>",
         "legendgroup": "135",
         "marker": {
          "color": "#FFA15A",
          "opacity": 0.5,
          "pattern": {
           "shape": ""
          }
         },
         "name": "135",
         "offsetgroup": "135",
         "orientation": "h",
         "showlegend": true,
         "type": "histogram",
         "x": [
          135
         ],
         "xaxis": "x",
         "y": [
          "May"
         ],
         "yaxis": "y"
        },
        {
         "alignmentgroup": "True",
         "bingroup": "y",
         "histfunc": "sum",
         "hovertemplate": "Fatals=140<br>sum of Fatals=%{x}<br>Month=%{y}<extra></extra>",
         "legendgroup": "140",
         "marker": {
          "color": "#19d3f3",
          "opacity": 0.5,
          "pattern": {
           "shape": ""
          }
         },
         "name": "140",
         "offsetgroup": "140",
         "orientation": "h",
         "showlegend": true,
         "type": "histogram",
         "x": [
          140
         ],
         "xaxis": "x",
         "y": [
          "June"
         ],
         "yaxis": "y"
        },
        {
         "alignmentgroup": "True",
         "bingroup": "y",
         "histfunc": "sum",
         "hovertemplate": "Fatals=142<br>sum of Fatals=%{x}<br>Month=%{y}<extra></extra>",
         "legendgroup": "142",
         "marker": {
          "color": "#FF6692",
          "opacity": 0.5,
          "pattern": {
           "shape": ""
          }
         },
         "name": "142",
         "offsetgroup": "142",
         "orientation": "h",
         "showlegend": true,
         "type": "histogram",
         "x": [
          142
         ],
         "xaxis": "x",
         "y": [
          "July"
         ],
         "yaxis": "y"
        },
        {
         "alignmentgroup": "True",
         "bingroup": "y",
         "histfunc": "sum",
         "hovertemplate": "Fatals=124<br>sum of Fatals=%{x}<br>Month=%{y}<extra></extra>",
         "legendgroup": "124",
         "marker": {
          "color": "#B6E880",
          "opacity": 0.5,
          "pattern": {
           "shape": ""
          }
         },
         "name": "124",
         "offsetgroup": "124",
         "orientation": "h",
         "showlegend": true,
         "type": "histogram",
         "x": [
          124
         ],
         "xaxis": "x",
         "y": [
          "August"
         ],
         "yaxis": "y"
        },
        {
         "alignmentgroup": "True",
         "bingroup": "y",
         "histfunc": "sum",
         "hovertemplate": "Fatals=130<br>sum of Fatals=%{x}<br>Month=%{y}<extra></extra>",
         "legendgroup": "130",
         "marker": {
          "color": "#FF97FF",
          "opacity": 0.5,
          "pattern": {
           "shape": ""
          }
         },
         "name": "130",
         "offsetgroup": "130",
         "orientation": "h",
         "showlegend": true,
         "type": "histogram",
         "x": [
          130
         ],
         "xaxis": "x",
         "y": [
          "September"
         ],
         "yaxis": "y"
        },
        {
         "alignmentgroup": "True",
         "bingroup": "y",
         "histfunc": "sum",
         "hovertemplate": "Fatals=158<br>sum of Fatals=%{x}<br>Month=%{y}<extra></extra>",
         "legendgroup": "158",
         "marker": {
          "color": "#FECB52",
          "opacity": 0.5,
          "pattern": {
           "shape": ""
          }
         },
         "name": "158",
         "offsetgroup": "158",
         "orientation": "h",
         "showlegend": true,
         "type": "histogram",
         "x": [
          158
         ],
         "xaxis": "x",
         "y": [
          "October"
         ],
         "yaxis": "y"
        },
        {
         "alignmentgroup": "True",
         "bingroup": "y",
         "histfunc": "sum",
         "hovertemplate": "Fatals=132<br>sum of Fatals=%{x}<br>Month=%{y}<extra></extra>",
         "legendgroup": "132",
         "marker": {
          "color": "#636efa",
          "opacity": 0.5,
          "pattern": {
           "shape": ""
          }
         },
         "name": "132",
         "offsetgroup": "132",
         "orientation": "h",
         "showlegend": true,
         "type": "histogram",
         "x": [
          132
         ],
         "xaxis": "x",
         "y": [
          "December"
         ],
         "yaxis": "y"
        }
       ],
       "layout": {
        "bargap": 0.005,
        "barmode": "relative",
        "height": 500,
        "legend": {
         "title": {
          "text": "Fatals"
         },
         "tracegroupgap": 0
        },
        "margin": {
         "t": 60
        },
        "template": {
         "data": {
          "bar": [
           {
            "error_x": {
             "color": "#f2f5fa"
            },
            "error_y": {
             "color": "#f2f5fa"
            },
            "marker": {
             "line": {
              "color": "rgb(17,17,17)",
              "width": 0.5
             },
             "pattern": {
              "fillmode": "overlay",
              "size": 10,
              "solidity": 0.2
             }
            },
            "type": "bar"
           }
          ],
          "barpolar": [
           {
            "marker": {
             "line": {
              "color": "rgb(17,17,17)",
              "width": 0.5
             },
             "pattern": {
              "fillmode": "overlay",
              "size": 10,
              "solidity": 0.2
             }
            },
            "type": "barpolar"
           }
          ],
          "carpet": [
           {
            "aaxis": {
             "endlinecolor": "#A2B1C6",
             "gridcolor": "#506784",
             "linecolor": "#506784",
             "minorgridcolor": "#506784",
             "startlinecolor": "#A2B1C6"
            },
            "baxis": {
             "endlinecolor": "#A2B1C6",
             "gridcolor": "#506784",
             "linecolor": "#506784",
             "minorgridcolor": "#506784",
             "startlinecolor": "#A2B1C6"
            },
            "type": "carpet"
           }
          ],
          "choropleth": [
           {
            "colorbar": {
             "outlinewidth": 0,
             "ticks": ""
            },
            "type": "choropleth"
           }
          ],
          "contour": [
           {
            "colorbar": {
             "outlinewidth": 0,
             "ticks": ""
            },
            "colorscale": [
             [
              0,
              "#0d0887"
             ],
             [
              0.1111111111111111,
              "#46039f"
             ],
             [
              0.2222222222222222,
              "#7201a8"
             ],
             [
              0.3333333333333333,
              "#9c179e"
             ],
             [
              0.4444444444444444,
              "#bd3786"
             ],
             [
              0.5555555555555556,
              "#d8576b"
             ],
             [
              0.6666666666666666,
              "#ed7953"
             ],
             [
              0.7777777777777778,
              "#fb9f3a"
             ],
             [
              0.8888888888888888,
              "#fdca26"
             ],
             [
              1,
              "#f0f921"
             ]
            ],
            "type": "contour"
           }
          ],
          "contourcarpet": [
           {
            "colorbar": {
             "outlinewidth": 0,
             "ticks": ""
            },
            "type": "contourcarpet"
           }
          ],
          "heatmap": [
           {
            "colorbar": {
             "outlinewidth": 0,
             "ticks": ""
            },
            "colorscale": [
             [
              0,
              "#0d0887"
             ],
             [
              0.1111111111111111,
              "#46039f"
             ],
             [
              0.2222222222222222,
              "#7201a8"
             ],
             [
              0.3333333333333333,
              "#9c179e"
             ],
             [
              0.4444444444444444,
              "#bd3786"
             ],
             [
              0.5555555555555556,
              "#d8576b"
             ],
             [
              0.6666666666666666,
              "#ed7953"
             ],
             [
              0.7777777777777778,
              "#fb9f3a"
             ],
             [
              0.8888888888888888,
              "#fdca26"
             ],
             [
              1,
              "#f0f921"
             ]
            ],
            "type": "heatmap"
           }
          ],
          "heatmapgl": [
           {
            "colorbar": {
             "outlinewidth": 0,
             "ticks": ""
            },
            "colorscale": [
             [
              0,
              "#0d0887"
             ],
             [
              0.1111111111111111,
              "#46039f"
             ],
             [
              0.2222222222222222,
              "#7201a8"
             ],
             [
              0.3333333333333333,
              "#9c179e"
             ],
             [
              0.4444444444444444,
              "#bd3786"
             ],
             [
              0.5555555555555556,
              "#d8576b"
             ],
             [
              0.6666666666666666,
              "#ed7953"
             ],
             [
              0.7777777777777778,
              "#fb9f3a"
             ],
             [
              0.8888888888888888,
              "#fdca26"
             ],
             [
              1,
              "#f0f921"
             ]
            ],
            "type": "heatmapgl"
           }
          ],
          "histogram": [
           {
            "marker": {
             "pattern": {
              "fillmode": "overlay",
              "size": 10,
              "solidity": 0.2
             }
            },
            "type": "histogram"
           }
          ],
          "histogram2d": [
           {
            "colorbar": {
             "outlinewidth": 0,
             "ticks": ""
            },
            "colorscale": [
             [
              0,
              "#0d0887"
             ],
             [
              0.1111111111111111,
              "#46039f"
             ],
             [
              0.2222222222222222,
              "#7201a8"
             ],
             [
              0.3333333333333333,
              "#9c179e"
             ],
             [
              0.4444444444444444,
              "#bd3786"
             ],
             [
              0.5555555555555556,
              "#d8576b"
             ],
             [
              0.6666666666666666,
              "#ed7953"
             ],
             [
              0.7777777777777778,
              "#fb9f3a"
             ],
             [
              0.8888888888888888,
              "#fdca26"
             ],
             [
              1,
              "#f0f921"
             ]
            ],
            "type": "histogram2d"
           }
          ],
          "histogram2dcontour": [
           {
            "colorbar": {
             "outlinewidth": 0,
             "ticks": ""
            },
            "colorscale": [
             [
              0,
              "#0d0887"
             ],
             [
              0.1111111111111111,
              "#46039f"
             ],
             [
              0.2222222222222222,
              "#7201a8"
             ],
             [
              0.3333333333333333,
              "#9c179e"
             ],
             [
              0.4444444444444444,
              "#bd3786"
             ],
             [
              0.5555555555555556,
              "#d8576b"
             ],
             [
              0.6666666666666666,
              "#ed7953"
             ],
             [
              0.7777777777777778,
              "#fb9f3a"
             ],
             [
              0.8888888888888888,
              "#fdca26"
             ],
             [
              1,
              "#f0f921"
             ]
            ],
            "type": "histogram2dcontour"
           }
          ],
          "mesh3d": [
           {
            "colorbar": {
             "outlinewidth": 0,
             "ticks": ""
            },
            "type": "mesh3d"
           }
          ],
          "parcoords": [
           {
            "line": {
             "colorbar": {
              "outlinewidth": 0,
              "ticks": ""
             }
            },
            "type": "parcoords"
           }
          ],
          "pie": [
           {
            "automargin": true,
            "type": "pie"
           }
          ],
          "scatter": [
           {
            "marker": {
             "line": {
              "color": "#283442"
             }
            },
            "type": "scatter"
           }
          ],
          "scatter3d": [
           {
            "line": {
             "colorbar": {
              "outlinewidth": 0,
              "ticks": ""
             }
            },
            "marker": {
             "colorbar": {
              "outlinewidth": 0,
              "ticks": ""
             }
            },
            "type": "scatter3d"
           }
          ],
          "scattercarpet": [
           {
            "marker": {
             "colorbar": {
              "outlinewidth": 0,
              "ticks": ""
             }
            },
            "type": "scattercarpet"
           }
          ],
          "scattergeo": [
           {
            "marker": {
             "colorbar": {
              "outlinewidth": 0,
              "ticks": ""
             }
            },
            "type": "scattergeo"
           }
          ],
          "scattergl": [
           {
            "marker": {
             "line": {
              "color": "#283442"
             }
            },
            "type": "scattergl"
           }
          ],
          "scattermapbox": [
           {
            "marker": {
             "colorbar": {
              "outlinewidth": 0,
              "ticks": ""
             }
            },
            "type": "scattermapbox"
           }
          ],
          "scatterpolar": [
           {
            "marker": {
             "colorbar": {
              "outlinewidth": 0,
              "ticks": ""
             }
            },
            "type": "scatterpolar"
           }
          ],
          "scatterpolargl": [
           {
            "marker": {
             "colorbar": {
              "outlinewidth": 0,
              "ticks": ""
             }
            },
            "type": "scatterpolargl"
           }
          ],
          "scatterternary": [
           {
            "marker": {
             "colorbar": {
              "outlinewidth": 0,
              "ticks": ""
             }
            },
            "type": "scatterternary"
           }
          ],
          "surface": [
           {
            "colorbar": {
             "outlinewidth": 0,
             "ticks": ""
            },
            "colorscale": [
             [
              0,
              "#0d0887"
             ],
             [
              0.1111111111111111,
              "#46039f"
             ],
             [
              0.2222222222222222,
              "#7201a8"
             ],
             [
              0.3333333333333333,
              "#9c179e"
             ],
             [
              0.4444444444444444,
              "#bd3786"
             ],
             [
              0.5555555555555556,
              "#d8576b"
             ],
             [
              0.6666666666666666,
              "#ed7953"
             ],
             [
              0.7777777777777778,
              "#fb9f3a"
             ],
             [
              0.8888888888888888,
              "#fdca26"
             ],
             [
              1,
              "#f0f921"
             ]
            ],
            "type": "surface"
           }
          ],
          "table": [
           {
            "cells": {
             "fill": {
              "color": "#506784"
             },
             "line": {
              "color": "rgb(17,17,17)"
             }
            },
            "header": {
             "fill": {
              "color": "#2a3f5f"
             },
             "line": {
              "color": "rgb(17,17,17)"
             }
            },
            "type": "table"
           }
          ]
         },
         "layout": {
          "annotationdefaults": {
           "arrowcolor": "#f2f5fa",
           "arrowhead": 0,
           "arrowwidth": 1
          },
          "autotypenumbers": "strict",
          "coloraxis": {
           "colorbar": {
            "outlinewidth": 0,
            "ticks": ""
           }
          },
          "colorscale": {
           "diverging": [
            [
             0,
             "#8e0152"
            ],
            [
             0.1,
             "#c51b7d"
            ],
            [
             0.2,
             "#de77ae"
            ],
            [
             0.3,
             "#f1b6da"
            ],
            [
             0.4,
             "#fde0ef"
            ],
            [
             0.5,
             "#f7f7f7"
            ],
            [
             0.6,
             "#e6f5d0"
            ],
            [
             0.7,
             "#b8e186"
            ],
            [
             0.8,
             "#7fbc41"
            ],
            [
             0.9,
             "#4d9221"
            ],
            [
             1,
             "#276419"
            ]
           ],
           "sequential": [
            [
             0,
             "#0d0887"
            ],
            [
             0.1111111111111111,
             "#46039f"
            ],
            [
             0.2222222222222222,
             "#7201a8"
            ],
            [
             0.3333333333333333,
             "#9c179e"
            ],
            [
             0.4444444444444444,
             "#bd3786"
            ],
            [
             0.5555555555555556,
             "#d8576b"
            ],
            [
             0.6666666666666666,
             "#ed7953"
            ],
            [
             0.7777777777777778,
             "#fb9f3a"
            ],
            [
             0.8888888888888888,
             "#fdca26"
            ],
            [
             1,
             "#f0f921"
            ]
           ],
           "sequentialminus": [
            [
             0,
             "#0d0887"
            ],
            [
             0.1111111111111111,
             "#46039f"
            ],
            [
             0.2222222222222222,
             "#7201a8"
            ],
            [
             0.3333333333333333,
             "#9c179e"
            ],
            [
             0.4444444444444444,
             "#bd3786"
            ],
            [
             0.5555555555555556,
             "#d8576b"
            ],
            [
             0.6666666666666666,
             "#ed7953"
            ],
            [
             0.7777777777777778,
             "#fb9f3a"
            ],
            [
             0.8888888888888888,
             "#fdca26"
            ],
            [
             1,
             "#f0f921"
            ]
           ]
          },
          "colorway": [
           "#636efa",
           "#EF553B",
           "#00cc96",
           "#ab63fa",
           "#FFA15A",
           "#19d3f3",
           "#FF6692",
           "#B6E880",
           "#FF97FF",
           "#FECB52"
          ],
          "font": {
           "color": "#f2f5fa"
          },
          "geo": {
           "bgcolor": "rgb(17,17,17)",
           "lakecolor": "rgb(17,17,17)",
           "landcolor": "rgb(17,17,17)",
           "showlakes": true,
           "showland": true,
           "subunitcolor": "#506784"
          },
          "hoverlabel": {
           "align": "left"
          },
          "hovermode": "closest",
          "mapbox": {
           "style": "dark"
          },
          "paper_bgcolor": "rgb(17,17,17)",
          "plot_bgcolor": "rgb(17,17,17)",
          "polar": {
           "angularaxis": {
            "gridcolor": "#506784",
            "linecolor": "#506784",
            "ticks": ""
           },
           "bgcolor": "rgb(17,17,17)",
           "radialaxis": {
            "gridcolor": "#506784",
            "linecolor": "#506784",
            "ticks": ""
           }
          },
          "scene": {
           "xaxis": {
            "backgroundcolor": "rgb(17,17,17)",
            "gridcolor": "#506784",
            "gridwidth": 2,
            "linecolor": "#506784",
            "showbackground": true,
            "ticks": "",
            "zerolinecolor": "#C8D4E3"
           },
           "yaxis": {
            "backgroundcolor": "rgb(17,17,17)",
            "gridcolor": "#506784",
            "gridwidth": 2,
            "linecolor": "#506784",
            "showbackground": true,
            "ticks": "",
            "zerolinecolor": "#C8D4E3"
           },
           "zaxis": {
            "backgroundcolor": "rgb(17,17,17)",
            "gridcolor": "#506784",
            "gridwidth": 2,
            "linecolor": "#506784",
            "showbackground": true,
            "ticks": "",
            "zerolinecolor": "#C8D4E3"
           }
          },
          "shapedefaults": {
           "line": {
            "color": "#f2f5fa"
           }
          },
          "sliderdefaults": {
           "bgcolor": "#C8D4E3",
           "bordercolor": "rgb(17,17,17)",
           "borderwidth": 1,
           "tickwidth": 0
          },
          "ternary": {
           "aaxis": {
            "gridcolor": "#506784",
            "linecolor": "#506784",
            "ticks": ""
           },
           "baxis": {
            "gridcolor": "#506784",
            "linecolor": "#506784",
            "ticks": ""
           },
           "bgcolor": "rgb(17,17,17)",
           "caxis": {
            "gridcolor": "#506784",
            "linecolor": "#506784",
            "ticks": ""
           }
          },
          "title": {
           "x": 0.05
          },
          "updatemenudefaults": {
           "bgcolor": "#506784",
           "borderwidth": 0
          },
          "xaxis": {
           "automargin": true,
           "gridcolor": "#283442",
           "linecolor": "#506784",
           "ticks": "",
           "title": {
            "standoff": 15
           },
           "zerolinecolor": "#283442",
           "zerolinewidth": 2
          },
          "yaxis": {
           "automargin": true,
           "gridcolor": "#283442",
           "linecolor": "#506784",
           "ticks": "",
           "title": {
            "standoff": 15
           },
           "zerolinecolor": "#283442",
           "zerolinewidth": 2
          }
         }
        },
        "title": {
         "text": "Fatalities by Month in 2021"
        },
        "width": 800,
        "xaxis": {
         "anchor": "y",
         "categoryarray": [
          123,
          77,
          106,
          162,
          135,
          140,
          142,
          124,
          130,
          158,
          132
         ],
         "categoryorder": "array",
         "domain": [
          0,
          1
         ],
         "title": {
          "text": "No of Fatalities in 2021"
         }
        },
        "yaxis": {
         "anchor": "x",
         "domain": [
          0,
          1
         ],
         "title": {
          "text": "Month"
         }
        }
       }
      },
      "text/html": [
       "<div>                            <div id=\"d9e583a3-93de-417e-bd07-ea1f2b840d6b\" class=\"plotly-graph-div\" style=\"height:500px; width:800px;\"></div>            <script type=\"text/javascript\">                require([\"plotly\"], function(Plotly) {                    window.PLOTLYENV=window.PLOTLYENV || {};                                    if (document.getElementById(\"d9e583a3-93de-417e-bd07-ea1f2b840d6b\")) {                    Plotly.newPlot(                        \"d9e583a3-93de-417e-bd07-ea1f2b840d6b\",                        [{\"alignmentgroup\":\"True\",\"bingroup\":\"y\",\"histfunc\":\"sum\",\"hovertemplate\":\"Fatals=123<br>sum of Fatals=%{x}<br>Month=%{y}<extra></extra>\",\"legendgroup\":\"123\",\"marker\":{\"color\":\"#636efa\",\"opacity\":0.5,\"pattern\":{\"shape\":\"\"}},\"name\":\"123\",\"offsetgroup\":\"123\",\"orientation\":\"h\",\"showlegend\":true,\"x\":[123],\"xaxis\":\"x\",\"y\":[\"January\"],\"yaxis\":\"y\",\"type\":\"histogram\"},{\"alignmentgroup\":\"True\",\"bingroup\":\"y\",\"histfunc\":\"sum\",\"hovertemplate\":\"Fatals=77<br>sum of Fatals=%{x}<br>Month=%{y}<extra></extra>\",\"legendgroup\":\"77\",\"marker\":{\"color\":\"#EF553B\",\"opacity\":0.5,\"pattern\":{\"shape\":\"\"}},\"name\":\"77\",\"offsetgroup\":\"77\",\"orientation\":\"h\",\"showlegend\":true,\"x\":[77],\"xaxis\":\"x\",\"y\":[\"February\"],\"yaxis\":\"y\",\"type\":\"histogram\"},{\"alignmentgroup\":\"True\",\"bingroup\":\"y\",\"histfunc\":\"sum\",\"hovertemplate\":\"Fatals=106<br>sum of Fatals=%{x}<br>Month=%{y}<extra></extra>\",\"legendgroup\":\"106\",\"marker\":{\"color\":\"#00cc96\",\"opacity\":0.5,\"pattern\":{\"shape\":\"\"}},\"name\":\"106\",\"offsetgroup\":\"106\",\"orientation\":\"h\",\"showlegend\":true,\"x\":[106,106],\"xaxis\":\"x\",\"y\":[\"March\",\"November\"],\"yaxis\":\"y\",\"type\":\"histogram\"},{\"alignmentgroup\":\"True\",\"bingroup\":\"y\",\"histfunc\":\"sum\",\"hovertemplate\":\"Fatals=162<br>sum of Fatals=%{x}<br>Month=%{y}<extra></extra>\",\"legendgroup\":\"162\",\"marker\":{\"color\":\"#ab63fa\",\"opacity\":0.5,\"pattern\":{\"shape\":\"\"}},\"name\":\"162\",\"offsetgroup\":\"162\",\"orientation\":\"h\",\"showlegend\":true,\"x\":[162],\"xaxis\":\"x\",\"y\":[\"April\"],\"yaxis\":\"y\",\"type\":\"histogram\"},{\"alignmentgroup\":\"True\",\"bingroup\":\"y\",\"histfunc\":\"sum\",\"hovertemplate\":\"Fatals=135<br>sum of Fatals=%{x}<br>Month=%{y}<extra></extra>\",\"legendgroup\":\"135\",\"marker\":{\"color\":\"#FFA15A\",\"opacity\":0.5,\"pattern\":{\"shape\":\"\"}},\"name\":\"135\",\"offsetgroup\":\"135\",\"orientation\":\"h\",\"showlegend\":true,\"x\":[135],\"xaxis\":\"x\",\"y\":[\"May\"],\"yaxis\":\"y\",\"type\":\"histogram\"},{\"alignmentgroup\":\"True\",\"bingroup\":\"y\",\"histfunc\":\"sum\",\"hovertemplate\":\"Fatals=140<br>sum of Fatals=%{x}<br>Month=%{y}<extra></extra>\",\"legendgroup\":\"140\",\"marker\":{\"color\":\"#19d3f3\",\"opacity\":0.5,\"pattern\":{\"shape\":\"\"}},\"name\":\"140\",\"offsetgroup\":\"140\",\"orientation\":\"h\",\"showlegend\":true,\"x\":[140],\"xaxis\":\"x\",\"y\":[\"June\"],\"yaxis\":\"y\",\"type\":\"histogram\"},{\"alignmentgroup\":\"True\",\"bingroup\":\"y\",\"histfunc\":\"sum\",\"hovertemplate\":\"Fatals=142<br>sum of Fatals=%{x}<br>Month=%{y}<extra></extra>\",\"legendgroup\":\"142\",\"marker\":{\"color\":\"#FF6692\",\"opacity\":0.5,\"pattern\":{\"shape\":\"\"}},\"name\":\"142\",\"offsetgroup\":\"142\",\"orientation\":\"h\",\"showlegend\":true,\"x\":[142],\"xaxis\":\"x\",\"y\":[\"July\"],\"yaxis\":\"y\",\"type\":\"histogram\"},{\"alignmentgroup\":\"True\",\"bingroup\":\"y\",\"histfunc\":\"sum\",\"hovertemplate\":\"Fatals=124<br>sum of Fatals=%{x}<br>Month=%{y}<extra></extra>\",\"legendgroup\":\"124\",\"marker\":{\"color\":\"#B6E880\",\"opacity\":0.5,\"pattern\":{\"shape\":\"\"}},\"name\":\"124\",\"offsetgroup\":\"124\",\"orientation\":\"h\",\"showlegend\":true,\"x\":[124],\"xaxis\":\"x\",\"y\":[\"August\"],\"yaxis\":\"y\",\"type\":\"histogram\"},{\"alignmentgroup\":\"True\",\"bingroup\":\"y\",\"histfunc\":\"sum\",\"hovertemplate\":\"Fatals=130<br>sum of Fatals=%{x}<br>Month=%{y}<extra></extra>\",\"legendgroup\":\"130\",\"marker\":{\"color\":\"#FF97FF\",\"opacity\":0.5,\"pattern\":{\"shape\":\"\"}},\"name\":\"130\",\"offsetgroup\":\"130\",\"orientation\":\"h\",\"showlegend\":true,\"x\":[130],\"xaxis\":\"x\",\"y\":[\"September\"],\"yaxis\":\"y\",\"type\":\"histogram\"},{\"alignmentgroup\":\"True\",\"bingroup\":\"y\",\"histfunc\":\"sum\",\"hovertemplate\":\"Fatals=158<br>sum of Fatals=%{x}<br>Month=%{y}<extra></extra>\",\"legendgroup\":\"158\",\"marker\":{\"color\":\"#FECB52\",\"opacity\":0.5,\"pattern\":{\"shape\":\"\"}},\"name\":\"158\",\"offsetgroup\":\"158\",\"orientation\":\"h\",\"showlegend\":true,\"x\":[158],\"xaxis\":\"x\",\"y\":[\"October\"],\"yaxis\":\"y\",\"type\":\"histogram\"},{\"alignmentgroup\":\"True\",\"bingroup\":\"y\",\"histfunc\":\"sum\",\"hovertemplate\":\"Fatals=132<br>sum of Fatals=%{x}<br>Month=%{y}<extra></extra>\",\"legendgroup\":\"132\",\"marker\":{\"color\":\"#636efa\",\"opacity\":0.5,\"pattern\":{\"shape\":\"\"}},\"name\":\"132\",\"offsetgroup\":\"132\",\"orientation\":\"h\",\"showlegend\":true,\"x\":[132],\"xaxis\":\"x\",\"y\":[\"December\"],\"yaxis\":\"y\",\"type\":\"histogram\"}],                        {\"template\":{\"data\":{\"barpolar\":[{\"marker\":{\"line\":{\"color\":\"rgb(17,17,17)\",\"width\":0.5},\"pattern\":{\"fillmode\":\"overlay\",\"size\":10,\"solidity\":0.2}},\"type\":\"barpolar\"}],\"bar\":[{\"error_x\":{\"color\":\"#f2f5fa\"},\"error_y\":{\"color\":\"#f2f5fa\"},\"marker\":{\"line\":{\"color\":\"rgb(17,17,17)\",\"width\":0.5},\"pattern\":{\"fillmode\":\"overlay\",\"size\":10,\"solidity\":0.2}},\"type\":\"bar\"}],\"carpet\":[{\"aaxis\":{\"endlinecolor\":\"#A2B1C6\",\"gridcolor\":\"#506784\",\"linecolor\":\"#506784\",\"minorgridcolor\":\"#506784\",\"startlinecolor\":\"#A2B1C6\"},\"baxis\":{\"endlinecolor\":\"#A2B1C6\",\"gridcolor\":\"#506784\",\"linecolor\":\"#506784\",\"minorgridcolor\":\"#506784\",\"startlinecolor\":\"#A2B1C6\"},\"type\":\"carpet\"}],\"choropleth\":[{\"colorbar\":{\"outlinewidth\":0,\"ticks\":\"\"},\"type\":\"choropleth\"}],\"contourcarpet\":[{\"colorbar\":{\"outlinewidth\":0,\"ticks\":\"\"},\"type\":\"contourcarpet\"}],\"contour\":[{\"colorbar\":{\"outlinewidth\":0,\"ticks\":\"\"},\"colorscale\":[[0.0,\"#0d0887\"],[0.1111111111111111,\"#46039f\"],[0.2222222222222222,\"#7201a8\"],[0.3333333333333333,\"#9c179e\"],[0.4444444444444444,\"#bd3786\"],[0.5555555555555556,\"#d8576b\"],[0.6666666666666666,\"#ed7953\"],[0.7777777777777778,\"#fb9f3a\"],[0.8888888888888888,\"#fdca26\"],[1.0,\"#f0f921\"]],\"type\":\"contour\"}],\"heatmapgl\":[{\"colorbar\":{\"outlinewidth\":0,\"ticks\":\"\"},\"colorscale\":[[0.0,\"#0d0887\"],[0.1111111111111111,\"#46039f\"],[0.2222222222222222,\"#7201a8\"],[0.3333333333333333,\"#9c179e\"],[0.4444444444444444,\"#bd3786\"],[0.5555555555555556,\"#d8576b\"],[0.6666666666666666,\"#ed7953\"],[0.7777777777777778,\"#fb9f3a\"],[0.8888888888888888,\"#fdca26\"],[1.0,\"#f0f921\"]],\"type\":\"heatmapgl\"}],\"heatmap\":[{\"colorbar\":{\"outlinewidth\":0,\"ticks\":\"\"},\"colorscale\":[[0.0,\"#0d0887\"],[0.1111111111111111,\"#46039f\"],[0.2222222222222222,\"#7201a8\"],[0.3333333333333333,\"#9c179e\"],[0.4444444444444444,\"#bd3786\"],[0.5555555555555556,\"#d8576b\"],[0.6666666666666666,\"#ed7953\"],[0.7777777777777778,\"#fb9f3a\"],[0.8888888888888888,\"#fdca26\"],[1.0,\"#f0f921\"]],\"type\":\"heatmap\"}],\"histogram2dcontour\":[{\"colorbar\":{\"outlinewidth\":0,\"ticks\":\"\"},\"colorscale\":[[0.0,\"#0d0887\"],[0.1111111111111111,\"#46039f\"],[0.2222222222222222,\"#7201a8\"],[0.3333333333333333,\"#9c179e\"],[0.4444444444444444,\"#bd3786\"],[0.5555555555555556,\"#d8576b\"],[0.6666666666666666,\"#ed7953\"],[0.7777777777777778,\"#fb9f3a\"],[0.8888888888888888,\"#fdca26\"],[1.0,\"#f0f921\"]],\"type\":\"histogram2dcontour\"}],\"histogram2d\":[{\"colorbar\":{\"outlinewidth\":0,\"ticks\":\"\"},\"colorscale\":[[0.0,\"#0d0887\"],[0.1111111111111111,\"#46039f\"],[0.2222222222222222,\"#7201a8\"],[0.3333333333333333,\"#9c179e\"],[0.4444444444444444,\"#bd3786\"],[0.5555555555555556,\"#d8576b\"],[0.6666666666666666,\"#ed7953\"],[0.7777777777777778,\"#fb9f3a\"],[0.8888888888888888,\"#fdca26\"],[1.0,\"#f0f921\"]],\"type\":\"histogram2d\"}],\"histogram\":[{\"marker\":{\"pattern\":{\"fillmode\":\"overlay\",\"size\":10,\"solidity\":0.2}},\"type\":\"histogram\"}],\"mesh3d\":[{\"colorbar\":{\"outlinewidth\":0,\"ticks\":\"\"},\"type\":\"mesh3d\"}],\"parcoords\":[{\"line\":{\"colorbar\":{\"outlinewidth\":0,\"ticks\":\"\"}},\"type\":\"parcoords\"}],\"pie\":[{\"automargin\":true,\"type\":\"pie\"}],\"scatter3d\":[{\"line\":{\"colorbar\":{\"outlinewidth\":0,\"ticks\":\"\"}},\"marker\":{\"colorbar\":{\"outlinewidth\":0,\"ticks\":\"\"}},\"type\":\"scatter3d\"}],\"scattercarpet\":[{\"marker\":{\"colorbar\":{\"outlinewidth\":0,\"ticks\":\"\"}},\"type\":\"scattercarpet\"}],\"scattergeo\":[{\"marker\":{\"colorbar\":{\"outlinewidth\":0,\"ticks\":\"\"}},\"type\":\"scattergeo\"}],\"scattergl\":[{\"marker\":{\"line\":{\"color\":\"#283442\"}},\"type\":\"scattergl\"}],\"scattermapbox\":[{\"marker\":{\"colorbar\":{\"outlinewidth\":0,\"ticks\":\"\"}},\"type\":\"scattermapbox\"}],\"scatterpolargl\":[{\"marker\":{\"colorbar\":{\"outlinewidth\":0,\"ticks\":\"\"}},\"type\":\"scatterpolargl\"}],\"scatterpolar\":[{\"marker\":{\"colorbar\":{\"outlinewidth\":0,\"ticks\":\"\"}},\"type\":\"scatterpolar\"}],\"scatter\":[{\"marker\":{\"line\":{\"color\":\"#283442\"}},\"type\":\"scatter\"}],\"scatterternary\":[{\"marker\":{\"colorbar\":{\"outlinewidth\":0,\"ticks\":\"\"}},\"type\":\"scatterternary\"}],\"surface\":[{\"colorbar\":{\"outlinewidth\":0,\"ticks\":\"\"},\"colorscale\":[[0.0,\"#0d0887\"],[0.1111111111111111,\"#46039f\"],[0.2222222222222222,\"#7201a8\"],[0.3333333333333333,\"#9c179e\"],[0.4444444444444444,\"#bd3786\"],[0.5555555555555556,\"#d8576b\"],[0.6666666666666666,\"#ed7953\"],[0.7777777777777778,\"#fb9f3a\"],[0.8888888888888888,\"#fdca26\"],[1.0,\"#f0f921\"]],\"type\":\"surface\"}],\"table\":[{\"cells\":{\"fill\":{\"color\":\"#506784\"},\"line\":{\"color\":\"rgb(17,17,17)\"}},\"header\":{\"fill\":{\"color\":\"#2a3f5f\"},\"line\":{\"color\":\"rgb(17,17,17)\"}},\"type\":\"table\"}]},\"layout\":{\"annotationdefaults\":{\"arrowcolor\":\"#f2f5fa\",\"arrowhead\":0,\"arrowwidth\":1},\"autotypenumbers\":\"strict\",\"coloraxis\":{\"colorbar\":{\"outlinewidth\":0,\"ticks\":\"\"}},\"colorscale\":{\"diverging\":[[0,\"#8e0152\"],[0.1,\"#c51b7d\"],[0.2,\"#de77ae\"],[0.3,\"#f1b6da\"],[0.4,\"#fde0ef\"],[0.5,\"#f7f7f7\"],[0.6,\"#e6f5d0\"],[0.7,\"#b8e186\"],[0.8,\"#7fbc41\"],[0.9,\"#4d9221\"],[1,\"#276419\"]],\"sequential\":[[0.0,\"#0d0887\"],[0.1111111111111111,\"#46039f\"],[0.2222222222222222,\"#7201a8\"],[0.3333333333333333,\"#9c179e\"],[0.4444444444444444,\"#bd3786\"],[0.5555555555555556,\"#d8576b\"],[0.6666666666666666,\"#ed7953\"],[0.7777777777777778,\"#fb9f3a\"],[0.8888888888888888,\"#fdca26\"],[1.0,\"#f0f921\"]],\"sequentialminus\":[[0.0,\"#0d0887\"],[0.1111111111111111,\"#46039f\"],[0.2222222222222222,\"#7201a8\"],[0.3333333333333333,\"#9c179e\"],[0.4444444444444444,\"#bd3786\"],[0.5555555555555556,\"#d8576b\"],[0.6666666666666666,\"#ed7953\"],[0.7777777777777778,\"#fb9f3a\"],[0.8888888888888888,\"#fdca26\"],[1.0,\"#f0f921\"]]},\"colorway\":[\"#636efa\",\"#EF553B\",\"#00cc96\",\"#ab63fa\",\"#FFA15A\",\"#19d3f3\",\"#FF6692\",\"#B6E880\",\"#FF97FF\",\"#FECB52\"],\"font\":{\"color\":\"#f2f5fa\"},\"geo\":{\"bgcolor\":\"rgb(17,17,17)\",\"lakecolor\":\"rgb(17,17,17)\",\"landcolor\":\"rgb(17,17,17)\",\"showlakes\":true,\"showland\":true,\"subunitcolor\":\"#506784\"},\"hoverlabel\":{\"align\":\"left\"},\"hovermode\":\"closest\",\"mapbox\":{\"style\":\"dark\"},\"paper_bgcolor\":\"rgb(17,17,17)\",\"plot_bgcolor\":\"rgb(17,17,17)\",\"polar\":{\"angularaxis\":{\"gridcolor\":\"#506784\",\"linecolor\":\"#506784\",\"ticks\":\"\"},\"bgcolor\":\"rgb(17,17,17)\",\"radialaxis\":{\"gridcolor\":\"#506784\",\"linecolor\":\"#506784\",\"ticks\":\"\"}},\"scene\":{\"xaxis\":{\"backgroundcolor\":\"rgb(17,17,17)\",\"gridcolor\":\"#506784\",\"gridwidth\":2,\"linecolor\":\"#506784\",\"showbackground\":true,\"ticks\":\"\",\"zerolinecolor\":\"#C8D4E3\"},\"yaxis\":{\"backgroundcolor\":\"rgb(17,17,17)\",\"gridcolor\":\"#506784\",\"gridwidth\":2,\"linecolor\":\"#506784\",\"showbackground\":true,\"ticks\":\"\",\"zerolinecolor\":\"#C8D4E3\"},\"zaxis\":{\"backgroundcolor\":\"rgb(17,17,17)\",\"gridcolor\":\"#506784\",\"gridwidth\":2,\"linecolor\":\"#506784\",\"showbackground\":true,\"ticks\":\"\",\"zerolinecolor\":\"#C8D4E3\"}},\"shapedefaults\":{\"line\":{\"color\":\"#f2f5fa\"}},\"sliderdefaults\":{\"bgcolor\":\"#C8D4E3\",\"bordercolor\":\"rgb(17,17,17)\",\"borderwidth\":1,\"tickwidth\":0},\"ternary\":{\"aaxis\":{\"gridcolor\":\"#506784\",\"linecolor\":\"#506784\",\"ticks\":\"\"},\"baxis\":{\"gridcolor\":\"#506784\",\"linecolor\":\"#506784\",\"ticks\":\"\"},\"bgcolor\":\"rgb(17,17,17)\",\"caxis\":{\"gridcolor\":\"#506784\",\"linecolor\":\"#506784\",\"ticks\":\"\"}},\"title\":{\"x\":0.05},\"updatemenudefaults\":{\"bgcolor\":\"#506784\",\"borderwidth\":0},\"xaxis\":{\"automargin\":true,\"gridcolor\":\"#283442\",\"linecolor\":\"#506784\",\"ticks\":\"\",\"title\":{\"standoff\":15},\"zerolinecolor\":\"#283442\",\"zerolinewidth\":2},\"yaxis\":{\"automargin\":true,\"gridcolor\":\"#283442\",\"linecolor\":\"#506784\",\"ticks\":\"\",\"title\":{\"standoff\":15},\"zerolinecolor\":\"#283442\",\"zerolinewidth\":2}}},\"xaxis\":{\"anchor\":\"y\",\"domain\":[0.0,1.0],\"title\":{\"text\":\"No of Fatalities in 2021\"},\"categoryorder\":\"array\",\"categoryarray\":[123,77,106,162,135,140,142,124,130,158,132]},\"yaxis\":{\"anchor\":\"x\",\"domain\":[0.0,1.0],\"title\":{\"text\":\"Month\"}},\"legend\":{\"title\":{\"text\":\"Fatals\"},\"tracegroupgap\":0},\"margin\":{\"t\":60},\"barmode\":\"relative\",\"bargap\":0.005,\"title\":{\"text\":\"Fatalities by Month in 2021\"},\"width\":800,\"height\":500},                        {\"responsive\": true}                    ).then(function(){\n",
       "                            \n",
       "var gd = document.getElementById('d9e583a3-93de-417e-bd07-ea1f2b840d6b');\n",
       "var x = new MutationObserver(function (mutations, observer) {{\n",
       "        var display = window.getComputedStyle(gd).display;\n",
       "        if (!display || display === 'none') {{\n",
       "            console.log([gd, 'removed!']);\n",
       "            Plotly.purge(gd);\n",
       "            observer.disconnect();\n",
       "        }}\n",
       "}});\n",
       "\n",
       "// Listen for the removal of the full notebook cells\n",
       "var notebookContainer = gd.closest('#notebook-container');\n",
       "if (notebookContainer) {{\n",
       "    x.observe(notebookContainer, {childList: true});\n",
       "}}\n",
       "\n",
       "// Listen for the clearing of the current output cell\n",
       "var outputEl = gd.closest('.output');\n",
       "if (outputEl) {{\n",
       "    x.observe(outputEl, {childList: true});\n",
       "}}\n",
       "\n",
       "                        })                };                });            </script>        </div>"
      ]
     },
     "metadata": {},
     "output_type": "display_data"
    }
   ],
   "source": [
    "# Histogram for the counts of fatalitiess in each month in 2021\n",
    "fig = px.histogram(df4, x = 'Fatals', y= 'Month',color = 'Fatals',\n",
    "                   opacity = .5)\n",
    "fig.update_layout(\n",
    "                   bargap = 0.005, \n",
    "                   title = 'Fatalities by Month in 2021',\n",
    "                   width = 800,\n",
    "                   height = 500,\n",
    "                   xaxis_title = 'No of Fatalities in 2021',\n",
    "                   yaxis_title = 'Month',\n",
    "                   template=\"plotly_dark\")\n",
    "fig.show()\n",
    "fig.write_html(\"Resources/bar_months.html\")"
   ]
  },
  {
   "cell_type": "markdown",
   "id": "e7676545",
   "metadata": {},
   "source": [
    "### Bubble Chart represents fatals and involving pedestrians"
   ]
  },
  {
   "cell_type": "code",
   "execution_count": 70,
   "id": "9fea8e4d",
   "metadata": {},
   "outputs": [
    {
     "data": {
      "application/vnd.plotly.v1+json": {
       "config": {
        "plotlyServerURL": "https://plot.ly"
       },
       "data": [
        {
         "hovertemplate": "COUNTYNAME=%{x}<br>FATALS=%{y}<br>PEDSPERCENTAGE=%{marker.size}<br>PEDS=%{text}<extra></extra>",
         "legendgroup": "MECKLENBURG ",
         "marker": {
          "color": "#636efa",
          "size": [
           28
          ],
          "sizemode": "area",
          "sizeref": 0.07,
          "symbol": "circle"
         },
         "mode": "markers+text",
         "name": "MECKLENBURG ",
         "orientation": "v",
         "showlegend": true,
         "text": [
          33
         ],
         "type": "scatter",
         "x": [
          "MECKLENBURG "
         ],
         "xaxis": "x",
         "y": [
          116
         ],
         "yaxis": "y"
        },
        {
         "hovertemplate": "COUNTYNAME=%{x}<br>FATALS=%{y}<br>PEDSPERCENTAGE=%{marker.size}<br>PEDS=%{text}<extra></extra>",
         "legendgroup": "GUILFORD ",
         "marker": {
          "color": "#EF553B",
          "size": [
           24
          ],
          "sizemode": "area",
          "sizeref": 0.07,
          "symbol": "circle"
         },
         "mode": "markers+text",
         "name": "GUILFORD ",
         "orientation": "v",
         "showlegend": true,
         "text": [
          21
         ],
         "type": "scatter",
         "x": [
          "GUILFORD "
         ],
         "xaxis": "x",
         "y": [
          88
         ],
         "yaxis": "y"
        },
        {
         "hovertemplate": "COUNTYNAME=%{x}<br>FATALS=%{y}<br>PEDSPERCENTAGE=%{marker.size}<br>PEDS=%{text}<extra></extra>",
         "legendgroup": "WAKE ",
         "marker": {
          "color": "#00cc96",
          "size": [
           16
          ],
          "sizemode": "area",
          "sizeref": 0.07,
          "symbol": "circle"
         },
         "mode": "markers+text",
         "name": "WAKE ",
         "orientation": "v",
         "showlegend": true,
         "text": [
          14
         ],
         "type": "scatter",
         "x": [
          "WAKE "
         ],
         "xaxis": "x",
         "y": [
          85
         ],
         "yaxis": "y"
        },
        {
         "hovertemplate": "COUNTYNAME=%{x}<br>FATALS=%{y}<br>PEDSPERCENTAGE=%{marker.size}<br>PEDS=%{text}<extra></extra>",
         "legendgroup": "ROBESON ",
         "marker": {
          "color": "#ab63fa",
          "size": [
           8
          ],
          "sizemode": "area",
          "sizeref": 0.07,
          "symbol": "circle"
         },
         "mode": "markers+text",
         "name": "ROBESON ",
         "orientation": "v",
         "showlegend": true,
         "text": [
          5
         ],
         "type": "scatter",
         "x": [
          "ROBESON "
         ],
         "xaxis": "x",
         "y": [
          61
         ],
         "yaxis": "y"
        },
        {
         "hovertemplate": "COUNTYNAME=%{x}<br>FATALS=%{y}<br>PEDSPERCENTAGE=%{marker.size}<br>PEDS=%{text}<extra></extra>",
         "legendgroup": "CUMBERLAND ",
         "marker": {
          "color": "#FFA15A",
          "size": [
           19
          ],
          "sizemode": "area",
          "sizeref": 0.07,
          "symbol": "circle"
         },
         "mode": "markers+text",
         "name": "CUMBERLAND ",
         "orientation": "v",
         "showlegend": true,
         "text": [
          10
         ],
         "type": "scatter",
         "x": [
          "CUMBERLAND "
         ],
         "xaxis": "x",
         "y": [
          53
         ],
         "yaxis": "y"
        },
        {
         "hovertemplate": "COUNTYNAME=%{x}<br>FATALS=%{y}<br>PEDSPERCENTAGE=%{marker.size}<br>PEDS=%{text}<extra></extra>",
         "legendgroup": "FORSYTH ",
         "marker": {
          "color": "#19d3f3",
          "size": [
           23
          ],
          "sizemode": "area",
          "sizeref": 0.07,
          "symbol": "circle"
         },
         "mode": "markers+text",
         "name": "FORSYTH ",
         "orientation": "v",
         "showlegend": true,
         "text": [
          11
         ],
         "type": "scatter",
         "x": [
          "FORSYTH "
         ],
         "xaxis": "x",
         "y": [
          47
         ],
         "yaxis": "y"
        },
        {
         "hovertemplate": "COUNTYNAME=%{x}<br>FATALS=%{y}<br>PEDSPERCENTAGE=%{marker.size}<br>PEDS=%{text}<extra></extra>",
         "legendgroup": "DAVIDSON ",
         "marker": {
          "color": "#FF6692",
          "size": [
           18
          ],
          "sizemode": "area",
          "sizeref": 0.07,
          "symbol": "circle"
         },
         "mode": "markers+text",
         "name": "DAVIDSON ",
         "orientation": "v",
         "showlegend": true,
         "text": [
          7
         ],
         "type": "scatter",
         "x": [
          "DAVIDSON "
         ],
         "xaxis": "x",
         "y": [
          39
         ],
         "yaxis": "y"
        },
        {
         "hovertemplate": "COUNTYNAME=%{x}<br>FATALS=%{y}<br>PEDSPERCENTAGE=%{marker.size}<br>PEDS=%{text}<extra></extra>",
         "legendgroup": "JOHNSTON ",
         "marker": {
          "color": "#B6E880",
          "size": [
           18
          ],
          "sizemode": "area",
          "sizeref": 0.07,
          "symbol": "circle"
         },
         "mode": "markers+text",
         "name": "JOHNSTON ",
         "orientation": "v",
         "showlegend": true,
         "text": [
          7
         ],
         "type": "scatter",
         "x": [
          "JOHNSTON "
         ],
         "xaxis": "x",
         "y": [
          39
         ],
         "yaxis": "y"
        },
        {
         "hovertemplate": "COUNTYNAME=%{x}<br>FATALS=%{y}<br>PEDSPERCENTAGE=%{marker.size}<br>PEDS=%{text}<extra></extra>",
         "legendgroup": "CATAWBA ",
         "marker": {
          "color": "#FF97FF",
          "size": [
           14
          ],
          "sizemode": "area",
          "sizeref": 0.07,
          "symbol": "circle"
         },
         "mode": "markers+text",
         "name": "CATAWBA ",
         "orientation": "v",
         "showlegend": true,
         "text": [
          5
         ],
         "type": "scatter",
         "x": [
          "CATAWBA "
         ],
         "xaxis": "x",
         "y": [
          37
         ],
         "yaxis": "y"
        },
        {
         "hovertemplate": "COUNTYNAME=%{x}<br>FATALS=%{y}<br>PEDSPERCENTAGE=%{marker.size}<br>PEDS=%{text}<extra></extra>",
         "legendgroup": "HARNETT ",
         "marker": {
          "color": "#FECB52",
          "size": [
           22
          ],
          "sizemode": "area",
          "sizeref": 0.07,
          "symbol": "circle"
         },
         "mode": "markers+text",
         "name": "HARNETT ",
         "orientation": "v",
         "showlegend": true,
         "text": [
          8
         ],
         "type": "scatter",
         "x": [
          "HARNETT "
         ],
         "xaxis": "x",
         "y": [
          36
         ],
         "yaxis": "y"
        }
       ],
       "layout": {
        "legend": {
         "itemsizing": "constant",
         "title": {
          "text": "COUNTYNAME"
         },
         "tracegroupgap": 0
        },
        "margin": {
         "t": 60
        },
        "template": {
         "data": {
          "bar": [
           {
            "error_x": {
             "color": "#f2f5fa"
            },
            "error_y": {
             "color": "#f2f5fa"
            },
            "marker": {
             "line": {
              "color": "rgb(17,17,17)",
              "width": 0.5
             },
             "pattern": {
              "fillmode": "overlay",
              "size": 10,
              "solidity": 0.2
             }
            },
            "type": "bar"
           }
          ],
          "barpolar": [
           {
            "marker": {
             "line": {
              "color": "rgb(17,17,17)",
              "width": 0.5
             },
             "pattern": {
              "fillmode": "overlay",
              "size": 10,
              "solidity": 0.2
             }
            },
            "type": "barpolar"
           }
          ],
          "carpet": [
           {
            "aaxis": {
             "endlinecolor": "#A2B1C6",
             "gridcolor": "#506784",
             "linecolor": "#506784",
             "minorgridcolor": "#506784",
             "startlinecolor": "#A2B1C6"
            },
            "baxis": {
             "endlinecolor": "#A2B1C6",
             "gridcolor": "#506784",
             "linecolor": "#506784",
             "minorgridcolor": "#506784",
             "startlinecolor": "#A2B1C6"
            },
            "type": "carpet"
           }
          ],
          "choropleth": [
           {
            "colorbar": {
             "outlinewidth": 0,
             "ticks": ""
            },
            "type": "choropleth"
           }
          ],
          "contour": [
           {
            "colorbar": {
             "outlinewidth": 0,
             "ticks": ""
            },
            "colorscale": [
             [
              0,
              "#0d0887"
             ],
             [
              0.1111111111111111,
              "#46039f"
             ],
             [
              0.2222222222222222,
              "#7201a8"
             ],
             [
              0.3333333333333333,
              "#9c179e"
             ],
             [
              0.4444444444444444,
              "#bd3786"
             ],
             [
              0.5555555555555556,
              "#d8576b"
             ],
             [
              0.6666666666666666,
              "#ed7953"
             ],
             [
              0.7777777777777778,
              "#fb9f3a"
             ],
             [
              0.8888888888888888,
              "#fdca26"
             ],
             [
              1,
              "#f0f921"
             ]
            ],
            "type": "contour"
           }
          ],
          "contourcarpet": [
           {
            "colorbar": {
             "outlinewidth": 0,
             "ticks": ""
            },
            "type": "contourcarpet"
           }
          ],
          "heatmap": [
           {
            "colorbar": {
             "outlinewidth": 0,
             "ticks": ""
            },
            "colorscale": [
             [
              0,
              "#0d0887"
             ],
             [
              0.1111111111111111,
              "#46039f"
             ],
             [
              0.2222222222222222,
              "#7201a8"
             ],
             [
              0.3333333333333333,
              "#9c179e"
             ],
             [
              0.4444444444444444,
              "#bd3786"
             ],
             [
              0.5555555555555556,
              "#d8576b"
             ],
             [
              0.6666666666666666,
              "#ed7953"
             ],
             [
              0.7777777777777778,
              "#fb9f3a"
             ],
             [
              0.8888888888888888,
              "#fdca26"
             ],
             [
              1,
              "#f0f921"
             ]
            ],
            "type": "heatmap"
           }
          ],
          "heatmapgl": [
           {
            "colorbar": {
             "outlinewidth": 0,
             "ticks": ""
            },
            "colorscale": [
             [
              0,
              "#0d0887"
             ],
             [
              0.1111111111111111,
              "#46039f"
             ],
             [
              0.2222222222222222,
              "#7201a8"
             ],
             [
              0.3333333333333333,
              "#9c179e"
             ],
             [
              0.4444444444444444,
              "#bd3786"
             ],
             [
              0.5555555555555556,
              "#d8576b"
             ],
             [
              0.6666666666666666,
              "#ed7953"
             ],
             [
              0.7777777777777778,
              "#fb9f3a"
             ],
             [
              0.8888888888888888,
              "#fdca26"
             ],
             [
              1,
              "#f0f921"
             ]
            ],
            "type": "heatmapgl"
           }
          ],
          "histogram": [
           {
            "marker": {
             "pattern": {
              "fillmode": "overlay",
              "size": 10,
              "solidity": 0.2
             }
            },
            "type": "histogram"
           }
          ],
          "histogram2d": [
           {
            "colorbar": {
             "outlinewidth": 0,
             "ticks": ""
            },
            "colorscale": [
             [
              0,
              "#0d0887"
             ],
             [
              0.1111111111111111,
              "#46039f"
             ],
             [
              0.2222222222222222,
              "#7201a8"
             ],
             [
              0.3333333333333333,
              "#9c179e"
             ],
             [
              0.4444444444444444,
              "#bd3786"
             ],
             [
              0.5555555555555556,
              "#d8576b"
             ],
             [
              0.6666666666666666,
              "#ed7953"
             ],
             [
              0.7777777777777778,
              "#fb9f3a"
             ],
             [
              0.8888888888888888,
              "#fdca26"
             ],
             [
              1,
              "#f0f921"
             ]
            ],
            "type": "histogram2d"
           }
          ],
          "histogram2dcontour": [
           {
            "colorbar": {
             "outlinewidth": 0,
             "ticks": ""
            },
            "colorscale": [
             [
              0,
              "#0d0887"
             ],
             [
              0.1111111111111111,
              "#46039f"
             ],
             [
              0.2222222222222222,
              "#7201a8"
             ],
             [
              0.3333333333333333,
              "#9c179e"
             ],
             [
              0.4444444444444444,
              "#bd3786"
             ],
             [
              0.5555555555555556,
              "#d8576b"
             ],
             [
              0.6666666666666666,
              "#ed7953"
             ],
             [
              0.7777777777777778,
              "#fb9f3a"
             ],
             [
              0.8888888888888888,
              "#fdca26"
             ],
             [
              1,
              "#f0f921"
             ]
            ],
            "type": "histogram2dcontour"
           }
          ],
          "mesh3d": [
           {
            "colorbar": {
             "outlinewidth": 0,
             "ticks": ""
            },
            "type": "mesh3d"
           }
          ],
          "parcoords": [
           {
            "line": {
             "colorbar": {
              "outlinewidth": 0,
              "ticks": ""
             }
            },
            "type": "parcoords"
           }
          ],
          "pie": [
           {
            "automargin": true,
            "type": "pie"
           }
          ],
          "scatter": [
           {
            "marker": {
             "line": {
              "color": "#283442"
             }
            },
            "type": "scatter"
           }
          ],
          "scatter3d": [
           {
            "line": {
             "colorbar": {
              "outlinewidth": 0,
              "ticks": ""
             }
            },
            "marker": {
             "colorbar": {
              "outlinewidth": 0,
              "ticks": ""
             }
            },
            "type": "scatter3d"
           }
          ],
          "scattercarpet": [
           {
            "marker": {
             "colorbar": {
              "outlinewidth": 0,
              "ticks": ""
             }
            },
            "type": "scattercarpet"
           }
          ],
          "scattergeo": [
           {
            "marker": {
             "colorbar": {
              "outlinewidth": 0,
              "ticks": ""
             }
            },
            "type": "scattergeo"
           }
          ],
          "scattergl": [
           {
            "marker": {
             "line": {
              "color": "#283442"
             }
            },
            "type": "scattergl"
           }
          ],
          "scattermapbox": [
           {
            "marker": {
             "colorbar": {
              "outlinewidth": 0,
              "ticks": ""
             }
            },
            "type": "scattermapbox"
           }
          ],
          "scatterpolar": [
           {
            "marker": {
             "colorbar": {
              "outlinewidth": 0,
              "ticks": ""
             }
            },
            "type": "scatterpolar"
           }
          ],
          "scatterpolargl": [
           {
            "marker": {
             "colorbar": {
              "outlinewidth": 0,
              "ticks": ""
             }
            },
            "type": "scatterpolargl"
           }
          ],
          "scatterternary": [
           {
            "marker": {
             "colorbar": {
              "outlinewidth": 0,
              "ticks": ""
             }
            },
            "type": "scatterternary"
           }
          ],
          "surface": [
           {
            "colorbar": {
             "outlinewidth": 0,
             "ticks": ""
            },
            "colorscale": [
             [
              0,
              "#0d0887"
             ],
             [
              0.1111111111111111,
              "#46039f"
             ],
             [
              0.2222222222222222,
              "#7201a8"
             ],
             [
              0.3333333333333333,
              "#9c179e"
             ],
             [
              0.4444444444444444,
              "#bd3786"
             ],
             [
              0.5555555555555556,
              "#d8576b"
             ],
             [
              0.6666666666666666,
              "#ed7953"
             ],
             [
              0.7777777777777778,
              "#fb9f3a"
             ],
             [
              0.8888888888888888,
              "#fdca26"
             ],
             [
              1,
              "#f0f921"
             ]
            ],
            "type": "surface"
           }
          ],
          "table": [
           {
            "cells": {
             "fill": {
              "color": "#506784"
             },
             "line": {
              "color": "rgb(17,17,17)"
             }
            },
            "header": {
             "fill": {
              "color": "#2a3f5f"
             },
             "line": {
              "color": "rgb(17,17,17)"
             }
            },
            "type": "table"
           }
          ]
         },
         "layout": {
          "annotationdefaults": {
           "arrowcolor": "#f2f5fa",
           "arrowhead": 0,
           "arrowwidth": 1
          },
          "autotypenumbers": "strict",
          "coloraxis": {
           "colorbar": {
            "outlinewidth": 0,
            "ticks": ""
           }
          },
          "colorscale": {
           "diverging": [
            [
             0,
             "#8e0152"
            ],
            [
             0.1,
             "#c51b7d"
            ],
            [
             0.2,
             "#de77ae"
            ],
            [
             0.3,
             "#f1b6da"
            ],
            [
             0.4,
             "#fde0ef"
            ],
            [
             0.5,
             "#f7f7f7"
            ],
            [
             0.6,
             "#e6f5d0"
            ],
            [
             0.7,
             "#b8e186"
            ],
            [
             0.8,
             "#7fbc41"
            ],
            [
             0.9,
             "#4d9221"
            ],
            [
             1,
             "#276419"
            ]
           ],
           "sequential": [
            [
             0,
             "#0d0887"
            ],
            [
             0.1111111111111111,
             "#46039f"
            ],
            [
             0.2222222222222222,
             "#7201a8"
            ],
            [
             0.3333333333333333,
             "#9c179e"
            ],
            [
             0.4444444444444444,
             "#bd3786"
            ],
            [
             0.5555555555555556,
             "#d8576b"
            ],
            [
             0.6666666666666666,
             "#ed7953"
            ],
            [
             0.7777777777777778,
             "#fb9f3a"
            ],
            [
             0.8888888888888888,
             "#fdca26"
            ],
            [
             1,
             "#f0f921"
            ]
           ],
           "sequentialminus": [
            [
             0,
             "#0d0887"
            ],
            [
             0.1111111111111111,
             "#46039f"
            ],
            [
             0.2222222222222222,
             "#7201a8"
            ],
            [
             0.3333333333333333,
             "#9c179e"
            ],
            [
             0.4444444444444444,
             "#bd3786"
            ],
            [
             0.5555555555555556,
             "#d8576b"
            ],
            [
             0.6666666666666666,
             "#ed7953"
            ],
            [
             0.7777777777777778,
             "#fb9f3a"
            ],
            [
             0.8888888888888888,
             "#fdca26"
            ],
            [
             1,
             "#f0f921"
            ]
           ]
          },
          "colorway": [
           "#636efa",
           "#EF553B",
           "#00cc96",
           "#ab63fa",
           "#FFA15A",
           "#19d3f3",
           "#FF6692",
           "#B6E880",
           "#FF97FF",
           "#FECB52"
          ],
          "font": {
           "color": "#f2f5fa"
          },
          "geo": {
           "bgcolor": "rgb(17,17,17)",
           "lakecolor": "rgb(17,17,17)",
           "landcolor": "rgb(17,17,17)",
           "showlakes": true,
           "showland": true,
           "subunitcolor": "#506784"
          },
          "hoverlabel": {
           "align": "left"
          },
          "hovermode": "closest",
          "mapbox": {
           "style": "dark"
          },
          "paper_bgcolor": "rgb(17,17,17)",
          "plot_bgcolor": "rgb(17,17,17)",
          "polar": {
           "angularaxis": {
            "gridcolor": "#506784",
            "linecolor": "#506784",
            "ticks": ""
           },
           "bgcolor": "rgb(17,17,17)",
           "radialaxis": {
            "gridcolor": "#506784",
            "linecolor": "#506784",
            "ticks": ""
           }
          },
          "scene": {
           "xaxis": {
            "backgroundcolor": "rgb(17,17,17)",
            "gridcolor": "#506784",
            "gridwidth": 2,
            "linecolor": "#506784",
            "showbackground": true,
            "ticks": "",
            "zerolinecolor": "#C8D4E3"
           },
           "yaxis": {
            "backgroundcolor": "rgb(17,17,17)",
            "gridcolor": "#506784",
            "gridwidth": 2,
            "linecolor": "#506784",
            "showbackground": true,
            "ticks": "",
            "zerolinecolor": "#C8D4E3"
           },
           "zaxis": {
            "backgroundcolor": "rgb(17,17,17)",
            "gridcolor": "#506784",
            "gridwidth": 2,
            "linecolor": "#506784",
            "showbackground": true,
            "ticks": "",
            "zerolinecolor": "#C8D4E3"
           }
          },
          "shapedefaults": {
           "line": {
            "color": "#f2f5fa"
           }
          },
          "sliderdefaults": {
           "bgcolor": "#C8D4E3",
           "bordercolor": "rgb(17,17,17)",
           "borderwidth": 1,
           "tickwidth": 0
          },
          "ternary": {
           "aaxis": {
            "gridcolor": "#506784",
            "linecolor": "#506784",
            "ticks": ""
           },
           "baxis": {
            "gridcolor": "#506784",
            "linecolor": "#506784",
            "ticks": ""
           },
           "bgcolor": "rgb(17,17,17)",
           "caxis": {
            "gridcolor": "#506784",
            "linecolor": "#506784",
            "ticks": ""
           }
          },
          "title": {
           "x": 0.05
          },
          "updatemenudefaults": {
           "bgcolor": "#506784",
           "borderwidth": 0
          },
          "xaxis": {
           "automargin": true,
           "gridcolor": "#283442",
           "linecolor": "#506784",
           "ticks": "",
           "title": {
            "standoff": 15
           },
           "zerolinecolor": "#283442",
           "zerolinewidth": 2
          },
          "yaxis": {
           "automargin": true,
           "gridcolor": "#283442",
           "linecolor": "#506784",
           "ticks": "",
           "title": {
            "standoff": 15
           },
           "zerolinecolor": "#283442",
           "zerolinewidth": 2
          }
         }
        },
        "title": {
         "text": "Accidents involving pedestrians",
         "x": 0.4
        },
        "xaxis": {
         "anchor": "y",
         "categoryarray": [
          "MECKLENBURG ",
          "GUILFORD ",
          "WAKE ",
          "ROBESON ",
          "CUMBERLAND ",
          "FORSYTH ",
          "DAVIDSON ",
          "JOHNSTON ",
          "CATAWBA ",
          "HARNETT "
         ],
         "categoryorder": "array",
         "domain": [
          0,
          1
         ],
         "title": {
          "text": "COUNTYNAME"
         }
        },
        "yaxis": {
         "anchor": "x",
         "domain": [
          0,
          1
         ],
         "title": {
          "text": "FATALS"
         }
        }
       }
      },
      "text/html": [
       "<div>                            <div id=\"44056d0a-ce40-4a57-98f3-f194fa795861\" class=\"plotly-graph-div\" style=\"height:525px; width:100%;\"></div>            <script type=\"text/javascript\">                require([\"plotly\"], function(Plotly) {                    window.PLOTLYENV=window.PLOTLYENV || {};                                    if (document.getElementById(\"44056d0a-ce40-4a57-98f3-f194fa795861\")) {                    Plotly.newPlot(                        \"44056d0a-ce40-4a57-98f3-f194fa795861\",                        [{\"hovertemplate\":\"COUNTYNAME=%{x}<br>FATALS=%{y}<br>PEDSPERCENTAGE=%{marker.size}<br>PEDS=%{text}<extra></extra>\",\"legendgroup\":\"MECKLENBURG \",\"marker\":{\"color\":\"#636efa\",\"size\":[28.0],\"sizemode\":\"area\",\"sizeref\":0.07,\"symbol\":\"circle\"},\"mode\":\"markers+text\",\"name\":\"MECKLENBURG \",\"orientation\":\"v\",\"showlegend\":true,\"text\":[33.0],\"x\":[\"MECKLENBURG \"],\"xaxis\":\"x\",\"y\":[116],\"yaxis\":\"y\",\"type\":\"scatter\"},{\"hovertemplate\":\"COUNTYNAME=%{x}<br>FATALS=%{y}<br>PEDSPERCENTAGE=%{marker.size}<br>PEDS=%{text}<extra></extra>\",\"legendgroup\":\"GUILFORD \",\"marker\":{\"color\":\"#EF553B\",\"size\":[24.0],\"sizemode\":\"area\",\"sizeref\":0.07,\"symbol\":\"circle\"},\"mode\":\"markers+text\",\"name\":\"GUILFORD \",\"orientation\":\"v\",\"showlegend\":true,\"text\":[21.0],\"x\":[\"GUILFORD \"],\"xaxis\":\"x\",\"y\":[88],\"yaxis\":\"y\",\"type\":\"scatter\"},{\"hovertemplate\":\"COUNTYNAME=%{x}<br>FATALS=%{y}<br>PEDSPERCENTAGE=%{marker.size}<br>PEDS=%{text}<extra></extra>\",\"legendgroup\":\"WAKE \",\"marker\":{\"color\":\"#00cc96\",\"size\":[16.0],\"sizemode\":\"area\",\"sizeref\":0.07,\"symbol\":\"circle\"},\"mode\":\"markers+text\",\"name\":\"WAKE \",\"orientation\":\"v\",\"showlegend\":true,\"text\":[14.0],\"x\":[\"WAKE \"],\"xaxis\":\"x\",\"y\":[85],\"yaxis\":\"y\",\"type\":\"scatter\"},{\"hovertemplate\":\"COUNTYNAME=%{x}<br>FATALS=%{y}<br>PEDSPERCENTAGE=%{marker.size}<br>PEDS=%{text}<extra></extra>\",\"legendgroup\":\"ROBESON \",\"marker\":{\"color\":\"#ab63fa\",\"size\":[8.0],\"sizemode\":\"area\",\"sizeref\":0.07,\"symbol\":\"circle\"},\"mode\":\"markers+text\",\"name\":\"ROBESON \",\"orientation\":\"v\",\"showlegend\":true,\"text\":[5.0],\"x\":[\"ROBESON \"],\"xaxis\":\"x\",\"y\":[61],\"yaxis\":\"y\",\"type\":\"scatter\"},{\"hovertemplate\":\"COUNTYNAME=%{x}<br>FATALS=%{y}<br>PEDSPERCENTAGE=%{marker.size}<br>PEDS=%{text}<extra></extra>\",\"legendgroup\":\"CUMBERLAND \",\"marker\":{\"color\":\"#FFA15A\",\"size\":[19.0],\"sizemode\":\"area\",\"sizeref\":0.07,\"symbol\":\"circle\"},\"mode\":\"markers+text\",\"name\":\"CUMBERLAND \",\"orientation\":\"v\",\"showlegend\":true,\"text\":[10.0],\"x\":[\"CUMBERLAND \"],\"xaxis\":\"x\",\"y\":[53],\"yaxis\":\"y\",\"type\":\"scatter\"},{\"hovertemplate\":\"COUNTYNAME=%{x}<br>FATALS=%{y}<br>PEDSPERCENTAGE=%{marker.size}<br>PEDS=%{text}<extra></extra>\",\"legendgroup\":\"FORSYTH \",\"marker\":{\"color\":\"#19d3f3\",\"size\":[23.0],\"sizemode\":\"area\",\"sizeref\":0.07,\"symbol\":\"circle\"},\"mode\":\"markers+text\",\"name\":\"FORSYTH \",\"orientation\":\"v\",\"showlegend\":true,\"text\":[11.0],\"x\":[\"FORSYTH \"],\"xaxis\":\"x\",\"y\":[47],\"yaxis\":\"y\",\"type\":\"scatter\"},{\"hovertemplate\":\"COUNTYNAME=%{x}<br>FATALS=%{y}<br>PEDSPERCENTAGE=%{marker.size}<br>PEDS=%{text}<extra></extra>\",\"legendgroup\":\"DAVIDSON \",\"marker\":{\"color\":\"#FF6692\",\"size\":[18.0],\"sizemode\":\"area\",\"sizeref\":0.07,\"symbol\":\"circle\"},\"mode\":\"markers+text\",\"name\":\"DAVIDSON \",\"orientation\":\"v\",\"showlegend\":true,\"text\":[7.0],\"x\":[\"DAVIDSON \"],\"xaxis\":\"x\",\"y\":[39],\"yaxis\":\"y\",\"type\":\"scatter\"},{\"hovertemplate\":\"COUNTYNAME=%{x}<br>FATALS=%{y}<br>PEDSPERCENTAGE=%{marker.size}<br>PEDS=%{text}<extra></extra>\",\"legendgroup\":\"JOHNSTON \",\"marker\":{\"color\":\"#B6E880\",\"size\":[18.0],\"sizemode\":\"area\",\"sizeref\":0.07,\"symbol\":\"circle\"},\"mode\":\"markers+text\",\"name\":\"JOHNSTON \",\"orientation\":\"v\",\"showlegend\":true,\"text\":[7.0],\"x\":[\"JOHNSTON \"],\"xaxis\":\"x\",\"y\":[39],\"yaxis\":\"y\",\"type\":\"scatter\"},{\"hovertemplate\":\"COUNTYNAME=%{x}<br>FATALS=%{y}<br>PEDSPERCENTAGE=%{marker.size}<br>PEDS=%{text}<extra></extra>\",\"legendgroup\":\"CATAWBA \",\"marker\":{\"color\":\"#FF97FF\",\"size\":[14.0],\"sizemode\":\"area\",\"sizeref\":0.07,\"symbol\":\"circle\"},\"mode\":\"markers+text\",\"name\":\"CATAWBA \",\"orientation\":\"v\",\"showlegend\":true,\"text\":[5.0],\"x\":[\"CATAWBA \"],\"xaxis\":\"x\",\"y\":[37],\"yaxis\":\"y\",\"type\":\"scatter\"},{\"hovertemplate\":\"COUNTYNAME=%{x}<br>FATALS=%{y}<br>PEDSPERCENTAGE=%{marker.size}<br>PEDS=%{text}<extra></extra>\",\"legendgroup\":\"HARNETT \",\"marker\":{\"color\":\"#FECB52\",\"size\":[22.0],\"sizemode\":\"area\",\"sizeref\":0.07,\"symbol\":\"circle\"},\"mode\":\"markers+text\",\"name\":\"HARNETT \",\"orientation\":\"v\",\"showlegend\":true,\"text\":[8.0],\"x\":[\"HARNETT \"],\"xaxis\":\"x\",\"y\":[36],\"yaxis\":\"y\",\"type\":\"scatter\"}],                        {\"template\":{\"data\":{\"barpolar\":[{\"marker\":{\"line\":{\"color\":\"rgb(17,17,17)\",\"width\":0.5},\"pattern\":{\"fillmode\":\"overlay\",\"size\":10,\"solidity\":0.2}},\"type\":\"barpolar\"}],\"bar\":[{\"error_x\":{\"color\":\"#f2f5fa\"},\"error_y\":{\"color\":\"#f2f5fa\"},\"marker\":{\"line\":{\"color\":\"rgb(17,17,17)\",\"width\":0.5},\"pattern\":{\"fillmode\":\"overlay\",\"size\":10,\"solidity\":0.2}},\"type\":\"bar\"}],\"carpet\":[{\"aaxis\":{\"endlinecolor\":\"#A2B1C6\",\"gridcolor\":\"#506784\",\"linecolor\":\"#506784\",\"minorgridcolor\":\"#506784\",\"startlinecolor\":\"#A2B1C6\"},\"baxis\":{\"endlinecolor\":\"#A2B1C6\",\"gridcolor\":\"#506784\",\"linecolor\":\"#506784\",\"minorgridcolor\":\"#506784\",\"startlinecolor\":\"#A2B1C6\"},\"type\":\"carpet\"}],\"choropleth\":[{\"colorbar\":{\"outlinewidth\":0,\"ticks\":\"\"},\"type\":\"choropleth\"}],\"contourcarpet\":[{\"colorbar\":{\"outlinewidth\":0,\"ticks\":\"\"},\"type\":\"contourcarpet\"}],\"contour\":[{\"colorbar\":{\"outlinewidth\":0,\"ticks\":\"\"},\"colorscale\":[[0.0,\"#0d0887\"],[0.1111111111111111,\"#46039f\"],[0.2222222222222222,\"#7201a8\"],[0.3333333333333333,\"#9c179e\"],[0.4444444444444444,\"#bd3786\"],[0.5555555555555556,\"#d8576b\"],[0.6666666666666666,\"#ed7953\"],[0.7777777777777778,\"#fb9f3a\"],[0.8888888888888888,\"#fdca26\"],[1.0,\"#f0f921\"]],\"type\":\"contour\"}],\"heatmapgl\":[{\"colorbar\":{\"outlinewidth\":0,\"ticks\":\"\"},\"colorscale\":[[0.0,\"#0d0887\"],[0.1111111111111111,\"#46039f\"],[0.2222222222222222,\"#7201a8\"],[0.3333333333333333,\"#9c179e\"],[0.4444444444444444,\"#bd3786\"],[0.5555555555555556,\"#d8576b\"],[0.6666666666666666,\"#ed7953\"],[0.7777777777777778,\"#fb9f3a\"],[0.8888888888888888,\"#fdca26\"],[1.0,\"#f0f921\"]],\"type\":\"heatmapgl\"}],\"heatmap\":[{\"colorbar\":{\"outlinewidth\":0,\"ticks\":\"\"},\"colorscale\":[[0.0,\"#0d0887\"],[0.1111111111111111,\"#46039f\"],[0.2222222222222222,\"#7201a8\"],[0.3333333333333333,\"#9c179e\"],[0.4444444444444444,\"#bd3786\"],[0.5555555555555556,\"#d8576b\"],[0.6666666666666666,\"#ed7953\"],[0.7777777777777778,\"#fb9f3a\"],[0.8888888888888888,\"#fdca26\"],[1.0,\"#f0f921\"]],\"type\":\"heatmap\"}],\"histogram2dcontour\":[{\"colorbar\":{\"outlinewidth\":0,\"ticks\":\"\"},\"colorscale\":[[0.0,\"#0d0887\"],[0.1111111111111111,\"#46039f\"],[0.2222222222222222,\"#7201a8\"],[0.3333333333333333,\"#9c179e\"],[0.4444444444444444,\"#bd3786\"],[0.5555555555555556,\"#d8576b\"],[0.6666666666666666,\"#ed7953\"],[0.7777777777777778,\"#fb9f3a\"],[0.8888888888888888,\"#fdca26\"],[1.0,\"#f0f921\"]],\"type\":\"histogram2dcontour\"}],\"histogram2d\":[{\"colorbar\":{\"outlinewidth\":0,\"ticks\":\"\"},\"colorscale\":[[0.0,\"#0d0887\"],[0.1111111111111111,\"#46039f\"],[0.2222222222222222,\"#7201a8\"],[0.3333333333333333,\"#9c179e\"],[0.4444444444444444,\"#bd3786\"],[0.5555555555555556,\"#d8576b\"],[0.6666666666666666,\"#ed7953\"],[0.7777777777777778,\"#fb9f3a\"],[0.8888888888888888,\"#fdca26\"],[1.0,\"#f0f921\"]],\"type\":\"histogram2d\"}],\"histogram\":[{\"marker\":{\"pattern\":{\"fillmode\":\"overlay\",\"size\":10,\"solidity\":0.2}},\"type\":\"histogram\"}],\"mesh3d\":[{\"colorbar\":{\"outlinewidth\":0,\"ticks\":\"\"},\"type\":\"mesh3d\"}],\"parcoords\":[{\"line\":{\"colorbar\":{\"outlinewidth\":0,\"ticks\":\"\"}},\"type\":\"parcoords\"}],\"pie\":[{\"automargin\":true,\"type\":\"pie\"}],\"scatter3d\":[{\"line\":{\"colorbar\":{\"outlinewidth\":0,\"ticks\":\"\"}},\"marker\":{\"colorbar\":{\"outlinewidth\":0,\"ticks\":\"\"}},\"type\":\"scatter3d\"}],\"scattercarpet\":[{\"marker\":{\"colorbar\":{\"outlinewidth\":0,\"ticks\":\"\"}},\"type\":\"scattercarpet\"}],\"scattergeo\":[{\"marker\":{\"colorbar\":{\"outlinewidth\":0,\"ticks\":\"\"}},\"type\":\"scattergeo\"}],\"scattergl\":[{\"marker\":{\"line\":{\"color\":\"#283442\"}},\"type\":\"scattergl\"}],\"scattermapbox\":[{\"marker\":{\"colorbar\":{\"outlinewidth\":0,\"ticks\":\"\"}},\"type\":\"scattermapbox\"}],\"scatterpolargl\":[{\"marker\":{\"colorbar\":{\"outlinewidth\":0,\"ticks\":\"\"}},\"type\":\"scatterpolargl\"}],\"scatterpolar\":[{\"marker\":{\"colorbar\":{\"outlinewidth\":0,\"ticks\":\"\"}},\"type\":\"scatterpolar\"}],\"scatter\":[{\"marker\":{\"line\":{\"color\":\"#283442\"}},\"type\":\"scatter\"}],\"scatterternary\":[{\"marker\":{\"colorbar\":{\"outlinewidth\":0,\"ticks\":\"\"}},\"type\":\"scatterternary\"}],\"surface\":[{\"colorbar\":{\"outlinewidth\":0,\"ticks\":\"\"},\"colorscale\":[[0.0,\"#0d0887\"],[0.1111111111111111,\"#46039f\"],[0.2222222222222222,\"#7201a8\"],[0.3333333333333333,\"#9c179e\"],[0.4444444444444444,\"#bd3786\"],[0.5555555555555556,\"#d8576b\"],[0.6666666666666666,\"#ed7953\"],[0.7777777777777778,\"#fb9f3a\"],[0.8888888888888888,\"#fdca26\"],[1.0,\"#f0f921\"]],\"type\":\"surface\"}],\"table\":[{\"cells\":{\"fill\":{\"color\":\"#506784\"},\"line\":{\"color\":\"rgb(17,17,17)\"}},\"header\":{\"fill\":{\"color\":\"#2a3f5f\"},\"line\":{\"color\":\"rgb(17,17,17)\"}},\"type\":\"table\"}]},\"layout\":{\"annotationdefaults\":{\"arrowcolor\":\"#f2f5fa\",\"arrowhead\":0,\"arrowwidth\":1},\"autotypenumbers\":\"strict\",\"coloraxis\":{\"colorbar\":{\"outlinewidth\":0,\"ticks\":\"\"}},\"colorscale\":{\"diverging\":[[0,\"#8e0152\"],[0.1,\"#c51b7d\"],[0.2,\"#de77ae\"],[0.3,\"#f1b6da\"],[0.4,\"#fde0ef\"],[0.5,\"#f7f7f7\"],[0.6,\"#e6f5d0\"],[0.7,\"#b8e186\"],[0.8,\"#7fbc41\"],[0.9,\"#4d9221\"],[1,\"#276419\"]],\"sequential\":[[0.0,\"#0d0887\"],[0.1111111111111111,\"#46039f\"],[0.2222222222222222,\"#7201a8\"],[0.3333333333333333,\"#9c179e\"],[0.4444444444444444,\"#bd3786\"],[0.5555555555555556,\"#d8576b\"],[0.6666666666666666,\"#ed7953\"],[0.7777777777777778,\"#fb9f3a\"],[0.8888888888888888,\"#fdca26\"],[1.0,\"#f0f921\"]],\"sequentialminus\":[[0.0,\"#0d0887\"],[0.1111111111111111,\"#46039f\"],[0.2222222222222222,\"#7201a8\"],[0.3333333333333333,\"#9c179e\"],[0.4444444444444444,\"#bd3786\"],[0.5555555555555556,\"#d8576b\"],[0.6666666666666666,\"#ed7953\"],[0.7777777777777778,\"#fb9f3a\"],[0.8888888888888888,\"#fdca26\"],[1.0,\"#f0f921\"]]},\"colorway\":[\"#636efa\",\"#EF553B\",\"#00cc96\",\"#ab63fa\",\"#FFA15A\",\"#19d3f3\",\"#FF6692\",\"#B6E880\",\"#FF97FF\",\"#FECB52\"],\"font\":{\"color\":\"#f2f5fa\"},\"geo\":{\"bgcolor\":\"rgb(17,17,17)\",\"lakecolor\":\"rgb(17,17,17)\",\"landcolor\":\"rgb(17,17,17)\",\"showlakes\":true,\"showland\":true,\"subunitcolor\":\"#506784\"},\"hoverlabel\":{\"align\":\"left\"},\"hovermode\":\"closest\",\"mapbox\":{\"style\":\"dark\"},\"paper_bgcolor\":\"rgb(17,17,17)\",\"plot_bgcolor\":\"rgb(17,17,17)\",\"polar\":{\"angularaxis\":{\"gridcolor\":\"#506784\",\"linecolor\":\"#506784\",\"ticks\":\"\"},\"bgcolor\":\"rgb(17,17,17)\",\"radialaxis\":{\"gridcolor\":\"#506784\",\"linecolor\":\"#506784\",\"ticks\":\"\"}},\"scene\":{\"xaxis\":{\"backgroundcolor\":\"rgb(17,17,17)\",\"gridcolor\":\"#506784\",\"gridwidth\":2,\"linecolor\":\"#506784\",\"showbackground\":true,\"ticks\":\"\",\"zerolinecolor\":\"#C8D4E3\"},\"yaxis\":{\"backgroundcolor\":\"rgb(17,17,17)\",\"gridcolor\":\"#506784\",\"gridwidth\":2,\"linecolor\":\"#506784\",\"showbackground\":true,\"ticks\":\"\",\"zerolinecolor\":\"#C8D4E3\"},\"zaxis\":{\"backgroundcolor\":\"rgb(17,17,17)\",\"gridcolor\":\"#506784\",\"gridwidth\":2,\"linecolor\":\"#506784\",\"showbackground\":true,\"ticks\":\"\",\"zerolinecolor\":\"#C8D4E3\"}},\"shapedefaults\":{\"line\":{\"color\":\"#f2f5fa\"}},\"sliderdefaults\":{\"bgcolor\":\"#C8D4E3\",\"bordercolor\":\"rgb(17,17,17)\",\"borderwidth\":1,\"tickwidth\":0},\"ternary\":{\"aaxis\":{\"gridcolor\":\"#506784\",\"linecolor\":\"#506784\",\"ticks\":\"\"},\"baxis\":{\"gridcolor\":\"#506784\",\"linecolor\":\"#506784\",\"ticks\":\"\"},\"bgcolor\":\"rgb(17,17,17)\",\"caxis\":{\"gridcolor\":\"#506784\",\"linecolor\":\"#506784\",\"ticks\":\"\"}},\"title\":{\"x\":0.05},\"updatemenudefaults\":{\"bgcolor\":\"#506784\",\"borderwidth\":0},\"xaxis\":{\"automargin\":true,\"gridcolor\":\"#283442\",\"linecolor\":\"#506784\",\"ticks\":\"\",\"title\":{\"standoff\":15},\"zerolinecolor\":\"#283442\",\"zerolinewidth\":2},\"yaxis\":{\"automargin\":true,\"gridcolor\":\"#283442\",\"linecolor\":\"#506784\",\"ticks\":\"\",\"title\":{\"standoff\":15},\"zerolinecolor\":\"#283442\",\"zerolinewidth\":2}}},\"xaxis\":{\"anchor\":\"y\",\"domain\":[0.0,1.0],\"title\":{\"text\":\"COUNTYNAME\"},\"categoryorder\":\"array\",\"categoryarray\":[\"MECKLENBURG \",\"GUILFORD \",\"WAKE \",\"ROBESON \",\"CUMBERLAND \",\"FORSYTH \",\"DAVIDSON \",\"JOHNSTON \",\"CATAWBA \",\"HARNETT \"]},\"yaxis\":{\"anchor\":\"x\",\"domain\":[0.0,1.0],\"title\":{\"text\":\"FATALS\"}},\"legend\":{\"title\":{\"text\":\"COUNTYNAME\"},\"tracegroupgap\":0,\"itemsizing\":\"constant\"},\"margin\":{\"t\":60},\"title\":{\"text\":\"Accidents involving pedestrians\",\"x\":0.4}},                        {\"responsive\": true}                    ).then(function(){\n",
       "                            \n",
       "var gd = document.getElementById('44056d0a-ce40-4a57-98f3-f194fa795861');\n",
       "var x = new MutationObserver(function (mutations, observer) {{\n",
       "        var display = window.getComputedStyle(gd).display;\n",
       "        if (!display || display === 'none') {{\n",
       "            console.log([gd, 'removed!']);\n",
       "            Plotly.purge(gd);\n",
       "            observer.disconnect();\n",
       "        }}\n",
       "}});\n",
       "\n",
       "// Listen for the removal of the full notebook cells\n",
       "var notebookContainer = gd.closest('#notebook-container');\n",
       "if (notebookContainer) {{\n",
       "    x.observe(notebookContainer, {childList: true});\n",
       "}}\n",
       "\n",
       "// Listen for the clearing of the current output cell\n",
       "var outputEl = gd.closest('.output');\n",
       "if (outputEl) {{\n",
       "    x.observe(outputEl, {childList: true});\n",
       "}}\n",
       "\n",
       "                        })                };                });            </script>        </div>"
      ]
     },
     "metadata": {},
     "output_type": "display_data"
    }
   ],
   "source": [
    "# Using bubble chart fatals and involving pedeatrians(Bubble size represents the percentage of pedestrians involved)\n",
    "fig = px.scatter(top_10_counties, x='COUNTYNAME',y='FATALS', size ='PEDSPERCENTAGE',text =\"PEDS\",color = 'COUNTYNAME')\n",
    "fig.update_layout(title_text ='Accidents involving pedestrians', title_x =.4,template ='plotly_dark')\n",
    "fig.show()\n",
    "fig.write_html(\"Resources/bubble_months_peds.html\")"
   ]
  },
  {
   "cell_type": "markdown",
   "id": "9dc44df1",
   "metadata": {},
   "source": [
    "#### Multiple line chart representing totoal fatals and pedestiran "
   ]
  },
  {
   "cell_type": "code",
   "execution_count": 71,
   "id": "71a74c98",
   "metadata": {},
   "outputs": [
    {
     "data": {
      "application/vnd.plotly.v1+json": {
       "config": {
        "plotlyServerURL": "https://plot.ly"
       },
       "data": [
        {
         "hovertemplate": "variable=FATALS<br>COUNTYNAME=%{x}<br>value=%{y}<extra></extra>",
         "legendgroup": "FATALS",
         "line": {
          "color": "#F2CC8F",
          "dash": "solid"
         },
         "marker": {
          "symbol": "circle"
         },
         "mode": "lines",
         "name": "FATALS",
         "orientation": "v",
         "showlegend": true,
         "type": "scatter",
         "x": [
          "MECKLENBURG ",
          "GUILFORD ",
          "WAKE ",
          "ROBESON ",
          "CUMBERLAND ",
          "FORSYTH ",
          "DAVIDSON ",
          "JOHNSTON ",
          "CATAWBA ",
          "HARNETT ",
          "RANDOLPH ",
          "ROWAN ",
          "DUPLIN ",
          "SCOTLAND ",
          "ONSLOW ",
          "PITT ",
          "NEW HANOVER ",
          "LENOIR ",
          "CABARRUS ",
          "UNION ",
          "BUNCOMBE ",
          "BRUNSWICK ",
          "MOORE ",
          "COLUMBUS ",
          "IREDELL ",
          "DURHAM ",
          "GASTON ",
          "NASH ",
          "ORANGE ",
          "ALAMANCE ",
          "ROCKINGHAM ",
          "GRANVILLE ",
          "SAMPSON ",
          "HALIFAX ",
          "WILKES ",
          "VANCE ",
          "WILSON ",
          "HENDERSON ",
          "CHATHAM ",
          "SURRY ",
          "WAYNE ",
          "CRAVEN ",
          "HOKE ",
          "PENDER ",
          "CLEVELAND ",
          "LEE ",
          "EDGECOMBE ",
          "RUTHERFORD ",
          "LINCOLN ",
          "RICHMOND ",
          "STANLY ",
          "BLADEN ",
          "FRANKLIN ",
          "CALDWELL ",
          "PASQUOTANK ",
          "BURKE ",
          "WARREN ",
          "YADKIN ",
          "HAYWOOD ",
          "HERTFORD ",
          "JACKSON ",
          "CARTERET ",
          "MCDOWELL ",
          "MONTGOMERY ",
          "BERTIE ",
          "ALEXANDER ",
          "PERSON ",
          "CURRITUCK ",
          "GREENE ",
          "ASHE ",
          "NORTHAMPTON ",
          "DARE ",
          "STOKES ",
          "ANSON ",
          "BEAUFORT ",
          "DAVIE ",
          "GRAHAM ",
          "POLK ",
          "CLAY ",
          "SWAIN ",
          "WATAUGA ",
          "CHEROKEE ",
          "JONES ",
          "MACON ",
          "MADISON ",
          "MARTIN ",
          "PERQUIMANS ",
          "TRANSYLVANIA ",
          "ALLEGHANY ",
          "CASWELL ",
          "GATES ",
          "MITCHELL ",
          "PAMLICO ",
          "WASHINGTON ",
          "AVERY ",
          "CAMDEN ",
          "TYRRELL "
         ],
         "xaxis": "x",
         "y": [
          116,
          88,
          85,
          61,
          53,
          47,
          39,
          39,
          37,
          36,
          32,
          31,
          29,
          28,
          27,
          27,
          26,
          26,
          24,
          24,
          23,
          23,
          23,
          23,
          22,
          22,
          22,
          21,
          19,
          18,
          18,
          18,
          18,
          17,
          17,
          17,
          16,
          16,
          16,
          16,
          16,
          15,
          15,
          14,
          14,
          14,
          14,
          13,
          13,
          12,
          12,
          12,
          12,
          11,
          11,
          10,
          10,
          10,
          9,
          9,
          9,
          8,
          8,
          8,
          8,
          7,
          7,
          6,
          6,
          6,
          6,
          5,
          5,
          5,
          5,
          5,
          4,
          4,
          3,
          3,
          3,
          3,
          3,
          3,
          3,
          3,
          3,
          3,
          2,
          2,
          2,
          2,
          2,
          2,
          1,
          1,
          1
         ],
         "yaxis": "y"
        },
        {
         "hovertemplate": "variable=PEDS<br>COUNTYNAME=%{x}<br>value=%{y}<extra></extra>",
         "legendgroup": "PEDS",
         "line": {
          "color": "#033F63",
          "dash": "solid"
         },
         "marker": {
          "symbol": "circle"
         },
         "mode": "lines",
         "name": "PEDS",
         "orientation": "v",
         "showlegend": true,
         "type": "scatter",
         "x": [
          "MECKLENBURG ",
          "GUILFORD ",
          "WAKE ",
          "ROBESON ",
          "CUMBERLAND ",
          "FORSYTH ",
          "DAVIDSON ",
          "JOHNSTON ",
          "CATAWBA ",
          "HARNETT ",
          "RANDOLPH ",
          "ROWAN ",
          "DUPLIN ",
          "SCOTLAND ",
          "ONSLOW ",
          "PITT ",
          "NEW HANOVER ",
          "LENOIR ",
          "CABARRUS ",
          "UNION ",
          "BUNCOMBE ",
          "BRUNSWICK ",
          "MOORE ",
          "COLUMBUS ",
          "IREDELL ",
          "DURHAM ",
          "GASTON ",
          "NASH ",
          "ORANGE ",
          "ALAMANCE ",
          "ROCKINGHAM ",
          "GRANVILLE ",
          "SAMPSON ",
          "HALIFAX ",
          "WILKES ",
          "VANCE ",
          "WILSON ",
          "HENDERSON ",
          "CHATHAM ",
          "SURRY ",
          "WAYNE ",
          "CRAVEN ",
          "HOKE ",
          "PENDER ",
          "CLEVELAND ",
          "LEE ",
          "EDGECOMBE ",
          "RUTHERFORD ",
          "LINCOLN ",
          "RICHMOND ",
          "STANLY ",
          "BLADEN ",
          "FRANKLIN ",
          "CALDWELL ",
          "PASQUOTANK ",
          "BURKE ",
          "WARREN ",
          "YADKIN ",
          "HAYWOOD ",
          "HERTFORD ",
          "JACKSON ",
          "CARTERET ",
          "MCDOWELL ",
          "MONTGOMERY ",
          "BERTIE ",
          "ALEXANDER ",
          "PERSON ",
          "CURRITUCK ",
          "GREENE ",
          "ASHE ",
          "NORTHAMPTON ",
          "DARE ",
          "STOKES ",
          "ANSON ",
          "BEAUFORT ",
          "DAVIE ",
          "GRAHAM ",
          "POLK ",
          "CLAY ",
          "SWAIN ",
          "WATAUGA ",
          "CHEROKEE ",
          "JONES ",
          "MACON ",
          "MADISON ",
          "MARTIN ",
          "PERQUIMANS ",
          "TRANSYLVANIA ",
          "ALLEGHANY ",
          "CASWELL ",
          "GATES ",
          "MITCHELL ",
          "PAMLICO ",
          "WASHINGTON ",
          "AVERY ",
          "CAMDEN ",
          "TYRRELL "
         ],
         "xaxis": "x",
         "y": [
          33,
          21,
          14,
          5,
          10,
          11,
          7,
          7,
          5,
          8,
          5,
          7,
          1,
          4,
          7,
          3,
          10,
          5,
          7,
          2,
          9,
          6,
          4,
          3,
          4,
          3,
          1,
          4,
          3,
          4,
          4,
          3,
          0,
          4,
          2,
          1,
          5,
          4,
          2,
          1,
          0,
          5,
          2,
          5,
          2,
          2,
          1,
          3,
          0,
          4,
          2,
          1,
          1,
          2,
          1,
          3,
          1,
          0,
          3,
          0,
          0,
          3,
          1,
          1,
          0,
          0,
          0,
          2,
          1,
          0,
          0,
          2,
          1,
          0,
          0,
          0,
          0,
          0,
          1,
          1,
          1,
          0,
          0,
          0,
          0,
          0,
          0,
          0,
          1,
          0,
          0,
          0,
          0,
          0,
          0,
          0,
          0
         ],
         "yaxis": "y"
        }
       ],
       "layout": {
        "height": 500,
        "legend": {
         "title": {
          "text": "variable"
         },
         "tracegroupgap": 0
        },
        "margin": {
         "t": 60
        },
        "template": {
         "data": {
          "bar": [
           {
            "error_x": {
             "color": "#f2f5fa"
            },
            "error_y": {
             "color": "#f2f5fa"
            },
            "marker": {
             "line": {
              "color": "rgb(17,17,17)",
              "width": 0.5
             },
             "pattern": {
              "fillmode": "overlay",
              "size": 10,
              "solidity": 0.2
             }
            },
            "type": "bar"
           }
          ],
          "barpolar": [
           {
            "marker": {
             "line": {
              "color": "rgb(17,17,17)",
              "width": 0.5
             },
             "pattern": {
              "fillmode": "overlay",
              "size": 10,
              "solidity": 0.2
             }
            },
            "type": "barpolar"
           }
          ],
          "carpet": [
           {
            "aaxis": {
             "endlinecolor": "#A2B1C6",
             "gridcolor": "#506784",
             "linecolor": "#506784",
             "minorgridcolor": "#506784",
             "startlinecolor": "#A2B1C6"
            },
            "baxis": {
             "endlinecolor": "#A2B1C6",
             "gridcolor": "#506784",
             "linecolor": "#506784",
             "minorgridcolor": "#506784",
             "startlinecolor": "#A2B1C6"
            },
            "type": "carpet"
           }
          ],
          "choropleth": [
           {
            "colorbar": {
             "outlinewidth": 0,
             "ticks": ""
            },
            "type": "choropleth"
           }
          ],
          "contour": [
           {
            "colorbar": {
             "outlinewidth": 0,
             "ticks": ""
            },
            "colorscale": [
             [
              0,
              "#0d0887"
             ],
             [
              0.1111111111111111,
              "#46039f"
             ],
             [
              0.2222222222222222,
              "#7201a8"
             ],
             [
              0.3333333333333333,
              "#9c179e"
             ],
             [
              0.4444444444444444,
              "#bd3786"
             ],
             [
              0.5555555555555556,
              "#d8576b"
             ],
             [
              0.6666666666666666,
              "#ed7953"
             ],
             [
              0.7777777777777778,
              "#fb9f3a"
             ],
             [
              0.8888888888888888,
              "#fdca26"
             ],
             [
              1,
              "#f0f921"
             ]
            ],
            "type": "contour"
           }
          ],
          "contourcarpet": [
           {
            "colorbar": {
             "outlinewidth": 0,
             "ticks": ""
            },
            "type": "contourcarpet"
           }
          ],
          "heatmap": [
           {
            "colorbar": {
             "outlinewidth": 0,
             "ticks": ""
            },
            "colorscale": [
             [
              0,
              "#0d0887"
             ],
             [
              0.1111111111111111,
              "#46039f"
             ],
             [
              0.2222222222222222,
              "#7201a8"
             ],
             [
              0.3333333333333333,
              "#9c179e"
             ],
             [
              0.4444444444444444,
              "#bd3786"
             ],
             [
              0.5555555555555556,
              "#d8576b"
             ],
             [
              0.6666666666666666,
              "#ed7953"
             ],
             [
              0.7777777777777778,
              "#fb9f3a"
             ],
             [
              0.8888888888888888,
              "#fdca26"
             ],
             [
              1,
              "#f0f921"
             ]
            ],
            "type": "heatmap"
           }
          ],
          "heatmapgl": [
           {
            "colorbar": {
             "outlinewidth": 0,
             "ticks": ""
            },
            "colorscale": [
             [
              0,
              "#0d0887"
             ],
             [
              0.1111111111111111,
              "#46039f"
             ],
             [
              0.2222222222222222,
              "#7201a8"
             ],
             [
              0.3333333333333333,
              "#9c179e"
             ],
             [
              0.4444444444444444,
              "#bd3786"
             ],
             [
              0.5555555555555556,
              "#d8576b"
             ],
             [
              0.6666666666666666,
              "#ed7953"
             ],
             [
              0.7777777777777778,
              "#fb9f3a"
             ],
             [
              0.8888888888888888,
              "#fdca26"
             ],
             [
              1,
              "#f0f921"
             ]
            ],
            "type": "heatmapgl"
           }
          ],
          "histogram": [
           {
            "marker": {
             "pattern": {
              "fillmode": "overlay",
              "size": 10,
              "solidity": 0.2
             }
            },
            "type": "histogram"
           }
          ],
          "histogram2d": [
           {
            "colorbar": {
             "outlinewidth": 0,
             "ticks": ""
            },
            "colorscale": [
             [
              0,
              "#0d0887"
             ],
             [
              0.1111111111111111,
              "#46039f"
             ],
             [
              0.2222222222222222,
              "#7201a8"
             ],
             [
              0.3333333333333333,
              "#9c179e"
             ],
             [
              0.4444444444444444,
              "#bd3786"
             ],
             [
              0.5555555555555556,
              "#d8576b"
             ],
             [
              0.6666666666666666,
              "#ed7953"
             ],
             [
              0.7777777777777778,
              "#fb9f3a"
             ],
             [
              0.8888888888888888,
              "#fdca26"
             ],
             [
              1,
              "#f0f921"
             ]
            ],
            "type": "histogram2d"
           }
          ],
          "histogram2dcontour": [
           {
            "colorbar": {
             "outlinewidth": 0,
             "ticks": ""
            },
            "colorscale": [
             [
              0,
              "#0d0887"
             ],
             [
              0.1111111111111111,
              "#46039f"
             ],
             [
              0.2222222222222222,
              "#7201a8"
             ],
             [
              0.3333333333333333,
              "#9c179e"
             ],
             [
              0.4444444444444444,
              "#bd3786"
             ],
             [
              0.5555555555555556,
              "#d8576b"
             ],
             [
              0.6666666666666666,
              "#ed7953"
             ],
             [
              0.7777777777777778,
              "#fb9f3a"
             ],
             [
              0.8888888888888888,
              "#fdca26"
             ],
             [
              1,
              "#f0f921"
             ]
            ],
            "type": "histogram2dcontour"
           }
          ],
          "mesh3d": [
           {
            "colorbar": {
             "outlinewidth": 0,
             "ticks": ""
            },
            "type": "mesh3d"
           }
          ],
          "parcoords": [
           {
            "line": {
             "colorbar": {
              "outlinewidth": 0,
              "ticks": ""
             }
            },
            "type": "parcoords"
           }
          ],
          "pie": [
           {
            "automargin": true,
            "type": "pie"
           }
          ],
          "scatter": [
           {
            "marker": {
             "line": {
              "color": "#283442"
             }
            },
            "type": "scatter"
           }
          ],
          "scatter3d": [
           {
            "line": {
             "colorbar": {
              "outlinewidth": 0,
              "ticks": ""
             }
            },
            "marker": {
             "colorbar": {
              "outlinewidth": 0,
              "ticks": ""
             }
            },
            "type": "scatter3d"
           }
          ],
          "scattercarpet": [
           {
            "marker": {
             "colorbar": {
              "outlinewidth": 0,
              "ticks": ""
             }
            },
            "type": "scattercarpet"
           }
          ],
          "scattergeo": [
           {
            "marker": {
             "colorbar": {
              "outlinewidth": 0,
              "ticks": ""
             }
            },
            "type": "scattergeo"
           }
          ],
          "scattergl": [
           {
            "marker": {
             "line": {
              "color": "#283442"
             }
            },
            "type": "scattergl"
           }
          ],
          "scattermapbox": [
           {
            "marker": {
             "colorbar": {
              "outlinewidth": 0,
              "ticks": ""
             }
            },
            "type": "scattermapbox"
           }
          ],
          "scatterpolar": [
           {
            "marker": {
             "colorbar": {
              "outlinewidth": 0,
              "ticks": ""
             }
            },
            "type": "scatterpolar"
           }
          ],
          "scatterpolargl": [
           {
            "marker": {
             "colorbar": {
              "outlinewidth": 0,
              "ticks": ""
             }
            },
            "type": "scatterpolargl"
           }
          ],
          "scatterternary": [
           {
            "marker": {
             "colorbar": {
              "outlinewidth": 0,
              "ticks": ""
             }
            },
            "type": "scatterternary"
           }
          ],
          "surface": [
           {
            "colorbar": {
             "outlinewidth": 0,
             "ticks": ""
            },
            "colorscale": [
             [
              0,
              "#0d0887"
             ],
             [
              0.1111111111111111,
              "#46039f"
             ],
             [
              0.2222222222222222,
              "#7201a8"
             ],
             [
              0.3333333333333333,
              "#9c179e"
             ],
             [
              0.4444444444444444,
              "#bd3786"
             ],
             [
              0.5555555555555556,
              "#d8576b"
             ],
             [
              0.6666666666666666,
              "#ed7953"
             ],
             [
              0.7777777777777778,
              "#fb9f3a"
             ],
             [
              0.8888888888888888,
              "#fdca26"
             ],
             [
              1,
              "#f0f921"
             ]
            ],
            "type": "surface"
           }
          ],
          "table": [
           {
            "cells": {
             "fill": {
              "color": "#506784"
             },
             "line": {
              "color": "rgb(17,17,17)"
             }
            },
            "header": {
             "fill": {
              "color": "#2a3f5f"
             },
             "line": {
              "color": "rgb(17,17,17)"
             }
            },
            "type": "table"
           }
          ]
         },
         "layout": {
          "annotationdefaults": {
           "arrowcolor": "#f2f5fa",
           "arrowhead": 0,
           "arrowwidth": 1
          },
          "autotypenumbers": "strict",
          "coloraxis": {
           "colorbar": {
            "outlinewidth": 0,
            "ticks": ""
           }
          },
          "colorscale": {
           "diverging": [
            [
             0,
             "#8e0152"
            ],
            [
             0.1,
             "#c51b7d"
            ],
            [
             0.2,
             "#de77ae"
            ],
            [
             0.3,
             "#f1b6da"
            ],
            [
             0.4,
             "#fde0ef"
            ],
            [
             0.5,
             "#f7f7f7"
            ],
            [
             0.6,
             "#e6f5d0"
            ],
            [
             0.7,
             "#b8e186"
            ],
            [
             0.8,
             "#7fbc41"
            ],
            [
             0.9,
             "#4d9221"
            ],
            [
             1,
             "#276419"
            ]
           ],
           "sequential": [
            [
             0,
             "#0d0887"
            ],
            [
             0.1111111111111111,
             "#46039f"
            ],
            [
             0.2222222222222222,
             "#7201a8"
            ],
            [
             0.3333333333333333,
             "#9c179e"
            ],
            [
             0.4444444444444444,
             "#bd3786"
            ],
            [
             0.5555555555555556,
             "#d8576b"
            ],
            [
             0.6666666666666666,
             "#ed7953"
            ],
            [
             0.7777777777777778,
             "#fb9f3a"
            ],
            [
             0.8888888888888888,
             "#fdca26"
            ],
            [
             1,
             "#f0f921"
            ]
           ],
           "sequentialminus": [
            [
             0,
             "#0d0887"
            ],
            [
             0.1111111111111111,
             "#46039f"
            ],
            [
             0.2222222222222222,
             "#7201a8"
            ],
            [
             0.3333333333333333,
             "#9c179e"
            ],
            [
             0.4444444444444444,
             "#bd3786"
            ],
            [
             0.5555555555555556,
             "#d8576b"
            ],
            [
             0.6666666666666666,
             "#ed7953"
            ],
            [
             0.7777777777777778,
             "#fb9f3a"
            ],
            [
             0.8888888888888888,
             "#fdca26"
            ],
            [
             1,
             "#f0f921"
            ]
           ]
          },
          "colorway": [
           "#636efa",
           "#EF553B",
           "#00cc96",
           "#ab63fa",
           "#FFA15A",
           "#19d3f3",
           "#FF6692",
           "#B6E880",
           "#FF97FF",
           "#FECB52"
          ],
          "font": {
           "color": "#f2f5fa"
          },
          "geo": {
           "bgcolor": "rgb(17,17,17)",
           "lakecolor": "rgb(17,17,17)",
           "landcolor": "rgb(17,17,17)",
           "showlakes": true,
           "showland": true,
           "subunitcolor": "#506784"
          },
          "hoverlabel": {
           "align": "left"
          },
          "hovermode": "closest",
          "mapbox": {
           "style": "dark"
          },
          "paper_bgcolor": "rgb(17,17,17)",
          "plot_bgcolor": "rgb(17,17,17)",
          "polar": {
           "angularaxis": {
            "gridcolor": "#506784",
            "linecolor": "#506784",
            "ticks": ""
           },
           "bgcolor": "rgb(17,17,17)",
           "radialaxis": {
            "gridcolor": "#506784",
            "linecolor": "#506784",
            "ticks": ""
           }
          },
          "scene": {
           "xaxis": {
            "backgroundcolor": "rgb(17,17,17)",
            "gridcolor": "#506784",
            "gridwidth": 2,
            "linecolor": "#506784",
            "showbackground": true,
            "ticks": "",
            "zerolinecolor": "#C8D4E3"
           },
           "yaxis": {
            "backgroundcolor": "rgb(17,17,17)",
            "gridcolor": "#506784",
            "gridwidth": 2,
            "linecolor": "#506784",
            "showbackground": true,
            "ticks": "",
            "zerolinecolor": "#C8D4E3"
           },
           "zaxis": {
            "backgroundcolor": "rgb(17,17,17)",
            "gridcolor": "#506784",
            "gridwidth": 2,
            "linecolor": "#506784",
            "showbackground": true,
            "ticks": "",
            "zerolinecolor": "#C8D4E3"
           }
          },
          "shapedefaults": {
           "line": {
            "color": "#f2f5fa"
           }
          },
          "sliderdefaults": {
           "bgcolor": "#C8D4E3",
           "bordercolor": "rgb(17,17,17)",
           "borderwidth": 1,
           "tickwidth": 0
          },
          "ternary": {
           "aaxis": {
            "gridcolor": "#506784",
            "linecolor": "#506784",
            "ticks": ""
           },
           "baxis": {
            "gridcolor": "#506784",
            "linecolor": "#506784",
            "ticks": ""
           },
           "bgcolor": "rgb(17,17,17)",
           "caxis": {
            "gridcolor": "#506784",
            "linecolor": "#506784",
            "ticks": ""
           }
          },
          "title": {
           "x": 0.05
          },
          "updatemenudefaults": {
           "bgcolor": "#506784",
           "borderwidth": 0
          },
          "xaxis": {
           "automargin": true,
           "gridcolor": "#283442",
           "linecolor": "#506784",
           "ticks": "",
           "title": {
            "standoff": 15
           },
           "zerolinecolor": "#283442",
           "zerolinewidth": 2
          },
          "yaxis": {
           "automargin": true,
           "gridcolor": "#283442",
           "linecolor": "#506784",
           "ticks": "",
           "title": {
            "standoff": 15
           },
           "zerolinecolor": "#283442",
           "zerolinewidth": 2
          }
         }
        },
        "title": {
         "text": "Pedestrians involed Accidents in 2021",
         "x": 0.4
        },
        "width": 900,
        "xaxis": {
         "anchor": "y",
         "domain": [
          0,
          1
         ],
         "title": {
          "text": "County"
         }
        },
        "yaxis": {
         "anchor": "x",
         "domain": [
          0,
          1
         ],
         "title": {
          "text": "Fatals & Pedestrians"
         }
        }
       }
      },
      "text/html": [
       "<div>                            <div id=\"96cb4347-375e-4bd2-8615-ef9b24a02db4\" class=\"plotly-graph-div\" style=\"height:500px; width:900px;\"></div>            <script type=\"text/javascript\">                require([\"plotly\"], function(Plotly) {                    window.PLOTLYENV=window.PLOTLYENV || {};                                    if (document.getElementById(\"96cb4347-375e-4bd2-8615-ef9b24a02db4\")) {                    Plotly.newPlot(                        \"96cb4347-375e-4bd2-8615-ef9b24a02db4\",                        [{\"hovertemplate\":\"variable=FATALS<br>COUNTYNAME=%{x}<br>value=%{y}<extra></extra>\",\"legendgroup\":\"FATALS\",\"line\":{\"color\":\"#F2CC8F\",\"dash\":\"solid\"},\"marker\":{\"symbol\":\"circle\"},\"mode\":\"lines\",\"name\":\"FATALS\",\"orientation\":\"v\",\"showlegend\":true,\"x\":[\"MECKLENBURG \",\"GUILFORD \",\"WAKE \",\"ROBESON \",\"CUMBERLAND \",\"FORSYTH \",\"DAVIDSON \",\"JOHNSTON \",\"CATAWBA \",\"HARNETT \",\"RANDOLPH \",\"ROWAN \",\"DUPLIN \",\"SCOTLAND \",\"ONSLOW \",\"PITT \",\"NEW HANOVER \",\"LENOIR \",\"CABARRUS \",\"UNION \",\"BUNCOMBE \",\"BRUNSWICK \",\"MOORE \",\"COLUMBUS \",\"IREDELL \",\"DURHAM \",\"GASTON \",\"NASH \",\"ORANGE \",\"ALAMANCE \",\"ROCKINGHAM \",\"GRANVILLE \",\"SAMPSON \",\"HALIFAX \",\"WILKES \",\"VANCE \",\"WILSON \",\"HENDERSON \",\"CHATHAM \",\"SURRY \",\"WAYNE \",\"CRAVEN \",\"HOKE \",\"PENDER \",\"CLEVELAND \",\"LEE \",\"EDGECOMBE \",\"RUTHERFORD \",\"LINCOLN \",\"RICHMOND \",\"STANLY \",\"BLADEN \",\"FRANKLIN \",\"CALDWELL \",\"PASQUOTANK \",\"BURKE \",\"WARREN \",\"YADKIN \",\"HAYWOOD \",\"HERTFORD \",\"JACKSON \",\"CARTERET \",\"MCDOWELL \",\"MONTGOMERY \",\"BERTIE \",\"ALEXANDER \",\"PERSON \",\"CURRITUCK \",\"GREENE \",\"ASHE \",\"NORTHAMPTON \",\"DARE \",\"STOKES \",\"ANSON \",\"BEAUFORT \",\"DAVIE \",\"GRAHAM \",\"POLK \",\"CLAY \",\"SWAIN \",\"WATAUGA \",\"CHEROKEE \",\"JONES \",\"MACON \",\"MADISON \",\"MARTIN \",\"PERQUIMANS \",\"TRANSYLVANIA \",\"ALLEGHANY \",\"CASWELL \",\"GATES \",\"MITCHELL \",\"PAMLICO \",\"WASHINGTON \",\"AVERY \",\"CAMDEN \",\"TYRRELL \"],\"xaxis\":\"x\",\"y\":[116,88,85,61,53,47,39,39,37,36,32,31,29,28,27,27,26,26,24,24,23,23,23,23,22,22,22,21,19,18,18,18,18,17,17,17,16,16,16,16,16,15,15,14,14,14,14,13,13,12,12,12,12,11,11,10,10,10,9,9,9,8,8,8,8,7,7,6,6,6,6,5,5,5,5,5,4,4,3,3,3,3,3,3,3,3,3,3,2,2,2,2,2,2,1,1,1],\"yaxis\":\"y\",\"type\":\"scatter\"},{\"hovertemplate\":\"variable=PEDS<br>COUNTYNAME=%{x}<br>value=%{y}<extra></extra>\",\"legendgroup\":\"PEDS\",\"line\":{\"color\":\"#033F63\",\"dash\":\"solid\"},\"marker\":{\"symbol\":\"circle\"},\"mode\":\"lines\",\"name\":\"PEDS\",\"orientation\":\"v\",\"showlegend\":true,\"x\":[\"MECKLENBURG \",\"GUILFORD \",\"WAKE \",\"ROBESON \",\"CUMBERLAND \",\"FORSYTH \",\"DAVIDSON \",\"JOHNSTON \",\"CATAWBA \",\"HARNETT \",\"RANDOLPH \",\"ROWAN \",\"DUPLIN \",\"SCOTLAND \",\"ONSLOW \",\"PITT \",\"NEW HANOVER \",\"LENOIR \",\"CABARRUS \",\"UNION \",\"BUNCOMBE \",\"BRUNSWICK \",\"MOORE \",\"COLUMBUS \",\"IREDELL \",\"DURHAM \",\"GASTON \",\"NASH \",\"ORANGE \",\"ALAMANCE \",\"ROCKINGHAM \",\"GRANVILLE \",\"SAMPSON \",\"HALIFAX \",\"WILKES \",\"VANCE \",\"WILSON \",\"HENDERSON \",\"CHATHAM \",\"SURRY \",\"WAYNE \",\"CRAVEN \",\"HOKE \",\"PENDER \",\"CLEVELAND \",\"LEE \",\"EDGECOMBE \",\"RUTHERFORD \",\"LINCOLN \",\"RICHMOND \",\"STANLY \",\"BLADEN \",\"FRANKLIN \",\"CALDWELL \",\"PASQUOTANK \",\"BURKE \",\"WARREN \",\"YADKIN \",\"HAYWOOD \",\"HERTFORD \",\"JACKSON \",\"CARTERET \",\"MCDOWELL \",\"MONTGOMERY \",\"BERTIE \",\"ALEXANDER \",\"PERSON \",\"CURRITUCK \",\"GREENE \",\"ASHE \",\"NORTHAMPTON \",\"DARE \",\"STOKES \",\"ANSON \",\"BEAUFORT \",\"DAVIE \",\"GRAHAM \",\"POLK \",\"CLAY \",\"SWAIN \",\"WATAUGA \",\"CHEROKEE \",\"JONES \",\"MACON \",\"MADISON \",\"MARTIN \",\"PERQUIMANS \",\"TRANSYLVANIA \",\"ALLEGHANY \",\"CASWELL \",\"GATES \",\"MITCHELL \",\"PAMLICO \",\"WASHINGTON \",\"AVERY \",\"CAMDEN \",\"TYRRELL \"],\"xaxis\":\"x\",\"y\":[33,21,14,5,10,11,7,7,5,8,5,7,1,4,7,3,10,5,7,2,9,6,4,3,4,3,1,4,3,4,4,3,0,4,2,1,5,4,2,1,0,5,2,5,2,2,1,3,0,4,2,1,1,2,1,3,1,0,3,0,0,3,1,1,0,0,0,2,1,0,0,2,1,0,0,0,0,0,1,1,1,0,0,0,0,0,0,0,1,0,0,0,0,0,0,0,0],\"yaxis\":\"y\",\"type\":\"scatter\"}],                        {\"template\":{\"data\":{\"barpolar\":[{\"marker\":{\"line\":{\"color\":\"rgb(17,17,17)\",\"width\":0.5},\"pattern\":{\"fillmode\":\"overlay\",\"size\":10,\"solidity\":0.2}},\"type\":\"barpolar\"}],\"bar\":[{\"error_x\":{\"color\":\"#f2f5fa\"},\"error_y\":{\"color\":\"#f2f5fa\"},\"marker\":{\"line\":{\"color\":\"rgb(17,17,17)\",\"width\":0.5},\"pattern\":{\"fillmode\":\"overlay\",\"size\":10,\"solidity\":0.2}},\"type\":\"bar\"}],\"carpet\":[{\"aaxis\":{\"endlinecolor\":\"#A2B1C6\",\"gridcolor\":\"#506784\",\"linecolor\":\"#506784\",\"minorgridcolor\":\"#506784\",\"startlinecolor\":\"#A2B1C6\"},\"baxis\":{\"endlinecolor\":\"#A2B1C6\",\"gridcolor\":\"#506784\",\"linecolor\":\"#506784\",\"minorgridcolor\":\"#506784\",\"startlinecolor\":\"#A2B1C6\"},\"type\":\"carpet\"}],\"choropleth\":[{\"colorbar\":{\"outlinewidth\":0,\"ticks\":\"\"},\"type\":\"choropleth\"}],\"contourcarpet\":[{\"colorbar\":{\"outlinewidth\":0,\"ticks\":\"\"},\"type\":\"contourcarpet\"}],\"contour\":[{\"colorbar\":{\"outlinewidth\":0,\"ticks\":\"\"},\"colorscale\":[[0.0,\"#0d0887\"],[0.1111111111111111,\"#46039f\"],[0.2222222222222222,\"#7201a8\"],[0.3333333333333333,\"#9c179e\"],[0.4444444444444444,\"#bd3786\"],[0.5555555555555556,\"#d8576b\"],[0.6666666666666666,\"#ed7953\"],[0.7777777777777778,\"#fb9f3a\"],[0.8888888888888888,\"#fdca26\"],[1.0,\"#f0f921\"]],\"type\":\"contour\"}],\"heatmapgl\":[{\"colorbar\":{\"outlinewidth\":0,\"ticks\":\"\"},\"colorscale\":[[0.0,\"#0d0887\"],[0.1111111111111111,\"#46039f\"],[0.2222222222222222,\"#7201a8\"],[0.3333333333333333,\"#9c179e\"],[0.4444444444444444,\"#bd3786\"],[0.5555555555555556,\"#d8576b\"],[0.6666666666666666,\"#ed7953\"],[0.7777777777777778,\"#fb9f3a\"],[0.8888888888888888,\"#fdca26\"],[1.0,\"#f0f921\"]],\"type\":\"heatmapgl\"}],\"heatmap\":[{\"colorbar\":{\"outlinewidth\":0,\"ticks\":\"\"},\"colorscale\":[[0.0,\"#0d0887\"],[0.1111111111111111,\"#46039f\"],[0.2222222222222222,\"#7201a8\"],[0.3333333333333333,\"#9c179e\"],[0.4444444444444444,\"#bd3786\"],[0.5555555555555556,\"#d8576b\"],[0.6666666666666666,\"#ed7953\"],[0.7777777777777778,\"#fb9f3a\"],[0.8888888888888888,\"#fdca26\"],[1.0,\"#f0f921\"]],\"type\":\"heatmap\"}],\"histogram2dcontour\":[{\"colorbar\":{\"outlinewidth\":0,\"ticks\":\"\"},\"colorscale\":[[0.0,\"#0d0887\"],[0.1111111111111111,\"#46039f\"],[0.2222222222222222,\"#7201a8\"],[0.3333333333333333,\"#9c179e\"],[0.4444444444444444,\"#bd3786\"],[0.5555555555555556,\"#d8576b\"],[0.6666666666666666,\"#ed7953\"],[0.7777777777777778,\"#fb9f3a\"],[0.8888888888888888,\"#fdca26\"],[1.0,\"#f0f921\"]],\"type\":\"histogram2dcontour\"}],\"histogram2d\":[{\"colorbar\":{\"outlinewidth\":0,\"ticks\":\"\"},\"colorscale\":[[0.0,\"#0d0887\"],[0.1111111111111111,\"#46039f\"],[0.2222222222222222,\"#7201a8\"],[0.3333333333333333,\"#9c179e\"],[0.4444444444444444,\"#bd3786\"],[0.5555555555555556,\"#d8576b\"],[0.6666666666666666,\"#ed7953\"],[0.7777777777777778,\"#fb9f3a\"],[0.8888888888888888,\"#fdca26\"],[1.0,\"#f0f921\"]],\"type\":\"histogram2d\"}],\"histogram\":[{\"marker\":{\"pattern\":{\"fillmode\":\"overlay\",\"size\":10,\"solidity\":0.2}},\"type\":\"histogram\"}],\"mesh3d\":[{\"colorbar\":{\"outlinewidth\":0,\"ticks\":\"\"},\"type\":\"mesh3d\"}],\"parcoords\":[{\"line\":{\"colorbar\":{\"outlinewidth\":0,\"ticks\":\"\"}},\"type\":\"parcoords\"}],\"pie\":[{\"automargin\":true,\"type\":\"pie\"}],\"scatter3d\":[{\"line\":{\"colorbar\":{\"outlinewidth\":0,\"ticks\":\"\"}},\"marker\":{\"colorbar\":{\"outlinewidth\":0,\"ticks\":\"\"}},\"type\":\"scatter3d\"}],\"scattercarpet\":[{\"marker\":{\"colorbar\":{\"outlinewidth\":0,\"ticks\":\"\"}},\"type\":\"scattercarpet\"}],\"scattergeo\":[{\"marker\":{\"colorbar\":{\"outlinewidth\":0,\"ticks\":\"\"}},\"type\":\"scattergeo\"}],\"scattergl\":[{\"marker\":{\"line\":{\"color\":\"#283442\"}},\"type\":\"scattergl\"}],\"scattermapbox\":[{\"marker\":{\"colorbar\":{\"outlinewidth\":0,\"ticks\":\"\"}},\"type\":\"scattermapbox\"}],\"scatterpolargl\":[{\"marker\":{\"colorbar\":{\"outlinewidth\":0,\"ticks\":\"\"}},\"type\":\"scatterpolargl\"}],\"scatterpolar\":[{\"marker\":{\"colorbar\":{\"outlinewidth\":0,\"ticks\":\"\"}},\"type\":\"scatterpolar\"}],\"scatter\":[{\"marker\":{\"line\":{\"color\":\"#283442\"}},\"type\":\"scatter\"}],\"scatterternary\":[{\"marker\":{\"colorbar\":{\"outlinewidth\":0,\"ticks\":\"\"}},\"type\":\"scatterternary\"}],\"surface\":[{\"colorbar\":{\"outlinewidth\":0,\"ticks\":\"\"},\"colorscale\":[[0.0,\"#0d0887\"],[0.1111111111111111,\"#46039f\"],[0.2222222222222222,\"#7201a8\"],[0.3333333333333333,\"#9c179e\"],[0.4444444444444444,\"#bd3786\"],[0.5555555555555556,\"#d8576b\"],[0.6666666666666666,\"#ed7953\"],[0.7777777777777778,\"#fb9f3a\"],[0.8888888888888888,\"#fdca26\"],[1.0,\"#f0f921\"]],\"type\":\"surface\"}],\"table\":[{\"cells\":{\"fill\":{\"color\":\"#506784\"},\"line\":{\"color\":\"rgb(17,17,17)\"}},\"header\":{\"fill\":{\"color\":\"#2a3f5f\"},\"line\":{\"color\":\"rgb(17,17,17)\"}},\"type\":\"table\"}]},\"layout\":{\"annotationdefaults\":{\"arrowcolor\":\"#f2f5fa\",\"arrowhead\":0,\"arrowwidth\":1},\"autotypenumbers\":\"strict\",\"coloraxis\":{\"colorbar\":{\"outlinewidth\":0,\"ticks\":\"\"}},\"colorscale\":{\"diverging\":[[0,\"#8e0152\"],[0.1,\"#c51b7d\"],[0.2,\"#de77ae\"],[0.3,\"#f1b6da\"],[0.4,\"#fde0ef\"],[0.5,\"#f7f7f7\"],[0.6,\"#e6f5d0\"],[0.7,\"#b8e186\"],[0.8,\"#7fbc41\"],[0.9,\"#4d9221\"],[1,\"#276419\"]],\"sequential\":[[0.0,\"#0d0887\"],[0.1111111111111111,\"#46039f\"],[0.2222222222222222,\"#7201a8\"],[0.3333333333333333,\"#9c179e\"],[0.4444444444444444,\"#bd3786\"],[0.5555555555555556,\"#d8576b\"],[0.6666666666666666,\"#ed7953\"],[0.7777777777777778,\"#fb9f3a\"],[0.8888888888888888,\"#fdca26\"],[1.0,\"#f0f921\"]],\"sequentialminus\":[[0.0,\"#0d0887\"],[0.1111111111111111,\"#46039f\"],[0.2222222222222222,\"#7201a8\"],[0.3333333333333333,\"#9c179e\"],[0.4444444444444444,\"#bd3786\"],[0.5555555555555556,\"#d8576b\"],[0.6666666666666666,\"#ed7953\"],[0.7777777777777778,\"#fb9f3a\"],[0.8888888888888888,\"#fdca26\"],[1.0,\"#f0f921\"]]},\"colorway\":[\"#636efa\",\"#EF553B\",\"#00cc96\",\"#ab63fa\",\"#FFA15A\",\"#19d3f3\",\"#FF6692\",\"#B6E880\",\"#FF97FF\",\"#FECB52\"],\"font\":{\"color\":\"#f2f5fa\"},\"geo\":{\"bgcolor\":\"rgb(17,17,17)\",\"lakecolor\":\"rgb(17,17,17)\",\"landcolor\":\"rgb(17,17,17)\",\"showlakes\":true,\"showland\":true,\"subunitcolor\":\"#506784\"},\"hoverlabel\":{\"align\":\"left\"},\"hovermode\":\"closest\",\"mapbox\":{\"style\":\"dark\"},\"paper_bgcolor\":\"rgb(17,17,17)\",\"plot_bgcolor\":\"rgb(17,17,17)\",\"polar\":{\"angularaxis\":{\"gridcolor\":\"#506784\",\"linecolor\":\"#506784\",\"ticks\":\"\"},\"bgcolor\":\"rgb(17,17,17)\",\"radialaxis\":{\"gridcolor\":\"#506784\",\"linecolor\":\"#506784\",\"ticks\":\"\"}},\"scene\":{\"xaxis\":{\"backgroundcolor\":\"rgb(17,17,17)\",\"gridcolor\":\"#506784\",\"gridwidth\":2,\"linecolor\":\"#506784\",\"showbackground\":true,\"ticks\":\"\",\"zerolinecolor\":\"#C8D4E3\"},\"yaxis\":{\"backgroundcolor\":\"rgb(17,17,17)\",\"gridcolor\":\"#506784\",\"gridwidth\":2,\"linecolor\":\"#506784\",\"showbackground\":true,\"ticks\":\"\",\"zerolinecolor\":\"#C8D4E3\"},\"zaxis\":{\"backgroundcolor\":\"rgb(17,17,17)\",\"gridcolor\":\"#506784\",\"gridwidth\":2,\"linecolor\":\"#506784\",\"showbackground\":true,\"ticks\":\"\",\"zerolinecolor\":\"#C8D4E3\"}},\"shapedefaults\":{\"line\":{\"color\":\"#f2f5fa\"}},\"sliderdefaults\":{\"bgcolor\":\"#C8D4E3\",\"bordercolor\":\"rgb(17,17,17)\",\"borderwidth\":1,\"tickwidth\":0},\"ternary\":{\"aaxis\":{\"gridcolor\":\"#506784\",\"linecolor\":\"#506784\",\"ticks\":\"\"},\"baxis\":{\"gridcolor\":\"#506784\",\"linecolor\":\"#506784\",\"ticks\":\"\"},\"bgcolor\":\"rgb(17,17,17)\",\"caxis\":{\"gridcolor\":\"#506784\",\"linecolor\":\"#506784\",\"ticks\":\"\"}},\"title\":{\"x\":0.05},\"updatemenudefaults\":{\"bgcolor\":\"#506784\",\"borderwidth\":0},\"xaxis\":{\"automargin\":true,\"gridcolor\":\"#283442\",\"linecolor\":\"#506784\",\"ticks\":\"\",\"title\":{\"standoff\":15},\"zerolinecolor\":\"#283442\",\"zerolinewidth\":2},\"yaxis\":{\"automargin\":true,\"gridcolor\":\"#283442\",\"linecolor\":\"#506784\",\"ticks\":\"\",\"title\":{\"standoff\":15},\"zerolinecolor\":\"#283442\",\"zerolinewidth\":2}}},\"xaxis\":{\"anchor\":\"y\",\"domain\":[0.0,1.0],\"title\":{\"text\":\"County\"}},\"yaxis\":{\"anchor\":\"x\",\"domain\":[0.0,1.0],\"title\":{\"text\":\"Fatals & Pedestrians\"}},\"legend\":{\"title\":{\"text\":\"variable\"},\"tracegroupgap\":0},\"margin\":{\"t\":60},\"title\":{\"text\":\"Pedestrians involed Accidents in 2021\",\"x\":0.4},\"width\":900,\"height\":500},                        {\"responsive\": true}                    ).then(function(){\n",
       "                            \n",
       "var gd = document.getElementById('96cb4347-375e-4bd2-8615-ef9b24a02db4');\n",
       "var x = new MutationObserver(function (mutations, observer) {{\n",
       "        var display = window.getComputedStyle(gd).display;\n",
       "        if (!display || display === 'none') {{\n",
       "            console.log([gd, 'removed!']);\n",
       "            Plotly.purge(gd);\n",
       "            observer.disconnect();\n",
       "        }}\n",
       "}});\n",
       "\n",
       "// Listen for the removal of the full notebook cells\n",
       "var notebookContainer = gd.closest('#notebook-container');\n",
       "if (notebookContainer) {{\n",
       "    x.observe(notebookContainer, {childList: true});\n",
       "}}\n",
       "\n",
       "// Listen for the clearing of the current output cell\n",
       "var outputEl = gd.closest('.output');\n",
       "if (outputEl) {{\n",
       "    x.observe(outputEl, {childList: true});\n",
       "}}\n",
       "\n",
       "                        })                };                });            </script>        </div>"
      ]
     },
     "metadata": {},
     "output_type": "display_data"
    }
   ],
   "source": [
    "fig = px.line(df1, x = 'COUNTYNAME',y=['FATALS','PEDS'])\n",
    "\n",
    "fig['data'][0]['line']['color']=\"#F2CC8F\"\n",
    "fig['data'][1]['line']['color']=\"#033F63\"\n",
    "\n",
    "fig.update_layout(\n",
    "    title = 'Pedestrians involed Accidents in 2021',\n",
    "    width = 900,\n",
    "    height = 500,   \n",
    "    xaxis_title = 'County',\n",
    "    yaxis_title = 'Fatals & Pedestrians',\n",
    "#     template=\"simple_white\"\n",
    "    title_x =.4,template ='plotly_dark')\n",
    "fig.show()\n",
    "\n",
    "fig.write_html('Resources/multiline_months.html')   \n"
   ]
  },
  {
   "cell_type": "code",
   "execution_count": null,
   "id": "be524054",
   "metadata": {},
   "outputs": [],
   "source": [
    "\n"
   ]
  },
  {
   "cell_type": "code",
   "execution_count": null,
   "id": "0af22250",
   "metadata": {},
   "outputs": [],
   "source": []
  }
 ],
 "metadata": {
  "kernelspec": {
   "display_name": "Python 3 (ipykernel)",
   "language": "python",
   "name": "python3"
  },
  "language_info": {
   "codemirror_mode": {
    "name": "ipython",
    "version": 3
   },
   "file_extension": ".py",
   "mimetype": "text/x-python",
   "name": "python",
   "nbconvert_exporter": "python",
   "pygments_lexer": "ipython3",
   "version": "3.10.13"
  }
 },
 "nbformat": 4,
 "nbformat_minor": 5
}
